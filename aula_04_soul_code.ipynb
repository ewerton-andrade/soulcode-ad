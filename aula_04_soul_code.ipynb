{
  "nbformat": 4,
  "nbformat_minor": 0,
  "metadata": {
    "colab": {
      "provenance": [],
      "include_colab_link": true
    },
    "kernelspec": {
      "name": "python3",
      "display_name": "Python 3"
    },
    "language_info": {
      "name": "python"
    }
  },
  "cells": [
    {
      "cell_type": "markdown",
      "metadata": {
        "id": "view-in-github",
        "colab_type": "text"
      },
      "source": [
        "<a href=\"https://colab.research.google.com/github/ewerton-andrade/soulcode-ad/blob/main/aula_04_soul_code.ipynb\" target=\"_parent\"><img src=\"https://colab.research.google.com/assets/colab-badge.svg\" alt=\"Open In Colab\"/></a>"
      ]
    },
    {
      "cell_type": "markdown",
      "source": [
        "# **Introdução ao Python**"
      ],
      "metadata": {
        "id": "uc-fkUZRI7jq"
      }
    },
    {
      "cell_type": "markdown",
      "source": [
        "Escola: SoulCode Academy\n",
        "\n",
        "Curso: Analista de Dados e Dashboards\n",
        "\n",
        "Período: Noturno\n",
        "\n",
        "Assunto: Python\n",
        "\n",
        "Professor: Franciane Rodrigues\n",
        "\n",
        "Aluna: Ewerton Lima de Andrade"
      ],
      "metadata": {
        "id": "FEPWx5SVgdbS"
      }
    },
    {
      "cell_type": "markdown",
      "source": [
        "## **Coletando informações do usuário**"
      ],
      "metadata": {
        "id": "PtNuvtAaBb9N"
      }
    },
    {
      "cell_type": "code",
      "execution_count": null,
      "metadata": {
        "id": "g4M4N_DNAhVo"
      },
      "outputs": [],
      "source": [
        "# Coletando informações do usuário com input\n",
        "nome = input('Digite seu nome: ')\n",
        "print('O nome digitado é: ', nome)"
      ]
    },
    {
      "cell_type": "code",
      "source": [
        "# Coletando informações numéricas do usuário com input\n",
        "idade = int(input('Informe sua idade: '))\n",
        "print('A idade digitado é: ', idade)"
      ],
      "metadata": {
        "id": "_7oitn-qC4AI"
      },
      "execution_count": null,
      "outputs": []
    },
    {
      "cell_type": "code",
      "source": [
        "# Coletando informações numéricas do usuário com input\n",
        "peso = int(input('Informe seu peso: '))\n",
        "print('O peso digitado é: ', peso, 'kg')"
      ],
      "metadata": {
        "id": "YgPHFnVFEst-"
      },
      "execution_count": null,
      "outputs": []
    },
    {
      "cell_type": "code",
      "source": [
        "# Coletando informações numéricas do usuário com input\n",
        "altura = float(input('Informe sua altura: '))\n",
        "print('Sua altura é: ', altura, 'metros')"
      ],
      "metadata": {
        "id": "KjCXz2NkFo2K"
      },
      "execution_count": null,
      "outputs": []
    },
    {
      "cell_type": "code",
      "source": [
        "# Crie um código que calcule o IMC  e imprima o resultado na tela.\n",
        "nome = input('Digite seu nome: ')\n",
        "peso = int(input('Informe seu peso: '))\n",
        "altura = float(input('Informe sua altura: '))\n",
        "\n",
        "# calculando o IMC\n",
        "imc = peso / altura ** 2\n",
        "\n",
        "# Imprimindo na tela\n",
        "print(f'{nome}, seu imc é: {imc:.2f}')"
      ],
      "metadata": {
        "id": "zPEPOhr_G7S9"
      },
      "execution_count": null,
      "outputs": []
    },
    {
      "cell_type": "code",
      "source": [
        "# Outra forma de escrever o resultado\n",
        "print(nome , ', seu imc é:',  round(imc,2))\n",
        "print(nome + ', seu imc é:', imc)\n",
        "print(nome + ', seu imc é:' + str(imc)) # concatenação de strings"
      ],
      "metadata": {
        "id": "8jD2IGsKJIeo"
      },
      "execution_count": null,
      "outputs": []
    },
    {
      "cell_type": "markdown",
      "source": [
        "## **String - Encontrando um caracter pelo índice**"
      ],
      "metadata": {
        "id": "aFt0lm7rSre-"
      }
    },
    {
      "cell_type": "code",
      "source": [
        "# Definindo uma string\n",
        "nome = 'Franciane'"
      ],
      "metadata": {
        "id": "yodnuPNMSz9C"
      },
      "execution_count": null,
      "outputs": []
    },
    {
      "cell_type": "code",
      "source": [
        "# Exemplo: Imprima na tela o primeiro caracter da String\n",
        "\n",
        "nome[0] # Sintaxe básica de localização de caracter\n",
        "\n",
        "print('O primeiro caracter da string é: ', nome[0])"
      ],
      "metadata": {
        "id": "_-5x4HiAUCWu"
      },
      "execution_count": null,
      "outputs": []
    },
    {
      "cell_type": "code",
      "source": [
        "# Exemplo: Imprima na tela o último caracter da string\n",
        "print(nome[8])\n",
        "print(nome[-1]) # Recomendado"
      ],
      "metadata": {
        "id": "fyqGYtXxVS-a"
      },
      "execution_count": null,
      "outputs": []
    },
    {
      "cell_type": "code",
      "source": [
        "# Exemplo: Imprima na tela o terceiro carater da string\n",
        "print(nome[2]) # => a\n",
        "\n",
        "# Exemplo: Imprima na tela o quinto caracter da string\n",
        "print(nome[4]) # => c"
      ],
      "metadata": {
        "id": "aJX1gjnuaOjB"
      },
      "execution_count": null,
      "outputs": []
    },
    {
      "cell_type": "code",
      "source": [
        "# Atividade em 10 minutos: 20:50\n",
        "# Ex.1 Definindo uma string sendo esta o seu nome\n",
        "# Ex.2 Imprima na tela o primeiro caracter do seu nome (normal e reverso)\n",
        "# Ex.3 Imprima na tela o último caracter do seu nome (normal e reverso)\n",
        "# Ex.4 Imprima na tela o terceiro caracter do seu nome (normal e reverso)"
      ],
      "metadata": {
        "id": "MHRpQUJwbqPg"
      },
      "execution_count": null,
      "outputs": []
    },
    {
      "cell_type": "code",
      "source": [
        "# Vamos fazer um fatiamento da nossa string (slicing)\n",
        "nome = 'FRANCIANE'\n",
        "\n",
        "# F   R   A   N   C    I   A   N   E\n",
        "# 0   1   2   3   4    5   6   7   8   # Pensamento computacional Python\n",
        "# 1°  2°  3°  4°  5°   6°  7°  8°  9°  # Pensamento matematico Nosso"
      ],
      "metadata": {
        "id": "2KV5Rjkshfwo"
      },
      "execution_count": null,
      "outputs": []
    },
    {
      "cell_type": "code",
      "source": [
        "# Imprima na tela a sequencia do segundo ao quinto caracter\n",
        "# RANC\n",
        "nome[1:5] # Sintaxe"
      ],
      "metadata": {
        "id": "noviey3khlqP"
      },
      "execution_count": null,
      "outputs": []
    },
    {
      "cell_type": "code",
      "source": [
        "# Imprima na tela a sequencia do primeiro até o quinto caracter\n",
        "nome[0:5]"
      ],
      "metadata": {
        "id": "h_KGGyZ3lAuh"
      },
      "execution_count": null,
      "outputs": []
    },
    {
      "cell_type": "code",
      "source": [
        "# Exemplo da Ana Carol\n",
        "nome = 'Ana Carol'\n",
        "\n",
        "# Imprima na tela até a terceira posição do Python da string nome\n",
        "nome[0:4]\n",
        "\n",
        "# Aprendemos que espaços contam como caracter!"
      ],
      "metadata": {
        "id": "dqCJjnSKpt92"
      },
      "execution_count": null,
      "outputs": []
    },
    {
      "cell_type": "markdown",
      "source": [
        "## **Métodos de Strings**"
      ],
      "metadata": {
        "id": "penq0BCpq_-d"
      }
    },
    {
      "cell_type": "code",
      "source": [
        "# Sinal de (+) para concatenar (juntar) string\n",
        "nome = 'Franciane'\n",
        "sobrenome = 'Rodrigues'\n",
        "print(nome +' '+ sobrenome)"
      ],
      "metadata": {
        "id": "1dD0owjrrejE"
      },
      "execution_count": null,
      "outputs": []
    },
    {
      "cell_type": "code",
      "source": [
        "# (len) Método que conta o número de caracteres de uma string\n",
        "nome = 'Franciane'\n",
        "contagem = len(nome)\n",
        "print(nome, 'tem', contagem, 'caracteres')"
      ],
      "metadata": {
        "id": "4LaZ6BLrs4QT"
      },
      "execution_count": null,
      "outputs": []
    },
    {
      "cell_type": "code",
      "source": [
        "# (len) Método que conta o número de caracteres de uma string\n",
        "# Obs.: Espaços são contabilizados\n",
        "nome = ' Franciane '\n",
        "contagem = len(nome)\n",
        "print(nome, 'tem', contagem, 'caracteres')"
      ],
      "metadata": {
        "id": "sLV9nvpktUh9"
      },
      "execution_count": null,
      "outputs": []
    },
    {
      "cell_type": "code",
      "source": [
        "# (strip) Método que elimina caracteres indesejados de uma string\n",
        "# no inicio e no fim\n",
        "nome = nome.strip()\n",
        "\n",
        "# Checando se o método foi aplicado\n",
        "print(len(nome))"
      ],
      "metadata": {
        "id": "ZzBiS0IeuMqI"
      },
      "execution_count": null,
      "outputs": []
    },
    {
      "cell_type": "code",
      "source": [
        "# (replace) Método que substitui um caracter por outro\n",
        "preco = 'R$ 10,50'\n",
        "print(preco)"
      ],
      "metadata": {
        "id": "u75Zen_5ugpI"
      },
      "execution_count": null,
      "outputs": []
    },
    {
      "cell_type": "code",
      "source": [
        "# Aplicando o método replace na variável preco\n",
        "preço = preco.replace(',' , '.')"
      ],
      "metadata": {
        "id": "rJpNIbOav25D"
      },
      "execution_count": null,
      "outputs": []
    },
    {
      "cell_type": "code",
      "source": [
        "# Checando a aplicação do método\n",
        "print(preco)"
      ],
      "metadata": {
        "id": "8XPoLCa2wDb1"
      },
      "execution_count": null,
      "outputs": []
    },
    {
      "cell_type": "code",
      "source": [
        "# Coloque seu nome\n",
        "nome = input('Informe seu nome: ')\n",
        "print('O nome digitado é: ', nome)"
      ],
      "metadata": {
        "id": "tSoCI1_sxNqi"
      },
      "execution_count": null,
      "outputs": []
    },
    {
      "cell_type": "code",
      "source": [
        "# (capitalize) Método para deixar a primeira letra maiuscula\n",
        "nome = nome.capitalize()\n",
        "nome"
      ],
      "metadata": {
        "id": "oXOmE3nzxZmp"
      },
      "execution_count": null,
      "outputs": []
    },
    {
      "cell_type": "code",
      "source": [
        "# (upper) Método que coloca todas as letrinhas maiusculas (gritando)\n",
        "nome = nome.upper()\n",
        "nome"
      ],
      "metadata": {
        "id": "DTPArHxCx3Yp"
      },
      "execution_count": null,
      "outputs": []
    },
    {
      "cell_type": "code",
      "source": [
        "# (casefold) Método que coloca todas as letrinhas minusculas (falando baixinho)\n",
        "nome = nome.casefold()\n",
        "nome"
      ],
      "metadata": {
        "id": "5ck0xieLyVTq"
      },
      "execution_count": null,
      "outputs": []
    },
    {
      "cell_type": "code",
      "source": [
        "# (title) Coloca a primeira letra de cada palavra em maiúscula\n",
        "comp = 'ana carolina'\n",
        "print(comp)"
      ],
      "metadata": {
        "colab": {
          "base_uri": "https://localhost:8080/"
        },
        "id": "A5Pktp4pz-aj",
        "outputId": "7db337d9-451d-45b5-8737-1389eda6742c"
      },
      "execution_count": null,
      "outputs": [
        {
          "output_type": "stream",
          "name": "stdout",
          "text": [
            "ana carolina\n"
          ]
        }
      ]
    },
    {
      "cell_type": "code",
      "source": [
        "# Aplicando o metodo title\n",
        "comp = comp.title()\n",
        "print(comp)"
      ],
      "metadata": {
        "colab": {
          "base_uri": "https://localhost:8080/"
        },
        "id": "b3Y5LKHi0EdX",
        "outputId": "dc747c4e-3bcf-43b3-abfb-83c886c4d6f2"
      },
      "execution_count": null,
      "outputs": [
        {
          "output_type": "stream",
          "name": "stdout",
          "text": [
            "Ana Carolina\n"
          ]
        }
      ]
    }
  ]
}