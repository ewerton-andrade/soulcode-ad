{
  "nbformat": 4,
  "nbformat_minor": 0,
  "metadata": {
    "colab": {
      "provenance": [],
      "authorship_tag": "ABX9TyOlBwZ2xi3cWnXcU2p0jDi4",
      "include_colab_link": true
    },
    "kernelspec": {
      "name": "python3",
      "display_name": "Python 3"
    },
    "language_info": {
      "name": "python"
    }
  },
  "cells": [
    {
      "cell_type": "markdown",
      "metadata": {
        "id": "view-in-github",
        "colab_type": "text"
      },
      "source": [
        "<a href=\"https://colab.research.google.com/github/ewerton-andrade/soulcode-ad/blob/main/DesafiosModuloPython(EwertonLimaAndrade).ipynb\" target=\"_parent\"><img src=\"https://colab.research.google.com/assets/colab-badge.svg\" alt=\"Open In Colab\"/></a>"
      ]
    },
    {
      "cell_type": "markdown",
      "source": [
        "# **MÓDULO 1: PYTHON PARA PROGRAMADORES**"
      ],
      "metadata": {
        "id": "E487WhELGLiD"
      }
    },
    {
      "cell_type": "markdown",
      "source": [
        "# **Introdução ao Python**"
      ],
      "metadata": {
        "id": "9uKUliPoGIrI"
      }
    },
    {
      "cell_type": "markdown",
      "source": [
        "#Escola: SoulCode Academy\n",
        "\n",
        "#Curso: Analista de Dados e Dashboards\n",
        "\n",
        "#Período: Noturno\n",
        "\n",
        "#Assunto: Python\n",
        "\n",
        "#Professor: Franciane Rodrigues\n",
        "\n",
        "#Aluno: Ewerton Lima de Andrade"
      ],
      "metadata": {
        "id": "BVRVvTtfGGEm"
      }
    },
    {
      "cell_type": "markdown",
      "source": [
        "# **Observação**: Minha opção de entrega foi a de todos os exercícios."
      ],
      "metadata": {
        "id": "LFgs0v_unQUL"
      }
    },
    {
      "cell_type": "markdown",
      "source": [
        "# **1. Desafio**\n",
        "\n",
        "## **Resumo do problema**: Você trabalha em um laboratório químico e toda vez que você realiza um experimento as temperaturas estão em Fahrenheit ou Celsius. Crie um algoritmo que realize a conversão para Kelvin para facilitar sua vida enquanto lê os manuais."
      ],
      "metadata": {
        "id": "mJnIIOB933ll"
      }
    },
    {
      "cell_type": "code",
      "execution_count": null,
      "metadata": {
        "colab": {
          "base_uri": "https://localhost:8080/"
        },
        "id": "nbvzJ5zT3oQV",
        "outputId": "8193a25a-153c-4838-aac4-94793ca90eb7"
      },
      "outputs": [
        {
          "output_type": "stream",
          "name": "stdout",
          "text": [
            "----------------------------------------------------------------------\n",
            "CONVERSOR DE TEMPERATURA\n",
            "\n",
            "Deseja trabalhar com a temperatura em Celsius ou Fahrenheit?\n",
            "Digite 1 para Celsius ou 2 para Fahrenheit: \n",
            "2\n",
            "Digite a temperatura em Fahrenheit: \n",
            "50\n",
            "O equivalente em Kelvin de 50.00°F é 283.15K. \n",
            "\n",
            "FIM DO PROGRAMA\n",
            "----------------------------------------------------------------------\n"
          ]
        }
      ],
      "source": [
        "print(70*\"-\")\n",
        "print(\"CONVERSOR DE TEMPERATURA\\n\")\n",
        "print(\"Deseja trabalhar com a temperatura em Celsius ou Fahrenheit?\")\n",
        "\n",
        "#  Esse é o valor da constante de Kelvin\n",
        "constante_kelvin: float = 273.15\n",
        "\n",
        "#  Input da grandeza, digite 1 para Celsius ou 2 para Fahrenheit.\n",
        "# Obs: Caso o usuário não digite nenhum dos dois valores para a variável,\n",
        "# 'grandeza acima', o programa é encerrado, uma mensagem de erro aparece\n",
        "# para o usuário.\n",
        "grandeza: int = int(input(\"Digite 1 para Celsius ou 2 para Fahrenheit: \\n\"))\n",
        "\n",
        "# Se a grandeza escolhida for 1 (Celsius) execute o bloco de código a seguir\n",
        "if grandeza == 1:\n",
        "  # Substituo o valor da variável grandeza pelo valor 'Celsius'\n",
        "  grandeza: str = 'Celsius'\n",
        "\n",
        "  # Input do dado de temperatura em Celsius escolhida\n",
        "  temperatura: float = float(input(f\"Digite a temperatura em {grandeza}: \\n\"))\n",
        "\n",
        "  # Conversão da temperatura de Celsius Para Kelvin\n",
        "  equivalente_kelvin: float = temperatura + constante_kelvin\n",
        "\n",
        "  # Exibe na tela o valor da temperatura em Celsius e o seu valor equivalente em Kelvin\n",
        "  print(f\"O equivalente em Kelvin de {temperatura:.2f}°C é {equivalente_kelvin:.2f}K.\\n\")\n",
        "\n",
        "# Se a grandeza escolhido for 2 (Fahrenheit) execute esse bloco de código\n",
        "elif grandeza == 2:\n",
        "  # Substituo o valor da variável grandeza pelo valor 'Fahrenheit'\n",
        "  grandeza: str = 'Fahrenheit'\n",
        "\n",
        "  # Realizo o input do dado de temperatura em Fahrenheit escolhida\n",
        "  temperatura: float = float(input(f\"Digite a temperatura em {grandeza}: \\n\"))\n",
        "\n",
        "  # Cálculo de conversão da temperatura de Fahrenheit para Kelvin\n",
        "  equivalente_kelvin: float = (temperatura - 32) * 5/9 + constante_kelvin\n",
        "\n",
        "  # Exibe na tela o valor da temperatura em Fahrenheit e o seu valor equivalente em Kelvin\n",
        "  print(f\"O equivalente em Kelvin de {temperatura:.2f}°F é {equivalente_kelvin:.2f}K. \\n\")\n",
        "\n",
        "# Se o valor digitado para grandeza não for '1' e nem '2' então execute esse bloco de código\n",
        "else:\n",
        "  print(\"Digite apenas 1 para Celsius ou 2 para Fahrenheit, reinicie o programa!\\n\")\n",
        "\n",
        "print(\"FIM DO PROGRAMA\")\n",
        "print(70*\"-\")"
      ]
    },
    {
      "cell_type": "markdown",
      "source": [
        "# **2. Desafio**\n",
        "\n",
        "## **Resumo do problema**: Um restaurante deseja avaliar a performance de seus garçons com base na gorjeta recebida em relação ao valor total das contas dos clientes. Para isso, o restaurante irá coletar informações sobre o valor total da compra de cada cliente e a gorjeta deixada para o garçom. Se a porcentagem média de gorjeta recebida por um garçom estiver acima de [valor a ser decidido pelo programador] do valor total da conta, ele será considerado como tendo uma boa performance. Caso contrário, será necessário realizar treinamentos ou ajustes na abordagem de atendimento do garçom. Essa avaliação de performance é importante para garantir um serviço de qualidade e garantir a satisfação dos clientes do restaurante."
      ],
      "metadata": {
        "id": "s17ha2DkGsAT"
      }
    },
    {
      "cell_type": "code",
      "source": [
        "# Estipular limite de gorgeta\n",
        "limite_percentual_aceitavel_gorgeta: float = 10\n",
        "status_performance: str = ''\n",
        "\n",
        "print(70*\"-\")\n",
        "print(\"AVALIAÇÃO DE PERFORMANCE\\n\")\n",
        "\n",
        "# Input do nome do garçom\n",
        "nome_garcom: str = input(\"Digite o nome do garçom avalidado: \")\n",
        "print(\"\\n\")\n",
        "\n",
        "# Input do valor total da conta do cliente\n",
        "total_cliente: float = float(input(\"Digite o valor total da conta do cliente: R$ \"))\n",
        "print(\"\\n\")\n",
        "\n",
        "# Input da gorgeta\n",
        "gorgeta: float = float(input(f\"Digite o valor da gorgeta recebida por {nome_garcom}: R$ \\n\"))\n",
        "print(\"\\n\")\n",
        "\n",
        "# Calculo do valor percentual da gorgeta em relacao ao valor total da conta do cliente\n",
        "percentual: float = (gorgeta/total_cliente) *100\n",
        "\n",
        "#    Se o percentual relativo da gorgeta estiver dentro do limite aceitavel\n",
        "#    Obs: Deixei sem limite superior na condição abaixo pelo fato da\n",
        "# possibilidade de o cliente dar um valor de gorgeta acima do valor da própria\n",
        "# conta. Dessa forma se a gorgeta do garçom superar o valor da própria conta\n",
        "# do cliente ele vai entrar nessa condição.\n",
        "if percentual >= limite_percentual_aceitavel_gorgeta:\n",
        "  if percentual > 100:\n",
        "    print(f\"\")\n",
        "  #  Mostra na tela o nome do garçom e sua boa performance\n",
        "  print(f\"O garçom {nome_garcom} obteve uma boa performance!\")\n",
        "\n",
        "  #  Mostra na tela o indicador obtido pelo garçom\n",
        "  print(f\"Ele obteve um indicador de {percentual:.2f}% em relação à gorgeta.\\n\")\n",
        "\n",
        "#    Se o percentual relativo da gorgeta estiver fora do limite aceitavel\n",
        "#    Obs: Deixei sem limite inferior na condição abaixo pelo fato do garçom\n",
        "# correr o risco de dar prejuízo caso o mal atendimento faça com que o cliente\n",
        "# se recuse a pagar.\n",
        "elif  percentual < limite_percentual_aceitavel_gorgeta:\n",
        "  #  Mostra na tela o nome do garçom e que ele precisa de mais treinamento\n",
        "  print(f\"O garçom {nome_garcom} precisa de mais treinamento!\")\n",
        "\n",
        "  #  Mostra na tela o indicador do garçom.\n",
        "  #Obs: Aqui deixei formatado em 4 números após a vírgula, pelo motivo\n",
        "  #do arrendondamento de valores quando eles se aproximam do limite.\n",
        "  #Para não ocorrer o caso do percentual do garçom ser abaixo do limite\n",
        "  #estipulado e o percentual ser exibido na tela como 10.00% por exemplo.\n",
        "  print(f\"Ele obteve um indicador de {percentual:.4f}% em relação à gorgeta.\\n\")\n",
        "\n",
        "\n",
        "# Exibe a mensagem final na tela\n",
        "print(\"FIM DO PROGRAMA\\n\")\n",
        "print(70*\"-\")"
      ],
      "metadata": {
        "colab": {
          "base_uri": "https://localhost:8080/"
        },
        "id": "Igr6J_o9G3do",
        "outputId": "863af1c7-5305-4e5b-e10b-443a792b065c"
      },
      "execution_count": null,
      "outputs": [
        {
          "output_type": "stream",
          "name": "stdout",
          "text": [
            "----------------------------------------------------------------------\n",
            "AVALIAÇÃO DE PERFORMANCE\n",
            "\n",
            "Digite o nome do garçom avalidado: Ewerton\n",
            "\n",
            "\n",
            "Digite o valor total da conta do cliente: R$ 50\n",
            "\n",
            "\n",
            "Digite o valor da gorgeta recebida por Ewerton: R$ \n",
            "100.50\n",
            "\n",
            "\n",
            "O garçom Ewerton obteve uma boa performance!\n",
            "Ele obteve um indicador de 201.00% em relação à gorgeta.\n",
            "\n",
            "FIM DO PROGRAMA\n",
            "\n",
            "----------------------------------------------------------------------\n"
          ]
        }
      ]
    },
    {
      "cell_type": "markdown",
      "source": [
        "# **3. Desafio**\n",
        "\n",
        "## **Resumo do problema**: Um aplicativo de compras online deseja implementar uma função de decisão de compra para seus usuários. Ao realizar uma compra, os usuários precisam saber se possuem saldo suficiente em sua conta bancária para comprar um determinado produto. Se o saldo disponível na conta bancária do usuário for maior ou igual ao preço do produto, ele poderá efetuar a compra. Caso contrário, o usuário receberá uma mensagem informando que não possui saldo suficiente para realizar a compra. O aplicativo precisa implementar essa funcionalidade para garantir uma experiência de compra tranquila e transparente para seus usuários."
      ],
      "metadata": {
        "id": "4K5X4UgpWJ0Y"
      }
    },
    {
      "cell_type": "code",
      "source": [
        "print(70*\"-\")\n",
        "print(\"SEJA BEM VINDO AO E-COMMERCE ZAIA!\")\n",
        "\n",
        "# Obs: Saldo do usuário e preço do produto,\n",
        "#não pode ser um input, porque se o usuário\n",
        "#não pode modificar o valor do seu saldo atual.\n",
        "#Essa é uma informação que\n",
        "#vem de algum sistema. Aqui eu estipulei um valor\n",
        "#fixo para fins de exercício.\n",
        "saldo_usuario: float = 1000.50 #\n",
        "\n",
        "# Input do preco do produto\n",
        "preco_produto: float = 50.67 #\n",
        "\n",
        "# Se o saldo do cliente cobrir o preço do produto\n",
        "if saldo_usuario >= preco_produto:\n",
        "  print(f\"Seu saldo atual é de R$ {saldo_usuario:.2F}\")\n",
        "  print(\"Boa compra!\\n\")\n",
        "\n",
        "# Se o saldo do cliente não cobrir o preço do produto\n",
        "else:\n",
        "  print(f\"Seu saldo atual é de R$ {saldo_usuario:.2F}\")\n",
        "  print(\"Você não pode efetuar essa compra.\\n\")\n",
        "\n",
        "print(\"FIM DO PROGRAMA\")\n",
        "print(70*\"-\")"
      ],
      "metadata": {
        "colab": {
          "base_uri": "https://localhost:8080/"
        },
        "id": "_Mk4o5_eWenI",
        "outputId": "68c5bf4f-9d19-4bfa-fcab-e59eaf9e99b6"
      },
      "execution_count": null,
      "outputs": [
        {
          "output_type": "stream",
          "name": "stdout",
          "text": [
            "----------------------------------------------------------------------\n",
            "SEJA BEM VINDO AO E-COMMERCE ZAIA!\n",
            "Digite o valor do produto: R$ 50\n",
            "\n",
            "\n",
            "Seu saldo atual é de R$ 1000.50\n",
            "Boa compra!\n",
            "\n",
            "FIM DO PROGRAMA\n",
            "----------------------------------------------------------------------\n"
          ]
        }
      ]
    },
    {
      "cell_type": "markdown",
      "source": [
        "# **4. Desafio**\n",
        "\n",
        "## **Resumo do problema**: Uma assistente do banco precisa de um programa que verifica se um cliente é elegível para um empréstimo com base na sua idade (entre 18 e 65 anos), renda mensal mínima de R$ 1.500,00 e histórico de crédito sem registros de inadimplência nos últimos 12 meses. O programa irá coletar as informações do cliente e, caso ele atenda a todos os critérios, será considerado elegível para o empréstimo; caso contrário, será informado que o cliente não é elegível. Essa verificação é essencial para garantir que apenas clientes adequados sejam aprovados para empréstimos, minimizando riscos para o banco e para o cliente.\n"
      ],
      "metadata": {
        "id": "ExeAJ1syZ0i4"
      }
    },
    {
      "cell_type": "code",
      "source": [
        "# Input idade\n",
        "idade: int = int(input(\"Digite a idade do cliente: \"))\n",
        "\n",
        "# Input renda\n",
        "renda: float = float(input(\"Digite a renda mensal do cliente: R$ \"))\n",
        "\n",
        "# Input inadimplencia\n",
        "inadimplencia: str = input(\"Possui inadimplência nos últimos 12 meses? S ou N  \")\n",
        "inadimplencia = inadimplencia.lower()\n",
        "\n",
        "condicao_1: bool = False\n",
        "condicao_2: bool = False\n",
        "condicao_3: bool = False\n",
        "\n",
        "#Verificacao das condicoes de emprestimo\n",
        "if idade >= 18 and idade <= 65: #Se atender ao criterio da idade\n",
        "  condicao_1 = True\n",
        "if renda >= 1500: #Se atender ao criterio da renda\n",
        "  condicao_2 = True\n",
        "if inadimplencia == \"n\": #Se atender ao criterio da inadimplencia\n",
        "  condicao_3 = True\n",
        "\n",
        "#Se atender as 3 condicoes simultaneamente\n",
        "if condicao_1 and condicao_2 and condicao_3:\n",
        "  print(\"O cliente está elegível para o empréstimo.\")\n",
        "else:\n",
        "  print(\"O cliente NÃO está elegível para o empréstimo.\")"
      ],
      "metadata": {
        "colab": {
          "base_uri": "https://localhost:8080/"
        },
        "id": "r0KqsZzwZf5_",
        "outputId": "dcbcf5d5-d0af-478a-aba1-3a999052f24e"
      },
      "execution_count": null,
      "outputs": [
        {
          "output_type": "stream",
          "name": "stdout",
          "text": [
            "Digite a idade do cliente: 65\n",
            "Digite a renda mensal do cliente: R$ 3000\n",
            "Possui inadimplência nos últimos 12 meses? S ou N  S\n",
            "Condicao_1: True\n",
            "Condicao_2: True\n",
            "Condicao_3: False\n",
            "O cliente NÃO está elegível para o empréstimo.\n"
          ]
        }
      ]
    },
    {
      "cell_type": "markdown",
      "source": [
        "# **5. Desafio**\n",
        "\n",
        "## **Resumo do problema**:\n",
        "## Simulação de Venda:\n",
        "##(a) Crie um programa que simula a venda de um produto. O programa deve:\n",
        "\n",
        "## - Coletar informações do usuário: nome do cliente, nome do produto, preço do produto e quantidade desejada.\n",
        "\n",
        "\n",
        "## - Calcular o valor total da compra: multiplicar o preço do produto pela quantidade desejada.\n",
        "\n",
        "\n",
        "## - Exibir o valor total da compra para o usuário.\n",
        "##(b) Adicione um desconto de 10% para compras acima de R$ 100,00.\n",
        "##(c) Implemente a opção de pagamento com cartão de crédito ou dinheiro.\n"
      ],
      "metadata": {
        "id": "cv-ajrixfqqD"
      }
    },
    {
      "cell_type": "code",
      "source": [
        "print(100*\"*\")\n",
        "print(\"Bem vindo ao PAGVENDAS!\\n\")\n",
        "\n",
        "mensagem_erro: str = \"Sua compra não pôde ser finalizada. Por favor, tente de novo!\"\n",
        "\n",
        "print(\"INICIANDO VENDA...\\n\")\n",
        "\n",
        "#input nome do cliente\n",
        "nome: str = input(\"Digite o nome do cliente: \").title().rstrip().lstrip()\n",
        "\n",
        "#input nome do produto\n",
        "produto: str = input(\"Digite o nome do produto: \").title().rstrip().lstrip()\n",
        "\n",
        "if produto == '': #Condicional que permite o prosseguimento da simulacao somente se o nome do produto for identificado\n",
        "  print(\"===>>> Por favor, identifique o produto com um nome válido!\")\n",
        "  print(mensagem_erro)\n",
        "else:\n",
        "  #input preco do produto\n",
        "  preco_produto: str = input(\"Digite o preço do produto: R$ \")\n",
        "\n",
        "  if preco_produto == '': #Condicional que permitie o prosseguimento se o valor do preco do produto for válido\n",
        "    print(\"===>>> Digite um preço válido para o produto!\")\n",
        "    print(mensagem_erro)\n",
        "  else:\n",
        "    #conversao preco do produto em tipo float apos a validacao\n",
        "    preco_produto: float = float(preco_produto)\n",
        "\n",
        "    #input quantidade desejada\n",
        "    quantidade_produto: str = input(f\"Digite a quantidade do produto {produto} em unidades: \")\n",
        "\n",
        "    if quantidade_produto == '': #Condicional que permite o prosseguimento se o valor de quantidade for válido\n",
        "      print(\"===>>> Digite um valor de quantidade válida! Digite valor de unidade(s).\")\n",
        "      print(mensagem_erro)\n",
        "    else:\n",
        "      #conversor da quantidade do produto para tipo float\n",
        "      quantidade_produto: int = int(quantidade_produto)\n",
        "\n",
        "      if nome == '': #Condicional que atribui algum valor ao cliente nao identificado\n",
        "        nome = \"Não identificado\"\n",
        "\n",
        "      #exibir o valor total da compra\n",
        "      print(100*\"-\")\n",
        "      print(\"DADOS DA COMPRA\\n\")\n",
        "      print(\"DADOS DO CLIENTE\")\n",
        "      print(f\"Nome do cliente: {nome}\\n\")\n",
        "      print(\"COMPRA(S)\\n\")\n",
        "\n",
        "      #space_length determina o espacamento das informacoes da compra\n",
        "      space_length = 20\n",
        "\n",
        "      #calculo do valor total da compra\n",
        "      valor_total: float = preco_produto * quantidade_produto\n",
        "\n",
        "      #desconto calculado\n",
        "      desconto: float = valor_total * 0.9\n",
        "\n",
        "      #valor total formatado para duas casas decimais\n",
        "      valor_total_formatado: str = f\"{valor_total:.2f}\"\n",
        "      #preco produto formatado em duas casas decimais\n",
        "      preco_formatado = f\"{preco_produto:.2f}\"\n",
        "\n",
        "      #Nessa condicional há a verificacao se o valor total da compra é maior que cem\n",
        "      if valor_total >= 100:\n",
        "        #Se o valor da compra é maior que cem entao o desconto é aplicado\n",
        "        desconto_formatado = f\"{desconto:.2f}\"\n",
        "      else:\n",
        "        #Se o valor da compra não é maior que cem apenas exibe o valor total sem desconto\n",
        "        desconto_formatado = f\"{valor_total:.2f}\"\n",
        "\n",
        "      #Aqui eu montei uma formatação para poder exibir as informações de compra\n",
        "      dados_compra: str = f\"\"\"Produto{(space_length-7)*\" \"}Quantidade{(space_length-10)*\" \"}Preço{(space_length-5)*\" \"}Total{(space_length-5)*\" \"}Total C/ Desconto\\n{produto}{(space_length-len(produto))*\" \"}{quantidade_produto} un{(space_length-len(str(quantidade_produto))-3)*\" \"}R$ {preco_formatado}{(space_length-3-len(preco_formatado))*\" \"}R$ {valor_total:.2f}{(space_length-3-len(valor_total_formatado))*\" \"}R$ {desconto_formatado}\"\"\"\n",
        "\n",
        "      print(dados_compra)\n",
        "      print(100*\"-\")\n",
        "\n",
        "      print(\"Dados de pagamento\\n\")\n",
        "      #input da forma de pagamento\n",
        "      forma_pagamento: str = input(\"A compra será com cartão de Crédito(C) ou Dinheiro(D)? Digite C ou D:  \")\n",
        "      forma_pagamento = forma_pagamento.lower() #torna tudo minusculo\n",
        "      forma_pagamento = forma_pagamento.strip() #retirar espacos em branco\n",
        "\n",
        "      print(\"\\n\")\n",
        "\n",
        "      #verificacao se é Crédito ou Débito, validacao de input.\n",
        "      if forma_pagamento == 'c' or forma_pagamento == 'd':\n",
        "        if forma_pagamento == 'c':\n",
        "          forma_pagamento = 'Crédito'\n",
        "        elif forma_pagamento == 'd':\n",
        "          forma_pagamento = 'Dinheiro'\n",
        "        print(f\"===>>> O cliente optou por pagar com {forma_pagamento}\")\n",
        "        print(f\"===>>> Efetue o pagamento no valor de R$ {desconto_formatado} reais.\\n\")\n",
        "        pagamento_realizado: str = input(\"O pagamento foi efetuado? S ou N  \")\n",
        "        pagamento_realizado = pagamento_realizado.lower().strip()\n",
        "        if pagamento_realizado == 's':\n",
        "          print(\"\\n\")\n",
        "          print(\"Pagamento realizado!\\n\")\n",
        "          print(\"Obrigado pela preferência! Volte Sempre!\")\n",
        "        else:\n",
        "          print(\"===>>> Não foi possível identificar o pagamento.\")\n",
        "          print(\"Por favor digite S se o pagamento foi efetuado ou N se o pagamento não foi efetuado.\")\n",
        "          print(mensagem_erro)\n",
        "      else:\n",
        "        print(\"===>>> Digite uma forma de pagamento válida!\")\n",
        "        print(\"Digite C para Crédito ou digite D para Dinheiro.\")\n",
        "        print(mensagem_erro)\n",
        "\n",
        "print(100*\"*\")"
      ],
      "metadata": {
        "id": "5LnF_eSKgLjJ",
        "colab": {
          "base_uri": "https://localhost:8080/"
        },
        "outputId": "895fa8ad-ccef-48eb-b622-919fa766a614"
      },
      "execution_count": null,
      "outputs": [
        {
          "output_type": "stream",
          "name": "stdout",
          "text": [
            "****************************************************************************************************\n",
            "Bem vindo ao PAGVENDAS!\n",
            "\n",
            "INICIANDO VENDA...\n",
            "\n",
            "Digite o nome do cliente: Ewerton Lima de Andrade\n",
            "Digite o nome do produto: Café\n",
            "Digite o preço do produto: R$ 5.64\n",
            "Digite a quantidade do produto Café em unidades: 10\n",
            "----------------------------------------------------------------------------------------------------\n",
            "DADOS DA COMPRA\n",
            "\n",
            "DADOS DO CLIENTE\n",
            "Nome do cliente: Ewerton Lima De Andrade\n",
            "\n",
            "COMPRA(S)\n",
            "\n",
            "Produto             Quantidade          Preço               Total               Total C/ Desconto\n",
            "Café                10 un               R$ 5.64             R$ 56.40            R$ 56.40\n",
            "----------------------------------------------------------------------------------------------------\n",
            "Dados de pagamento\n",
            "\n",
            "A compra será com cartão de Crédito(C) ou Dinheiro(D)? Digite C ou D:  d\n",
            "\n",
            "\n",
            "===>>> O cliente optou por pagar com Dinheiro\n",
            "===>>> Efetue o pagamento no valor de R$ 56.40 reais.\n",
            "\n",
            "O pagamento foi efetuado? S ou N  s\n",
            "\n",
            "\n",
            "Pagamento realizado!\n",
            "\n",
            "Obrigado pela preferência! Volte Sempre!\n",
            "****************************************************************************************************\n"
          ]
        }
      ]
    }
  ]
}