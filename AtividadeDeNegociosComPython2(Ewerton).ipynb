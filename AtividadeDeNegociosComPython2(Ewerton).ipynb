{
  "nbformat": 4,
  "nbformat_minor": 0,
  "metadata": {
    "colab": {
      "provenance": [],
      "authorship_tag": "ABX9TyNyLXzZjFPJmfFiX9YRAKl4",
      "include_colab_link": true
    },
    "kernelspec": {
      "name": "python3",
      "display_name": "Python 3"
    },
    "language_info": {
      "name": "python"
    }
  },
  "cells": [
    {
      "cell_type": "markdown",
      "metadata": {
        "id": "view-in-github",
        "colab_type": "text"
      },
      "source": [
        "<a href=\"https://colab.research.google.com/github/ewerton-andrade/soulcode-ad/blob/main/AtividadeDeNegociosComPython2(Ewerton).ipynb\" target=\"_parent\"><img src=\"https://colab.research.google.com/assets/colab-badge.svg\" alt=\"Open In Colab\"/></a>"
      ]
    },
    {
      "cell_type": "markdown",
      "source": [
        "# **Atividade de Negócios com Python (número 2)**"
      ],
      "metadata": {
        "id": "ZJdFnEcVFWNJ"
      }
    },
    {
      "cell_type": "markdown",
      "source": [
        "#Escola: SoulCode Academy\n",
        "\n",
        "#Curso: Analista de Dados e Dashboards\n",
        "\n",
        "#Período: Noturno\n",
        "\n",
        "#Assunto: Python\n",
        "\n",
        "#Professor: Franciane Rodrigues\n",
        "\n",
        "#Aluno: Ewerton Lima de Andrade"
      ],
      "metadata": {
        "id": "kAB9-8fgFcnh"
      }
    },
    {
      "cell_type": "markdown",
      "source": [
        "## **Instruções**:\n",
        "* Fica a cargo do aluno escolher entre arrumar o código do Sistema de Gerenciamento de Funcionário ou realizar um exercício para entrega.\n",
        "\n",
        "* Caso o aluno queira fazer os dois, fique a vontade.\n",
        "\n",
        "* Caso o aluno prefira fazer todos os pequenos exercícios, também fique a vontade.\n",
        "\n",
        "* Independente da escolha a entrega é obrigatória.\n",
        "\n",
        "* Atenção: O sistema está configurado para não receber o trabalho após as 23:59 de quarta-feira (10/04).\n",
        "\n",
        "## **Atividade proposta 1**:\n",
        "### Uma pequena empresa de consultoria está enfrentando dificuldades para gerenciar informações de seus funcionários. Eles desejam que o sistema simples criado em Python sirva para armazenar dados como nome, cargo, salário, cidade, estado, idade e e-mail de cada funcionário. No entanto, o código fornecido apresenta uma série de erros que precisam ser corrigidos antes que o sistema possa ser implantado com sucesso. Seu desafio é corrigir esses erros, melhorar/alterar o código como julgar necessário e documentar o mesmo incluindo comentários das funcionalidades para que outros profissionais realizem a manutenção futura e garantir que a empresa gerencie eficientemente as informações de seus funcionários. Obs.: Realize as boas práticas de documentação e justifique suas alterações.\n",
        "\n",
        "## **Atividade proposta 2**\n",
        "### Para aqueles que optarem essa modalidade, faça pelo menos 1 bem feito (faça cabeçalho devidamente, quebre o problema em partes, comente o código, execute e teste para ver se todas as possibilidades contempladas). Para os exercícios abaixo utilizem estruturas de dados, estrutura condicional, estrutura de repetições ou funções da forma como julgar necessário. Caso queira fazer todos. fiquem à vontade. Entreguem o link no classroom com cabeçalho e devidamente comentado.\n",
        "\n",
        "* **Contagem de Vendas**: Uma loja de eletrônicos deseja saber quantos produtos de cada tipo foram vendidos durante a semana. Escreva um programa em Python que solicite ao usuário a quantidade de vendas de três tipos de produtos: smartphones, laptops e tablets. O programa deve calcular e exibir o total de vendas de cada tipo\n",
        "\n",
        "* Enunciado: Um cliente deseja fazer uma lista de compras de supermercado. Escreva um programa em Python que permita ao usuário adicionar itens à lista de compras e, em seguida, exiba todos os itens adicionados.\n",
        "\n",
        "* Enunciado: Uma empresa deseja manter um registro de seus clientes, incluindo nome, idade e e-mail. Escreva um programa em Python que permita ao usuário adicionar novos clientes ao registro e, em seguida, exiba todos os clientes registrados.\n",
        "\n",
        "* Uma empresa deseja coletar feedback de satisfação de seus clientes. Escreva um programa em Python que solicite ao usuário que atribua uma nota de 1 a 5 para a qualidade de um serviço. O programa deve armazenar as respostas dos clientes e contar quantos deram cada nota.\n",
        "\n",
        "* Escreva um programa em Python que permita ao usuário gerenciar uma lista de tarefas. O programa deve oferecer as opções de adicionar uma nova tarefa, listar todas as tarefas e marcar uma tarefa como concluída."
      ],
      "metadata": {
        "id": "z14pj2coFciq"
      }
    },
    {
      "cell_type": "markdown",
      "source": [
        "# **Escolhi realizar a atividade proposta 1 (Debug)**\n",
        "\n",
        "# No geral vou utilizar tudo o que foi aprendido até agora no curso de Analista de Dados da SoulCode com respeito ao módulo 1 de Python."
      ],
      "metadata": {
        "id": "b1h52Y5tyQYE"
      }
    },
    {
      "cell_type": "markdown",
      "source": [
        "# O código abaixo é fornecido para a resolução do exercício proposto:"
      ],
      "metadata": {
        "id": "9-xKtH9kyRxZ"
      }
    },
    {
      "cell_type": "code",
      "execution_count": null,
      "metadata": {
        "colab": {
          "base_uri": "https://localhost:8080/",
          "height": 108
        },
        "id": "hfE7FY9KyGwz",
        "outputId": "372574ce-b5cb-4481-b9aa-849ba51d5972"
      },
      "outputs": [
        {
          "output_type": "error",
          "ename": "SyntaxError",
          "evalue": "invalid syntax. Perhaps you forgot a comma? (<ipython-input-1-b7cfe7240ae3>, line 2)",
          "traceback": [
            "\u001b[0;36m  File \u001b[0;32m\"<ipython-input-1-b7cfe7240ae3>\"\u001b[0;36m, line \u001b[0;32m2\u001b[0m\n\u001b[0;31m    nome = input(\"Digite seu Nome: \"\u001b[0m\n\u001b[0m                 ^\u001b[0m\n\u001b[0;31mSyntaxError\u001b[0m\u001b[0;31m:\u001b[0m invalid syntax. Perhaps you forgot a comma?\n"
          ]
        }
      ],
      "source": [
        "def incluir_funcionario():\n",
        "    nome = input(\"Digite seu Nome: \"\n",
        "    cargo = input(\"Digite seu Cargo: \")\n",
        "    salario = int(input(\"Digite deu Salário: \"))\n",
        "    cidade = input(\"Digite sua Cidade: \"\n",
        "    estado = input(\"Digite seu Estado: \")\n",
        "    idade = float(input(\"Digite sua Idade: \"))\n",
        "    e_mail = input(\"Digite seu E-mail: \"\n",
        "\n",
        "    funcionario = {\n",
        "        \"nome\": nome,\n",
        "        \"cargoo\": cargo,\n",
        "        \"salario\": salario,\n",
        "        \"cidade\": cidade,\n",
        "        \"estado\": estado,\n",
        "        \"idade\": idade,\n",
        "        \"e_mail\": e_mail,\n",
        "    }\n",
        "\n",
        "    funcionarios.append(funcionario)\n",
        "\n",
        "def consultar_funcionario(nome):\n",
        "    for funcionario in funcionarios:\n",
        "        if funcionario[\"name\"] == nome:\n",
        "            return funcioanrio\n",
        "    return None\n",
        "\n",
        "def listar_funcionarios():\n",
        "    for funcionario in funcionarios:\n",
        "        print(funiconario)\n",
        "\n",
        "def deletar_funcionario(nome):\n",
        "    for i in range(len(funcionarios))):\n",
        "        if funcionarios(i)[\"nome\"] == name:\n",
        "            del funcionários[i]\n",
        "            return\n",
        "    return None\n",
        "\n",
        "funcionarios = {}\n",
        "\n",
        "print('****** EMPRESA PROJETO PYTHON   ******\\n')\n",
        "\n",
        "while True:\n",
        "    print(\"1. Incluir funcionário\")\n",
        "    print(\"2. Consultar funcionário\")\n",
        "    print(\"3. Listar funcionários\")\n",
        "    print(\"4. Deletar funcionário\")\n",
        "    print(\"0. Sair\")\n",
        "\n",
        "    escolha = input(\"Escolha uma opção: \")\n",
        "\n",
        "    if escolha == \"1\":\n",
        "        incluir_funcionarios()\n",
        "    elif escolha == 2:\n",
        "        nome = input(\"Nome do funcionário: \")\n",
        "        funcionario = consultar_funcionario(nome)\n",
        "        if funcionario is not None:\n",
        "            print(funcionario)\n",
        "        else:\n",
        "            print(\"Funcionário não encontrado.\")\n",
        "    elif escolha == \"3\":\n",
        "        listar_funcionario()\n",
        "    elif escolha == 4:\n",
        "        nome = input(\"Nome do funcionário: \")\n",
        "        deletar_funcionario(nome)\n",
        "        print(\"Funcionário removido com sucesso.\")\n",
        "    elif escolha == \"0\":\n",
        "        break"
      ]
    },
    {
      "cell_type": "markdown",
      "source": [
        "#Ao tentar rodar o código pela primeira vez conforme acima, o Python indica que ocorreu um erro de syntax inválida. A sugestão do Python é verificar se esqueci as aspas, porém ao olhar melhor está faltando um parêntese que fecha a função input na linha dois do código acima. Após percorrer o código identifiquei outras linhas de código que apresentam o mesmo problema. Além da linha 2 (input nome) a linha 5 (input cidade) e a linha 8 (input e_mail) também apresentam o mesmo defeito no código. Vou acrescentar o parêntese faltante nessas 3 linhas. Além disso vou tentar identificar no código, linha a linha se há ainda algum erro de sintaxe relacionado ao código."
      ],
      "metadata": {
        "id": "hPFhBBUa3gin"
      }
    },
    {
      "cell_type": "markdown",
      "source": [
        "#Correções relacionadas a erros de sintaxe:\n",
        "# - Correção linhas 2, 5, 8: Acrescentar um parêntese para fechar a função input;\n",
        "# - Correção linha 33: Retirar um parêntese a mais do código.\n",
        "\n",
        "#Após efetuar as correções acima vou rodar o código novamente e verificar se há outro erro:"
      ],
      "metadata": {
        "id": "gCfPSxEF9bC_"
      }
    },
    {
      "cell_type": "code",
      "source": [
        "def incluir_funcionario():\n",
        "    nome = input(\"Digite seu Nome: \")\n",
        "    cargo = input(\"Digite seu Cargo: \")\n",
        "    salario = int(input(\"Digite deu Salário: \"))\n",
        "    cidade = input(\"Digite sua Cidade: \")\n",
        "    estado = input(\"Digite seu Estado: \")\n",
        "    idade = float(input(\"Digite sua Idade: \"))\n",
        "    e_mail = input(\"Digite seu E-mail: \")\n",
        "\n",
        "    funcionario = {\n",
        "        \"nome\": nome,\n",
        "        \"cargoo\": cargo,\n",
        "        \"salario\": salario,\n",
        "        \"cidade\": cidade,\n",
        "        \"estado\": estado,\n",
        "        \"idade\": idade,\n",
        "        \"e_mail\": e_mail,\n",
        "    }\n",
        "\n",
        "    funcionarios.append(funcionario)\n",
        "\n",
        "def consultar_funcionario(nome):\n",
        "    for funcionario in funcionarios:\n",
        "        if funcionario[\"name\"] == nome:\n",
        "            return funcioanrio\n",
        "    return None\n",
        "\n",
        "def listar_funcionarios():\n",
        "    for funcionario in funcionarios:\n",
        "        print(funiconario)\n",
        "\n",
        "def deletar_funcionario(nome):\n",
        "    for i in range(len(funcionarios)):\n",
        "        if funcionarios(i)[\"nome\"] == name:\n",
        "            del funcionários[i]\n",
        "            return\n",
        "    return None\n",
        "\n",
        "funcionarios = {}\n",
        "\n",
        "print('****** EMPRESA PROJETO PYTHON   ******\\n')\n",
        "\n",
        "while True:\n",
        "    print(\"1. Incluir funcionário\")\n",
        "    print(\"2. Consultar funcionário\")\n",
        "    print(\"3. Listar funcionários\")\n",
        "    print(\"4. Deletar funcionário\")\n",
        "    print(\"0. Sair\")\n",
        "\n",
        "    escolha = input(\"Escolha uma opção: \")\n",
        "\n",
        "    if escolha == \"1\":\n",
        "        incluir_funcionarios()\n",
        "    elif escolha == 2:\n",
        "        nome = input(\"Nome do funcionário: \")\n",
        "        funcionario = consultar_funcionario(nome)\n",
        "        if funcionario is not None:\n",
        "            print(funcionario)\n",
        "        else:\n",
        "            print(\"Funcionário não encontrado.\")\n",
        "    elif escolha == \"3\":\n",
        "        listar_funcionario()\n",
        "    elif escolha == 4:\n",
        "        nome = input(\"Nome do funcionário: \")\n",
        "        deletar_funcionario(nome)\n",
        "        print(\"Funcionário removido com sucesso.\")\n",
        "    elif escolha == \"0\":\n",
        "        break"
      ],
      "metadata": {
        "colab": {
          "base_uri": "https://localhost:8080/",
          "height": 358
        },
        "id": "TioS9Jet4HW7",
        "outputId": "44c5b6e1-ebb5-4683-b016-d00a82707084"
      },
      "execution_count": null,
      "outputs": [
        {
          "name": "stdout",
          "output_type": "stream",
          "text": [
            "****** EMPRESA PROJETO PYTHON   ******\n",
            "\n",
            "1. Incluir funcionário\n",
            "2. Consultar funcionário\n",
            "3. Listar funcionários\n",
            "4. Deletar funcionário\n",
            "0. Sair\n",
            "Escolha uma opção: 1\n"
          ]
        },
        {
          "output_type": "error",
          "ename": "NameError",
          "evalue": "name 'incluir_funcionarios' is not defined",
          "traceback": [
            "\u001b[0;31m---------------------------------------------------------------------------\u001b[0m",
            "\u001b[0;31mNameError\u001b[0m                                 Traceback (most recent call last)",
            "\u001b[0;32m<ipython-input-9-23f79d8f2bb8>\u001b[0m in \u001b[0;36m<cell line: 43>\u001b[0;34m()\u001b[0m\n\u001b[1;32m     51\u001b[0m \u001b[0;34m\u001b[0m\u001b[0m\n\u001b[1;32m     52\u001b[0m     \u001b[0;32mif\u001b[0m \u001b[0mescolha\u001b[0m \u001b[0;34m==\u001b[0m \u001b[0;34m\"1\"\u001b[0m\u001b[0;34m:\u001b[0m\u001b[0;34m\u001b[0m\u001b[0;34m\u001b[0m\u001b[0m\n\u001b[0;32m---> 53\u001b[0;31m         \u001b[0mincluir_funcionarios\u001b[0m\u001b[0;34m(\u001b[0m\u001b[0;34m)\u001b[0m\u001b[0;34m\u001b[0m\u001b[0;34m\u001b[0m\u001b[0m\n\u001b[0m\u001b[1;32m     54\u001b[0m     \u001b[0;32melif\u001b[0m \u001b[0mescolha\u001b[0m \u001b[0;34m==\u001b[0m \u001b[0;36m2\u001b[0m\u001b[0;34m:\u001b[0m\u001b[0;34m\u001b[0m\u001b[0;34m\u001b[0m\u001b[0m\n\u001b[1;32m     55\u001b[0m         \u001b[0mnome\u001b[0m \u001b[0;34m=\u001b[0m \u001b[0minput\u001b[0m\u001b[0;34m(\u001b[0m\u001b[0;34m\"Nome do funcionário: \"\u001b[0m\u001b[0;34m)\u001b[0m\u001b[0;34m\u001b[0m\u001b[0;34m\u001b[0m\u001b[0m\n",
            "\u001b[0;31mNameError\u001b[0m: name 'incluir_funcionarios' is not defined"
          ]
        }
      ]
    },
    {
      "cell_type": "markdown",
      "source": [
        "# Ao tentar rodar a função de incluir um funcionário (opção 1) um novo erro aparece. Erro de nome ('NameError'). O Python informa que o nome da função 'incluir_funcionarios' não está definida. Ao comparar o nome da função escrita na linha 53 com o nome da função original nota-se que há uma diferença sutil entre elas:\n",
        "#- 'incluir_funcionarios';\n",
        "#- 'incluir_funcionario';\n",
        "\n",
        "#Vou retirar o 's' para que esse erro seja corrigido na linha 53. Além disso vou verificar no código se há outros erros de escrita no  relacionado a nomes de variáveis.\n",
        "\n",
        "#As correções observadas foram:\n",
        "\n",
        "## - Linha 25: Vou substituir o nome da variável 'funcioanrio' por 'funcionario';\n",
        "\n",
        "## - Linha 30: Vou substituir o nome da variável 'funiconario' pelo nome da variável que recebe os valores da iteração do loop for da linha 29 'funcionario';\n",
        "\n",
        "## - Linha 34: Vou substituir o nome da variável name. Ele deve ser idêntico ao parâmetro da função 'deletar_funcionario', ou seja, dever ser substituído por nome;\n",
        "\n",
        "## - Linha 35: Vou substituir o nome da variável 'funcionários' por 'funcionarios' (Sem acento agudo) o Python não consegue idenficar a variável com o acento;\n",
        "\n",
        "## - Linha 53: Vou substituir o nome da função pelo correto retirando o 's' no final;\n",
        "\n",
        "## - Linha 62: Vou substituir o nome da função que está como \"listar_funcionario()\" para o nome \"listar_funcionarios()\" (com 's' no final);"
      ],
      "metadata": {
        "id": "FuPslLQv-IFo"
      }
    },
    {
      "cell_type": "code",
      "source": [
        "def incluir_funcionario():\n",
        "    nome = input(\"Digite seu Nome: \") #Faltando um parentese para fechar o input da informação de nome\n",
        "    cargo = input(\"Digite seu Cargo: \")\n",
        "    salario = int(input(\"Digite deu Salário: \"))\n",
        "    cidade = input(\"Digite sua Cidade: \") #Faltando um parentese para fechar o input da informação de cidade\n",
        "    estado = input(\"Digite seu Estado: \")\n",
        "    idade = float(input(\"Digite sua Idade: \"))\n",
        "    e_mail = input(\"Digite seu E-mail: \")  #Faltando um parentese para fechar o input da informacao de email\n",
        "\n",
        "    funcionario = {\n",
        "        \"nome\": nome,\n",
        "        \"cargoo\": cargo,\n",
        "        \"salario\": salario,\n",
        "        \"cidade\": cidade,\n",
        "        \"estado\": estado,\n",
        "        \"idade\": idade,\n",
        "        \"e_mail\": e_mail,\n",
        "    }\n",
        "\n",
        "    funcionarios.append(funcionario)\n",
        "\n",
        "def consultar_funcionario(nome):\n",
        "    for funcionario in funcionarios:\n",
        "        if funcionario[\"name\"] == nome:\n",
        "            return funcionario  #o nome da variavel de retorno deve ser \"funcionario\", estava errado \"funcioanrio\"\n",
        "    return None\n",
        "\n",
        "def listar_funcionarios():\n",
        "    for funcionario in funcionarios:\n",
        "        print(funcionario) #o nome da variavel de retorno deve ser \"funcionario\", estava errado \"funcioanrio\"\n",
        "\n",
        "def deletar_funcionario(nome):\n",
        "    for i in range(len(funcionarios)): #havia um parentese a mais nessa linha, o último parêntese da direita foi retirado\n",
        "        if funcionarios(i)[\"nome\"] == nome: #o nome da varivel correto nessa linha é 'nome' e não name igual ao nome do parâmetro da funcao deletar_funcionario\n",
        "            del funcionarios[i] #a variavel \"funcionários\" não está digitada corretamente, vou corrigir para \"funcionarios\" (sem acento)\n",
        "            return\n",
        "    return None\n",
        "\n",
        "funcionarios = {}\n",
        "\n",
        "print('****** EMPRESA PROJETO PYTHON   ******\\n')\n",
        "\n",
        "while True:\n",
        "    print(\"1. Incluir funcionário\")\n",
        "    print(\"2. Consultar funcionário\")\n",
        "    print(\"3. Listar funcionários\")\n",
        "    print(\"4. Deletar funcionário\")\n",
        "    print(\"0. Sair\")\n",
        "\n",
        "    escolha = input(\"Escolha uma opção: \")\n",
        "\n",
        "    if escolha == \"1\":\n",
        "        incluir_funcionario() #O nome da função está digitado incorretamente, o nome correto da função é incluir_funcionario()\n",
        "    elif escolha == 2:\n",
        "        nome = input(\"Nome do funcionário: \")\n",
        "        funcionario = consultar_funcionario(nome)\n",
        "        if funcionario is not None:\n",
        "            print(funcionario)\n",
        "        else:\n",
        "            print(\"Funcionário não encontrado.\")\n",
        "    elif escolha == \"3\":\n",
        "        listar_funcionarios() #O nome da função está como \"listar_funcionario()\" mas o nome correto da função é \"listar_funcionarios()\"\n",
        "    elif escolha == 4:\n",
        "        nome = input(\"Nome do funcionário: \")\n",
        "        deletar_funcionario(nome)\n",
        "        print(\"Funcionário removido com sucesso.\")\n",
        "    elif escolha == \"0\":\n",
        "        break"
      ],
      "metadata": {
        "id": "seu3vMbVAWHr"
      },
      "execution_count": null,
      "outputs": []
    },
    {
      "cell_type": "markdown",
      "source": [
        "# Após as correções de sintaxe da linguagem Python e os erros de nomes de variáveis, eu vou analisar o fluxo de código e tentar identificar outros erros. Existem algumas condicionais que podem conter alguns erros por isso será necessário testar todas as possibilidades do fluxo do código desse sistema."
      ],
      "metadata": {
        "id": "tTdfwzh65qrP"
      }
    },
    {
      "cell_type": "markdown",
      "source": [
        "# **Checando o fluxo de condicionais das funções do sistema.**"
      ],
      "metadata": {
        "id": "ok9txdeiC0Vl"
      }
    },
    {
      "cell_type": "markdown",
      "source": [
        "# À primeira vista, na linha 50 o valor de input da variável 'escolha' é armazenado como tipo 'str' (String).\n",
        "\n",
        "#Observando as linhas de código de condicionais o tipo de dado a ser comparado varia entre dois tipos 'int' (inteiro) e 'str' (String). Nas condições da linha 52, 61 e 67 a comparação entre valores é realizado por meio do dado no formato 'string', mas nas linhas 54 e 63 essa comparação é realizada com o dado do tipo 'int'.\n",
        "\n",
        "# Da forma como o código está agora se o usuário escolher a opção 2 (Consulta de Usuário) ou a opção de número 4 (Deletar funcionário) o sistema não vai conseguir executar essa funções.\n",
        "\n",
        "# O motivo é simples a condição \"2\" == 2 ou a condição \"4\" == 4 nunca serão verdadeiras, pois, apesar do símbolo numérico ser o mesmo o tipo da variável é diferente, sendo um do tipo \"str\" (string) e o outro do tipo \"int\" (inteiro). Abaixo eu vou mostrar um exemplo dessa condição. Eu vou comparar os mesmos valores de tipos diferentes e imprimir o resultado lógico dessa comparação na tela:"
      ],
      "metadata": {
        "id": "0RNT1KtdSAcF"
      }
    },
    {
      "cell_type": "code",
      "source": [
        "escolha: str = \"2\" #tipo str\n",
        "comparacao: int = 2 #tipo int\n",
        "\n",
        "print(f\"O tipo de dado que está na variável escolha é da classe: {type(escolha)}\\n\")\n",
        "print(f\"O tipo de dado que está na variável comparação é da classe: {type(comparacao)}\\n\")\n",
        "\n",
        "print(f\"O resultado da comparação lógica escolha == comparacao é: {escolha == comparacao}\")"
      ],
      "metadata": {
        "id": "cUWgnxR6C7-W",
        "colab": {
          "base_uri": "https://localhost:8080/"
        },
        "outputId": "5a656889-add0-49df-eef4-3de8a559996c"
      },
      "execution_count": null,
      "outputs": [
        {
          "output_type": "stream",
          "name": "stdout",
          "text": [
            "O tipo de dado que está na variável escolha é da classe: <class 'str'>\n",
            "\n",
            "O tipo de dado que está na variável comparação é da classe: <class 'int'>\n",
            "\n",
            "O resultado da comparação lógica escolha == comparacao é: False\n"
          ]
        }
      ]
    },
    {
      "cell_type": "markdown",
      "source": [
        "# Agora vou padronizar os mesmos dados para a mesma classe de dados: String e realizar a mesma operação para verificar se a condição é de fato verdadeira:"
      ],
      "metadata": {
        "id": "9CxfC0TnYeZa"
      }
    },
    {
      "cell_type": "code",
      "source": [
        "escolha: str = \"2\" #tipo str\n",
        "comparacao: str = \"2\" #tipo int\n",
        "\n",
        "print(f\"O tipo de dado que está na variável escolha é da classe: {type(escolha)}\\n\")\n",
        "print(f\"O tipo de dado que está na variável comparação é da classe: {type(comparacao)}\\n\")\n",
        "\n",
        "print(f\"O resultado da comparação lógica escolha == comparacao é: {escolha == comparacao}\")"
      ],
      "metadata": {
        "colab": {
          "base_uri": "https://localhost:8080/"
        },
        "id": "Hzp3y86qYsL_",
        "outputId": "91c3d5aa-6741-42a8-a000-44c605d59dd9"
      },
      "execution_count": null,
      "outputs": [
        {
          "output_type": "stream",
          "name": "stdout",
          "text": [
            "O tipo de dado que está na variável escolha é da classe: <class 'str'>\n",
            "\n",
            "O tipo de dado que está na variável comparação é da classe: <class 'str'>\n",
            "\n",
            "O resultado da comparação lógica escolha == comparacao é: True\n"
          ]
        }
      ]
    },
    {
      "cell_type": "markdown",
      "source": [
        "# Agora com as duas variáveis do tipo inteiro (int):"
      ],
      "metadata": {
        "id": "UZ9s0iosY4lL"
      }
    },
    {
      "cell_type": "code",
      "source": [
        "escolha: int = 2 #tipo str\n",
        "comparacao: int = 2 #tipo int\n",
        "\n",
        "print(f\"O tipo de dado que está na variável escolha é da classe: {type(escolha)}\\n\")\n",
        "print(f\"O tipo de dado que está na variável comparação é da classe: {type(comparacao)}\\n\")\n",
        "\n",
        "print(f\"O resultado da comparação lógica escolha == comparacao é: {escolha == comparacao}\")"
      ],
      "metadata": {
        "colab": {
          "base_uri": "https://localhost:8080/"
        },
        "id": "eTPSziARY-sZ",
        "outputId": "0f4c4f25-3282-4674-b9d4-33bd480cd62f"
      },
      "execution_count": null,
      "outputs": [
        {
          "output_type": "stream",
          "name": "stdout",
          "text": [
            "O tipo de dado que está na variável escolha é da classe: <class 'int'>\n",
            "\n",
            "O tipo de dado que está na variável comparação é da classe: <class 'int'>\n",
            "\n",
            "O resultado da comparação lógica escolha == comparacao é: True\n"
          ]
        }
      ]
    },
    {
      "cell_type": "markdown",
      "source": [
        "# Dessa forma eu irei padronizar o tipo de dado a ser recebido na variável escolha e as opções de comparação do sistema no mesmo tipo de dado: String (str). Obs: Não vou deixar do tipo inteiro (int) por motivo de não poder aplicar aqui o tratamento de erro ideal, pois, nesse caso se o usuário digitar uma letra no lugar do número o programa vai dar erro no momento em que a função int() tentar converter uma letra para número. Após realizar essa conversão eu inseri nas linhas 54 e 63 valores do tipo String (str)."
      ],
      "metadata": {
        "id": "1Ne6nIdnXAtv"
      }
    },
    {
      "cell_type": "code",
      "source": [
        "def incluir_funcionario():\n",
        "    nome = input(\"Digite seu Nome: \") #Faltando um parentese para fechar o input da informação de nome\n",
        "    cargo = input(\"Digite seu Cargo: \")\n",
        "    salario = int(input(\"Digite deu Salário: \"))\n",
        "    cidade = input(\"Digite sua Cidade: \") #Faltando um parentese para fechar o input da informação de cidade\n",
        "    estado = input(\"Digite seu Estado: \")\n",
        "    idade = float(input(\"Digite sua Idade: \"))\n",
        "    e_mail = input(\"Digite seu E-mail: \")  #Faltando um parentese para fechar o input da informacao de email\n",
        "\n",
        "    funcionario = {\n",
        "        \"nome\": nome,\n",
        "        \"cargoo\": cargo,\n",
        "        \"salario\": salario,\n",
        "        \"cidade\": cidade,\n",
        "        \"estado\": estado,\n",
        "        \"idade\": idade,\n",
        "        \"e_mail\": e_mail,\n",
        "    }\n",
        "\n",
        "    funcionarios.append(funcionario)\n",
        "\n",
        "def consultar_funcionario(nome):\n",
        "    for funcionario in funcionarios:\n",
        "        if funcionario[\"name\"] == nome:\n",
        "            return funcionario  #o nome da variavel de retorno deve ser \"funcionario\", estava errado \"funcioanrio\"\n",
        "    return None\n",
        "\n",
        "def listar_funcionarios():\n",
        "    for funcionario in funcionarios:\n",
        "        print(funcionario) #o nome da variavel de retorno deve ser \"funcionario\", estava errado \"funcioanrio\"\n",
        "\n",
        "def deletar_funcionario(nome):\n",
        "    for i in range(len(funcionarios)): #havia um parentese a mais nessa linha, o último parêntese da direita foi retirado\n",
        "        if funcionarios(i)[\"nome\"] == nome: #o nome da varivel correto nessa linha é 'nome' e não name igual ao nome do parâmetro da funcao deletar_funcionario\n",
        "            del funcionarios[i] #a variavel \"funcionários\" não está digitada corretamente, vou corrigir para \"funcionarios\" (sem acento)\n",
        "            return\n",
        "    return None\n",
        "\n",
        "funcionarios = {}\n",
        "\n",
        "print('****** EMPRESA PROJETO PYTHON   ******\\n')\n",
        "\n",
        "while True:\n",
        "    print(\"1. Incluir funcionário\")\n",
        "    print(\"2. Consultar funcionário\")\n",
        "    print(\"3. Listar funcionários\")\n",
        "    print(\"4. Deletar funcionário\")\n",
        "    print(\"0. Sair\")\n",
        "\n",
        "    escolha = input(\"Escolha uma opção: \")\n",
        "\n",
        "    if escolha == \"1\":\n",
        "        incluir_funcionario() #O nome da função está digitado incorretamente, o nome correto da função é incluir_funcionario()\n",
        "    elif escolha == \"2\":\n",
        "        nome = input(\"Nome do funcionário: \")\n",
        "        funcionario = consultar_funcionario(nome)\n",
        "        if funcionario is not None:\n",
        "            print(funcionario)\n",
        "        else:\n",
        "            print(\"Funcionário não encontrado.\")\n",
        "    elif escolha == \"3\":\n",
        "        listar_funcionarios() #O nome da função está como \"listar_funcionario()\" mas o nome correto da função é \"listar_funcionarios()\"\n",
        "    elif escolha == \"4\":\n",
        "        nome = input(\"Nome do funcionário: \")\n",
        "        deletar_funcionario(nome)\n",
        "        print(\"Funcionário removido com sucesso.\")\n",
        "    elif escolha == \"0\":\n",
        "        break"
      ],
      "metadata": {
        "id": "IyKNWPMsYUdg"
      },
      "execution_count": null,
      "outputs": []
    },
    {
      "cell_type": "markdown",
      "source": [
        "# Vou fazer uma panorama de análise geral sobre as 5 funções do sistema atual e caso houver alguma modificação a ser realizada no sistema será feita."
      ],
      "metadata": {
        "id": "aXA-QazgUXoc"
      }
    },
    {
      "cell_type": "markdown",
      "source": [
        "# **Análise Geral do Sistema**"
      ],
      "metadata": {
        "id": "CoKTXcGkbWeG"
      }
    },
    {
      "cell_type": "code",
      "source": [
        "def incluir_funcionario():\n",
        "    nome = input(\"Digite seu Nome: \") #Faltando um parentese para fechar o input da informação de nome\n",
        "    cargo = input(\"Digite seu Cargo: \")\n",
        "    salario = int(input(\"Digite deu Salário: \"))\n",
        "    cidade = input(\"Digite sua Cidade: \") #Faltando um parentese para fechar o input da informação de cidade\n",
        "    estado = input(\"Digite seu Estado: \")\n",
        "    idade = float(input(\"Digite sua Idade: \"))\n",
        "    e_mail = input(\"Digite seu E-mail: \")  #Faltando um parentese para fechar o input da informacao de email\n",
        "\n",
        "    funcionario = {\n",
        "        \"nome\": nome,\n",
        "        \"cargoo\": cargo,\n",
        "        \"salario\": salario,\n",
        "        \"cidade\": cidade,\n",
        "        \"estado\": estado,\n",
        "        \"idade\": idade,\n",
        "        \"e_mail\": e_mail,\n",
        "    }\n",
        "\n",
        "    funcionarios.append(funcionario)\n",
        "\n",
        "def consultar_funcionario(nome):\n",
        "    for funcionario in funcionarios:\n",
        "        if funcionario[\"name\"] == nome:\n",
        "            return funcionario  #o nome da variavel de retorno deve ser \"funcionario\", estava errado \"funcioanrio\"\n",
        "    return None\n",
        "\n",
        "def listar_funcionarios():\n",
        "    for funcionario in funcionarios:\n",
        "        print(funcionario) #o nome da variavel de retorno deve ser \"funcionario\", estava errado \"funcioanrio\"\n",
        "\n",
        "def deletar_funcionario(nome):\n",
        "    for i in range(len(funcionarios)): #havia um parentese a mais nessa linha, o último parêntese da direita foi retirado\n",
        "        if funcionarios(i)[\"nome\"] == nome: #o nome da varivel correto nessa linha é 'nome' e não name igual ao nome do parâmetro da funcao deletar_funcionario\n",
        "            del funcionarios[i] #a variavel \"funcionários\" não está digitada corretamente, vou corrigir para \"funcionarios\" (sem acento)\n",
        "            return\n",
        "    return None\n",
        "\n",
        "funcionarios = {}\n",
        "\n",
        "print('****** EMPRESA PROJETO PYTHON   ******\\n')\n",
        "\n",
        "while True:\n",
        "    print(\"1. Incluir funcionário\")\n",
        "    print(\"2. Consultar funcionário\")\n",
        "    print(\"3. Listar funcionários\")\n",
        "    print(\"4. Deletar funcionário\")\n",
        "    print(\"0. Sair\")\n",
        "\n",
        "    escolha = input(\"Escolha uma opção: \")\n",
        "\n",
        "    if escolha == \"1\":\n",
        "        incluir_funcionario() #O nome da função está digitado incorretamente, o nome correto da função é incluir_funcionario()\n",
        "    elif escolha == \"2\":\n",
        "        nome = input(\"Nome do funcionário: \")\n",
        "        funcionario = consultar_funcionario(nome)\n",
        "        if funcionario is not None:\n",
        "            print(funcionario)\n",
        "        else:\n",
        "            print(\"Funcionário não encontrado.\")\n",
        "    elif escolha == \"3\":\n",
        "        listar_funcionarios() #O nome da função está como \"listar_funcionario()\" mas o nome correto da função é \"listar_funcionarios()\"\n",
        "    elif escolha == \"4\":\n",
        "        nome = input(\"Nome do funcionário: \")\n",
        "        deletar_funcionario(nome)\n",
        "        print(\"Funcionário removido com sucesso.\")\n",
        "    elif escolha == \"0\":\n",
        "        break"
      ],
      "metadata": {
        "colab": {
          "base_uri": "https://localhost:8080/",
          "height": 593
        },
        "id": "ANVjTWnGbfHt",
        "outputId": "24f0fbac-5cf1-4ae5-873e-58d6325aef68"
      },
      "execution_count": null,
      "outputs": [
        {
          "name": "stdout",
          "output_type": "stream",
          "text": [
            "****** EMPRESA PROJETO PYTHON   ******\n",
            "\n",
            "1. Incluir funcionário\n",
            "2. Consultar funcionário\n",
            "3. Listar funcionários\n",
            "4. Deletar funcionário\n",
            "0. Sair\n",
            "Escolha uma opção: 1\n",
            "Digite seu Nome: ewerton Lima DE andradE\n",
            "Digite seu Cargo: analista de Dad0s\n",
            "Digite deu Salário: 3000\n",
            "Digite sua Cidade: manaus\n",
            "Digite seu Estado: AmazonaS\n",
            "Digite sua Idade: 36\n",
            "Digite seu E-mail: etonandrade@gmail.com\n"
          ]
        },
        {
          "output_type": "error",
          "ename": "AttributeError",
          "evalue": "'dict' object has no attribute 'append'",
          "traceback": [
            "\u001b[0;31m---------------------------------------------------------------------------\u001b[0m",
            "\u001b[0;31mAttributeError\u001b[0m                            Traceback (most recent call last)",
            "\u001b[0;32m<ipython-input-7-68e3af84bb9a>\u001b[0m in \u001b[0;36m<cell line: 43>\u001b[0;34m()\u001b[0m\n\u001b[1;32m     51\u001b[0m \u001b[0;34m\u001b[0m\u001b[0m\n\u001b[1;32m     52\u001b[0m     \u001b[0;32mif\u001b[0m \u001b[0mescolha\u001b[0m \u001b[0;34m==\u001b[0m \u001b[0;34m\"1\"\u001b[0m\u001b[0;34m:\u001b[0m\u001b[0;34m\u001b[0m\u001b[0;34m\u001b[0m\u001b[0m\n\u001b[0;32m---> 53\u001b[0;31m         \u001b[0mincluir_funcionario\u001b[0m\u001b[0;34m(\u001b[0m\u001b[0;34m)\u001b[0m \u001b[0;31m#O nome da função está digitado incorretamente, o nome correto da função é incluir_funcionario()\u001b[0m\u001b[0;34m\u001b[0m\u001b[0;34m\u001b[0m\u001b[0m\n\u001b[0m\u001b[1;32m     54\u001b[0m     \u001b[0;32melif\u001b[0m \u001b[0mescolha\u001b[0m \u001b[0;34m==\u001b[0m \u001b[0;34m\"2\"\u001b[0m\u001b[0;34m:\u001b[0m\u001b[0;34m\u001b[0m\u001b[0;34m\u001b[0m\u001b[0m\n\u001b[1;32m     55\u001b[0m         \u001b[0mnome\u001b[0m \u001b[0;34m=\u001b[0m \u001b[0minput\u001b[0m\u001b[0;34m(\u001b[0m\u001b[0;34m\"Nome do funcionário: \"\u001b[0m\u001b[0;34m)\u001b[0m\u001b[0;34m\u001b[0m\u001b[0;34m\u001b[0m\u001b[0m\n",
            "\u001b[0;32m<ipython-input-7-68e3af84bb9a>\u001b[0m in \u001b[0;36mincluir_funcionario\u001b[0;34m()\u001b[0m\n\u001b[1;32m     18\u001b[0m     }\n\u001b[1;32m     19\u001b[0m \u001b[0;34m\u001b[0m\u001b[0m\n\u001b[0;32m---> 20\u001b[0;31m     \u001b[0mfuncionarios\u001b[0m\u001b[0;34m.\u001b[0m\u001b[0mappend\u001b[0m\u001b[0;34m(\u001b[0m\u001b[0mfuncionario\u001b[0m\u001b[0;34m)\u001b[0m\u001b[0;34m\u001b[0m\u001b[0;34m\u001b[0m\u001b[0m\n\u001b[0m\u001b[1;32m     21\u001b[0m \u001b[0;34m\u001b[0m\u001b[0m\n\u001b[1;32m     22\u001b[0m \u001b[0;32mdef\u001b[0m \u001b[0mconsultar_funcionario\u001b[0m\u001b[0;34m(\u001b[0m\u001b[0mnome\u001b[0m\u001b[0;34m)\u001b[0m\u001b[0;34m:\u001b[0m\u001b[0;34m\u001b[0m\u001b[0;34m\u001b[0m\u001b[0m\n",
            "\u001b[0;31mAttributeError\u001b[0m: 'dict' object has no attribute 'append'"
          ]
        }
      ]
    },
    {
      "cell_type": "markdown",
      "source": [
        "# Após terminar o fluxo de preenchimento dos dados do funcionário, ao tentar executar o método 'append' um erro ocorre. Isso ocorre porque o método 'append' não é um método pertecente à estrutura de dado de dicionário no Python, a variável 'funcionários' é do tipo dict.\n",
        "\n",
        "#Talvez utilizar essa estrutura de dados (dicionário) para armazenar a inclusão de um funcionário não seja a ideal pois eu desejo fazer isso rapidamente e se possível realizar alguma iteração entre os objetos de cada funcionário incluído. Além disso, para usar essa estrutura de dados eu vou precisar modificar as funções do sistema que foram construídas para utilizar a estrutura de dado do tipo 'lista' ao invés de dicionário.\n",
        "\n",
        "# Por outro lado em termos de performance de algoritmo as funções de buscar um usuário específico e deletar um usuário específico ganham significativamente, pois quanto maior forem as quantidades de funcionários maior tempo de execução pode haver buscando um dado específico em uma lista do que em um dicionário.\n",
        "\n",
        "# Aqui eu vou realizar a escolha de utilizar a estrutura de dado do tipo dicionário. A minha justificativa é de que eu não sei o quanto esse sistema será utilizado ou possa crescer em futuras demandas. Pensando em performance do sistema vou seguir o caminho mais difícil: O de modificar as funções do sistema para adequar à estrutura de dado do tipo dicionário.\n",
        "\n",
        "# É claro que talvez em um problema do mundo real se o prazo de entrega fosse muito curto e as modificações fossem levar mais tempo do que o previsto para a entrega pensaria em utilizar a estrutura do tipo lista  porque nesse caso teria uma economia de tempo aburda."
      ],
      "metadata": {
        "id": "rBiy4MIZb7rU"
      }
    },
    {
      "cell_type": "markdown",
      "source": [
        "# As ações que vou tomar para adequar o código do sistema para utilizar a estrutura de dados do tipo dicionário é:\n",
        "\n",
        "# A- Incluir: Modificar a estrutura de dado 'funcionario', sendo agora uma estrutura que identifica os dados do funcionário por meio do próprio nome do usuário (chave);\n",
        "\n",
        "# B- Consultar: procurar os dados do funcionario por meio do nome do funcionario em uma estrutura de dicionario;\n",
        "\n",
        "# C- Listar: iterar a chave e valor de cada funcionário em um dicionário;\n",
        "\n",
        "# D- Deletar: utilizar o método do dicionário 'pop' para deletar o dado de um funcionário por meio do nome do funcionário;\n",
        "\n",
        "# E- Outras: Em todas as funções vou acrescentar um parâmetro para poder receber a estrutura de dados desejada; Obs: Acho que assim fica melhor para usar a função em outros arquivos e lugares do código caso haja uma expansão significativa no tamanho do sistema;\n",
        "\n",
        "# F- Outras: Vou acrescentar mais uma condição de parada para que em caso de o usuário digitar qualquer outra coisa que não esteja dentro das opções do menu o sistema pare;"
      ],
      "metadata": {
        "id": "bfZ9gWTRl4k-"
      }
    },
    {
      "cell_type": "markdown",
      "source": [
        "#Após as modificações mencionadas acima, o código do sistema fica assim:"
      ],
      "metadata": {
        "id": "H4CDnb7KVo4u"
      }
    },
    {
      "cell_type": "code",
      "source": [
        "funcionarios = {}\n",
        "\n",
        "def incluir_funcionario(dados_funcionarios: dict):\n",
        "    nome = input(\"Digite seu Nome: \")\n",
        "    cargo = input(\"Digite seu Cargo: \")\n",
        "    salario = int(input(\"Digite deu Salário: \"))\n",
        "    cidade = input(\"Digite sua Cidade: \")\n",
        "    estado = input(\"Digite seu Estado: \")\n",
        "    idade = float(input(\"Digite sua Idade: \"))\n",
        "    e_mail = input(\"Digite seu E-mail: \")\n",
        "\n",
        "    dados_funcionarios[nome] = {\n",
        "        \"cargo\": cargo,\n",
        "        \"salario\": salario,\n",
        "        \"cidade\": cidade,\n",
        "        \"estado\": estado,\n",
        "        \"idade\": idade,\n",
        "        \"e_mail\": e_mail,\n",
        "    }\n",
        "\n",
        "def consultar_funcionario(nome, dados_funcionarios: dict):\n",
        "    if nome is not None:\n",
        "        return { nome: dados_funcionarios[nome] }\n",
        "    return None\n",
        "\n",
        "def listar_funcionarios(dados_funcionarios: dict):\n",
        "    for nome, dados in dados_funcionarios.items():\n",
        "        print(f\"{nome}: {dados}\")\n",
        "\n",
        "def deletar_funcionario(nome, dados_funcionarios: dict):\n",
        "    if nome is not None:\n",
        "        return dados_funcionarios.pop(nome)\n",
        "    return None\n",
        "\n",
        "print('****** EMPRESA PROJETO PYTHON   ******\\n')\n",
        "\n",
        "while True:\n",
        "    print(\"1. Incluir funcionário\")\n",
        "    print(\"2. Consultar funcionário\")\n",
        "    print(\"3. Listar funcionários\")\n",
        "    print(\"4. Deletar funcionário\")\n",
        "    print(\"0. Sair\")\n",
        "\n",
        "    escolha = input(\"Escolha uma opção: \")\n",
        "\n",
        "    if escolha == \"1\":\n",
        "        incluir_funcionario(funcionarios)\n",
        "    elif escolha == \"2\":\n",
        "        nome = input(\"Nome do funcionário: \")\n",
        "        funcionario = consultar_funcionario(nome, funcionarios)\n",
        "        if funcionario is not None:\n",
        "            print(funcionario)\n",
        "        else:\n",
        "            print(\"Funcionário não encontrado.\")\n",
        "    elif escolha == \"3\":\n",
        "        listar_funcionarios(funcionarios)\n",
        "    elif escolha == \"4\":\n",
        "        nome = input(\"Nome do funcionário: \")\n",
        "        deletar_funcionario(nome, funcionarios)\n",
        "        print(\"Funcionário removido com sucesso.\")\n",
        "    elif escolha == \"0\":\n",
        "        break\n",
        "    else:\n",
        "      break"
      ],
      "metadata": {
        "id": "sueyGOBQmeWN"
      },
      "execution_count": null,
      "outputs": []
    },
    {
      "cell_type": "markdown",
      "source": [
        "# A partir desse ponto passo a analisar cada função oferecida pelo sistema que são basicamente 5:\n",
        "\n",
        "#- Incluir um funcionário;\n",
        "\n",
        "#- Consultar um funcionário;\n",
        "\n",
        "#- Listar funcionários;\n",
        "\n",
        "#- Deletar funcionário;\n",
        "\n",
        "#- Fechar o programa;"
      ],
      "metadata": {
        "id": "N3NBtsIhQWX6"
      }
    },
    {
      "cell_type": "markdown",
      "source": [
        "# **Análise da função de INCLUIR funcionário**"
      ],
      "metadata": {
        "id": "epTjdp8VQWh0"
      }
    },
    {
      "cell_type": "code",
      "source": [
        "funcionarios = {}\n",
        "\n",
        "def incluir_funcionario(dados_funcionarios: dict):\n",
        "    nome = input(\"Digite seu Nome: \")\n",
        "    cargo = input(\"Digite seu Cargo: \")\n",
        "    salario = int(input(\"Digite deu Salário: \"))\n",
        "    cidade = input(\"Digite sua Cidade: \")\n",
        "    estado = input(\"Digite seu Estado: \")\n",
        "    idade = float(input(\"Digite sua Idade: \"))\n",
        "    e_mail = input(\"Digite seu E-mail: \")\n",
        "\n",
        "    dados_funcionarios[nome] = {\n",
        "        \"cargo\": cargo,\n",
        "        \"salario\": salario,\n",
        "        \"cidade\": cidade,\n",
        "        \"estado\": estado,\n",
        "        \"idade\": idade,\n",
        "        \"e_mail\": e_mail,\n",
        "    }\n",
        "\n",
        "def consultar_funcionario(nome, dados_funcionarios: dict):\n",
        "    if nome is not None:\n",
        "        return { nome: dados_funcionarios[nome] }\n",
        "    return None\n",
        "\n",
        "def listar_funcionarios(dados_funcionarios: dict):\n",
        "    for nome, dados in dados_funcionarios.items():\n",
        "        print(f\"{nome}: {dados}\")\n",
        "\n",
        "def deletar_funcionario(nome, dados_funcionarios: dict):\n",
        "    if nome is not None:\n",
        "        return dados_funcionarios.pop(nome)\n",
        "    return None\n",
        "\n",
        "print('****** EMPRESA PROJETO PYTHON   ******\\n')\n",
        "\n",
        "while True:\n",
        "    print(\"1. Incluir funcionário\")\n",
        "    print(\"2. Consultar funcionário\")\n",
        "    print(\"3. Listar funcionários\")\n",
        "    print(\"4. Deletar funcionário\")\n",
        "    print(\"0. Sair\")\n",
        "\n",
        "    escolha = input(\"Escolha uma opção: \")\n",
        "\n",
        "    if escolha == \"1\":\n",
        "        incluir_funcionario(funcionarios)\n",
        "    elif escolha == \"2\":\n",
        "        nome = input(\"Nome do funcionário: \")\n",
        "        funcionario = consultar_funcionario(nome, funcionarios)\n",
        "        if funcionario is not None:\n",
        "            print(funcionario)\n",
        "        else:\n",
        "            print(\"Funcionário não encontrado.\")\n",
        "    elif escolha == \"3\":\n",
        "        listar_funcionarios(funcionarios)\n",
        "    elif escolha == \"4\":\n",
        "        nome = input(\"Nome do funcionário: \")\n",
        "        deletar_funcionario(nome, funcionarios)\n",
        "        print(\"Funcionário removido com sucesso.\")\n",
        "    elif escolha == \"0\":\n",
        "        break\n",
        "    else:\n",
        "      break"
      ],
      "metadata": {
        "colab": {
          "base_uri": "https://localhost:8080/"
        },
        "id": "F6L5pvbTZ4AN",
        "outputId": "8929e1b2-7d80-4d0b-ec72-644cd870df77"
      },
      "execution_count": null,
      "outputs": [
        {
          "name": "stdout",
          "output_type": "stream",
          "text": [
            "****** EMPRESA PROJETO PYTHON   ******\n",
            "\n",
            "1. Incluir funcionário\n",
            "2. Consultar funcionário\n",
            "3. Listar funcionários\n",
            "4. Deletar funcionário\n",
            "0. Sair\n",
            "Escolha uma opção: 1\n",
            "Digite seu Nome: ewerton LIma DE ANDRADe\n",
            "Digite seu Cargo: analistA DE DADOS\n",
            "Digite deu Salário: 3000\n",
            "Digite sua Cidade:                 manauS\n",
            "Digite seu Estado: amazonas           \n",
            "Digite sua Idade: 23\n",
            "Digite seu E-mail: etonandrade@gmail.com\n",
            "1. Incluir funcionário\n",
            "2. Consultar funcionário\n",
            "3. Listar funcionários\n",
            "4. Deletar funcionário\n",
            "0. Sair\n",
            "Escolha uma opção: 2\n",
            "Nome do funcionário: ewerton LIma DE ANDRADe\n",
            "{'ewerton LIma DE ANDRADe': {'cargo': 'analistA DE DADOS', 'salario': 3000, 'cidade': '                manauS', 'estado': 'amazonas           ', 'idade': 23.0, 'e_mail': 'etonandrade@gmail.com'}}\n",
            "1. Incluir funcionário\n",
            "2. Consultar funcionário\n",
            "3. Listar funcionários\n",
            "4. Deletar funcionário\n",
            "0. Sair\n",
            "Escolha uma opção: 0\n"
          ]
        }
      ]
    },
    {
      "cell_type": "markdown",
      "source": [
        "# Após a execução acima foi possível constatar que:\n",
        "\n",
        "# - O usuário pode digitar um input contendo espaços em branco tanto no início quanto no final do input; Isso pode ser um problema e consumir muito mais recursos do que o necessário dentro do sistema;\n",
        "\n",
        "# - Depende do usuário a formatação do input dos dados contidos em nome, cargo, cidade e estado; É necessário haver um padrão dentro do sistema e esse padrão não deve depender do usuário;\n",
        "\n",
        "# - Caso eu digite um número decimal em salário a função int() desconsiderará a parte decimal do dado e deixará apenas a parte inteira; Isso pode se tornar um problema caso o dado seja utilizado como base para algum cálculo financeiro por exemplo podendo induzir a erros dentro das regras de negócio; Exemplo: Cálculo de férias e décimo terceiro baseado no valor desse dado como salário base;\n",
        "\n",
        "#- A idade está sendo salva no tipo float; O ideal é que seja do tipo 'int' (inteiro);\n",
        "\n",
        "# Concluo que é possível melhorar os inputs de dados utilizando alguns métodos de string, as mudanças que irei fazer são:\n",
        "\n",
        "# A- A variável salário está como um dado do tipo int (inteiro). Com frequência o valor salarial contém os valores de centavos, ou seja, o ideal é que ela seja do tipo float. Vou tornar a variável salário no tipo float;\n",
        "\n",
        "# B- A variável idade está como um dado do tipo float porém o ideal é que a idade seja do tipo int (inteiro). Vou tornar a variável do tipo idade em tipo inteiro;\n",
        "\n",
        "# C- Vou inserir tratamento nas variáveis do tipo string utilizando alguns métodos:\n",
        "\n",
        "#     C.1- Inserir o método title para que as variáveis nome, cargo, cidade e estado possuam cada palavra iniciando com letra maiúscula e as outras permaneçam minúsculas.\n",
        "\n",
        "#    C.2 - Inserir o método strip para que as variáveis nome, cargo, cidade, estado e e-email não possuam espaços em branco no início e nem no fim;"
      ],
      "metadata": {
        "id": "tNQ5h5_Kg9b8"
      }
    },
    {
      "cell_type": "markdown",
      "source": [
        "# Após as modificações realizadas acima no eu vou escrever os mesmos valores de input do teste anterior para testar se as modificações foram realizadas:\n",
        "\n",
        "# 'ewerton LIma DE ANDRADe'\n",
        "\n",
        "#'analistA DE DADOS'\n",
        "\n",
        "# 3000.45\n",
        "\n",
        "#'                manauS'\n",
        "\n",
        "#'amazonas          '\n",
        "\n",
        "#'              etonandrade@gmail.com                       '"
      ],
      "metadata": {
        "id": "LBC85_Qnd4jc"
      }
    },
    {
      "cell_type": "code",
      "source": [
        "funcionarios = {}\n",
        "\n",
        "def incluir_funcionario(dados_funcionarios: dict):\n",
        "    nome = input(\"Digite seu Nome: \").title().strip()\n",
        "    cargo = input(\"Digite seu Cargo: \").title().strip()\n",
        "    salario = float(input(\"Digite deu Salário: \"))\n",
        "    cidade = input(\"Digite sua Cidade: \").title().strip()\n",
        "    estado = input(\"Digite seu Estado: \").title().strip()\n",
        "    idade = int(input(\"Digite sua Idade: \"))\n",
        "    e_mail = input(\"Digite seu E-mail: \").strip()\n",
        "\n",
        "    dados_funcionarios[nome] = {\n",
        "        \"cargo\": cargo,\n",
        "        \"salario\": salario,\n",
        "        \"cidade\": cidade,\n",
        "        \"estado\": estado,\n",
        "        \"idade\": idade,\n",
        "        \"e_mail\": e_mail,\n",
        "    }\n",
        "\n",
        "def consultar_funcionario(nome, dados_funcionarios: dict):\n",
        "    if nome is not None:\n",
        "        return { nome: dados_funcionarios[nome] }\n",
        "    return None\n",
        "\n",
        "def listar_funcionarios(dados_funcionarios: dict):\n",
        "    for nome, dados in dados_funcionarios.items():\n",
        "        print(f\"{nome}: {dados}\")\n",
        "\n",
        "def deletar_funcionario(nome, dados_funcionarios: dict):\n",
        "    if nome is not None:\n",
        "        return dados_funcionarios.pop(nome)\n",
        "    return None\n",
        "\n",
        "print('****** EMPRESA PROJETO PYTHON   ******\\n')\n",
        "\n",
        "while True:\n",
        "    print(\"1. Incluir funcionário\")\n",
        "    print(\"2. Consultar funcionário\")\n",
        "    print(\"3. Listar funcionários\")\n",
        "    print(\"4. Deletar funcionário\")\n",
        "    print(\"0. Sair\")\n",
        "\n",
        "    escolha = input(\"Escolha uma opção: \")\n",
        "\n",
        "    if escolha == \"1\":\n",
        "        incluir_funcionario(funcionarios)\n",
        "    elif escolha == \"2\":\n",
        "        nome = input(\"Nome do funcionário: \")\n",
        "        funcionario = consultar_funcionario(nome, funcionarios)\n",
        "        if funcionario is not None:\n",
        "            print(funcionario)\n",
        "        else:\n",
        "            print(\"Funcionário não encontrado.\")\n",
        "    elif escolha == \"3\":\n",
        "        listar_funcionarios(funcionarios)\n",
        "    elif escolha == \"4\":\n",
        "        nome = input(\"Nome do funcionário: \")\n",
        "        deletar_funcionario(nome, funcionarios)\n",
        "        print(\"Funcionário removido com sucesso.\")\n",
        "    elif escolha == \"0\":\n",
        "        break\n",
        "    else:\n",
        "      break"
      ],
      "metadata": {
        "colab": {
          "base_uri": "https://localhost:8080/"
        },
        "id": "-sFhdTLFeAql",
        "outputId": "09426ae2-7126-4f1a-bda0-cf8e7c9638e7"
      },
      "execution_count": null,
      "outputs": [
        {
          "name": "stdout",
          "output_type": "stream",
          "text": [
            "****** EMPRESA PROJETO PYTHON   ******\n",
            "\n",
            "1. Incluir funcionário\n",
            "2. Consultar funcionário\n",
            "3. Listar funcionários\n",
            "4. Deletar funcionário\n",
            "0. Sair\n",
            "Escolha uma opção: ewerton LIma DE ANDRADe\n",
            "1. Incluir funcionário\n",
            "2. Consultar funcionário\n",
            "3. Listar funcionários\n",
            "4. Deletar funcionário\n",
            "0. Sair\n",
            "Escolha uma opção: 1\n",
            "Digite seu Nome: ewerton LIma DE ANDRADe\n",
            "Digite seu Cargo: analistA DE DADOS\n",
            "Digite deu Salário: 3000.45\n",
            "Digite sua Cidade:                 manauS\n",
            "Digite seu Estado: amazonas          \n",
            "Digite sua Idade: 36\n",
            "Digite seu E-mail:               etonandrade@gmail.com                       \n",
            "1. Incluir funcionário\n",
            "2. Consultar funcionário\n",
            "3. Listar funcionários\n",
            "4. Deletar funcionário\n",
            "0. Sair\n",
            "Escolha uma opção: 2\n",
            "Nome do funcionário: Ewerton Lima De Andrade\n",
            "{'Ewerton Lima De Andrade': {'cargo': 'Analista De Dados', 'salario': 3000.45, 'cidade': 'Manaus', 'estado': 'Amazonas', 'idade': 36, 'e_mail': 'etonandrade@gmail.com'}}\n",
            "1. Incluir funcionário\n",
            "2. Consultar funcionário\n",
            "3. Listar funcionários\n",
            "4. Deletar funcionário\n",
            "0. Sair\n",
            "Escolha uma opção: 0\n"
          ]
        }
      ]
    },
    {
      "cell_type": "markdown",
      "source": [
        "# Após a execução acima foi possível notar que os métodos de string foram implementados com sucesso após a consulta do dado do funcionário por nome \"Ewerton Lima De Andrade\"."
      ],
      "metadata": {
        "id": "z6BMwWWfjtM_"
      }
    },
    {
      "cell_type": "markdown",
      "source": [
        "#"
      ],
      "metadata": {
        "id": "eNgp9i91ltB_"
      }
    },
    {
      "cell_type": "code",
      "source": [
        "funcionarios = {}\n",
        "\n",
        "def incluir_funcionario(dados_funcionarios: dict):\n",
        "    nome = input(\"Digite seu Nome: \").title().strip()\n",
        "    cargo = input(\"Digite seu Cargo: \").title().strip()\n",
        "    salario = float(input(\"Digite deu Salário: \"))\n",
        "    cidade = input(\"Digite sua Cidade: \").title().strip()\n",
        "    estado = input(\"Digite seu Estado: \").title().strip()\n",
        "    idade = int(input(\"Digite sua Idade: \"))\n",
        "    e_mail = input(\"Digite seu E-mail: \").strip()\n",
        "\n",
        "    dados_funcionarios[nome] = {\n",
        "        \"cargo\": cargo,\n",
        "        \"salario\": salario,\n",
        "        \"cidade\": cidade,\n",
        "        \"estado\": estado,\n",
        "        \"idade\": idade,\n",
        "        \"e_mail\": e_mail,\n",
        "    }\n",
        "\n",
        "def consultar_funcionario(nome, dados_funcionarios: dict):\n",
        "    if nome is not None:\n",
        "        return { nome: dados_funcionarios[nome] }\n",
        "    return None\n",
        "\n",
        "def listar_funcionarios(dados_funcionarios: dict):\n",
        "    for nome, dados in dados_funcionarios.items():\n",
        "        print(f\"{nome}: {dados}\")\n",
        "\n",
        "def deletar_funcionario(nome, dados_funcionarios: dict):\n",
        "    if nome is not None:\n",
        "        return dados_funcionarios.pop(nome)\n",
        "    return None\n",
        "\n",
        "print('****** EMPRESA PROJETO PYTHON   ******\\n')\n",
        "\n",
        "while True:\n",
        "    print(\"1. Incluir funcionário\")\n",
        "    print(\"2. Consultar funcionário\")\n",
        "    print(\"3. Listar funcionários\")\n",
        "    print(\"4. Deletar funcionário\")\n",
        "    print(\"0. Sair\")\n",
        "\n",
        "    escolha = input(\"Escolha uma opção: \")\n",
        "\n",
        "    if escolha == \"1\":\n",
        "        incluir_funcionario(funcionarios)\n",
        "    elif escolha == \"2\":\n",
        "        nome = input(\"Nome do funcionário: \")\n",
        "        funcionario = consultar_funcionario(nome, funcionarios)\n",
        "        if funcionario is not None:\n",
        "            print(funcionario)\n",
        "        else:\n",
        "            print(\"Funcionário não encontrado.\")\n",
        "    elif escolha == \"3\":\n",
        "        listar_funcionarios(funcionarios)\n",
        "    elif escolha == \"4\":\n",
        "        nome = input(\"Nome do funcionário: \")\n",
        "        deletar_funcionario(nome, funcionarios)\n",
        "        print(\"Funcionário removido com sucesso.\")\n",
        "    elif escolha == \"0\":\n",
        "        break\n",
        "    else:\n",
        "      break"
      ],
      "metadata": {
        "id": "udT8u-LilNRU"
      },
      "execution_count": null,
      "outputs": []
    },
    {
      "cell_type": "markdown",
      "source": [
        "# **Análise da função de CONSULTAR funcionário**"
      ],
      "metadata": {
        "id": "jGZjBEXzlDaX"
      }
    },
    {
      "cell_type": "markdown",
      "source": [
        "# Vou cravar os dados de 3 usuários no código para poder testar a função de consulta de dados. Dessa forma meu foco são dois testes:\n",
        "\n",
        "# Teste A- Testar o case sensitive para o nome do funcionário. É possível que o usuário digite o nome do funcionário corretamente mas por conta de uma letra maiúscula ou minúscula haja impedimento de ver o dado do usuário. (Exemplo: Se eu digitar \"Ewerton Lima de Andrade\" (diferença 'de', será que o sistema vai conseguir consultar este funcionário?)\n",
        "\n",
        "# Teste B- Testar o que ocorre quando eu consulto um nome inexistente na base de dados;"
      ],
      "metadata": {
        "id": "edDaq2QSnX_v"
      }
    },
    {
      "cell_type": "markdown",
      "source": [
        "# Realizando o Teste A"
      ],
      "metadata": {
        "id": "yXSnz7Mpqx-C"
      }
    },
    {
      "cell_type": "code",
      "source": [
        "funcionarios = {\n",
        "    \"Ewerton Lima De Andrade\": {\n",
        "        \"cargo\": \"Analista De Dados\",\n",
        "        \"salario\": 5000.45,\n",
        "        \"cidade\": \"São Caetano Do Sul\",\n",
        "        \"estado\": \"São Paulo\",\n",
        "        \"idade\": 36,\n",
        "        \"e_mail\": \"etonandrade@gmail.com\",\n",
        "    },\n",
        "    \"Gleska De Andrade\": {\n",
        "        \"cargo\": \"Desenvolvedor De Software Junior\",\n",
        "        \"salario\": 4007.89,\n",
        "        \"cidade\": \"São Caetano Do Sul\",\n",
        "        \"estado\": \"São Paulo\",\n",
        "        \"idade\": 43,\n",
        "        \"e_mail\": \"gleska@gmail.com\",\n",
        "    },\n",
        "    \"Diego Dieb Diebold\": {\n",
        "        \"cargo\": \"Desenvolvedor De Software Pleno\",\n",
        "        \"salario\": 7007.89,\n",
        "        \"cidade\": \"São Paulo\",\n",
        "        \"estado\": \"São Paulo\",\n",
        "        \"idade\": 40,\n",
        "        \"e_mail\": \"diego@gmail.com\",\n",
        "    },\n",
        "\n",
        "}"
      ],
      "metadata": {
        "id": "0Po3syVNpsK4"
      },
      "execution_count": null,
      "outputs": []
    },
    {
      "cell_type": "code",
      "source": [
        "def incluir_funcionario(dados_funcionarios: dict):\n",
        "    nome = input(\"Digite seu Nome: \").title().strip()\n",
        "    cargo = input(\"Digite seu Cargo: \").title().strip()\n",
        "    salario = float(input(\"Digite deu Salário: \"))\n",
        "    cidade = input(\"Digite sua Cidade: \").title().strip()\n",
        "    estado = input(\"Digite seu Estado: \").title().strip()\n",
        "    idade = int(input(\"Digite sua Idade: \"))\n",
        "    e_mail = input(\"Digite seu E-mail: \").strip()\n",
        "\n",
        "    dados_funcionarios[nome] = {\n",
        "        \"cargo\": cargo,\n",
        "        \"salario\": salario,\n",
        "        \"cidade\": cidade,\n",
        "        \"estado\": estado,\n",
        "        \"idade\": idade,\n",
        "        \"e_mail\": e_mail,\n",
        "    }\n",
        "\n",
        "def consultar_funcionario(nome, dados_funcionarios: dict):\n",
        "    if nome is not None:\n",
        "        return { nome: dados_funcionarios[nome] }\n",
        "    return None\n",
        "\n",
        "def listar_funcionarios(dados_funcionarios: dict):\n",
        "    for nome, dados in dados_funcionarios.items():\n",
        "        print(f\"{nome}: {dados}\")\n",
        "\n",
        "def deletar_funcionario(nome, dados_funcionarios: dict):\n",
        "    if nome is not None:\n",
        "        return dados_funcionarios.pop(nome)\n",
        "    return None\n",
        "\n",
        "print('****** EMPRESA PROJETO PYTHON   ******\\n')\n",
        "\n",
        "while True:\n",
        "    print(\"1. Incluir funcionário\")\n",
        "    print(\"2. Consultar funcionário\")\n",
        "    print(\"3. Listar funcionários\")\n",
        "    print(\"4. Deletar funcionário\")\n",
        "    print(\"0. Sair\")\n",
        "\n",
        "    escolha = input(\"Escolha uma opção: \")\n",
        "\n",
        "    if escolha == \"1\":\n",
        "        incluir_funcionario(funcionarios)\n",
        "    elif escolha == \"2\":\n",
        "        nome = input(\"Nome do funcionário: \")\n",
        "        funcionario = consultar_funcionario(nome, funcionarios)\n",
        "        if funcionario is not None:\n",
        "            print(funcionario)\n",
        "        else:\n",
        "            print(\"Funcionário não encontrado.\")\n",
        "    elif escolha == \"3\":\n",
        "        listar_funcionarios(funcionarios)\n",
        "    elif escolha == \"4\":\n",
        "        nome = input(\"Nome do funcionário: \")\n",
        "        deletar_funcionario(nome, funcionarios)\n",
        "        print(\"Funcionário removido com sucesso.\")\n",
        "    elif escolha == \"0\":\n",
        "        break\n",
        "    else:\n",
        "      break"
      ],
      "metadata": {
        "colab": {
          "base_uri": "https://localhost:8080/",
          "height": 488
        },
        "id": "qfUTZVYAofwh",
        "outputId": "99c803c2-dfbb-4f81-f4f4-0d220a6eb4c7"
      },
      "execution_count": null,
      "outputs": [
        {
          "name": "stdout",
          "output_type": "stream",
          "text": [
            "****** EMPRESA PROJETO PYTHON   ******\n",
            "\n",
            "1. Incluir funcionário\n",
            "2. Consultar funcionário\n",
            "3. Listar funcionários\n",
            "4. Deletar funcionário\n",
            "0. Sair\n",
            "Escolha uma opção: 2\n",
            "Nome do funcionário: Ewerton Lima de Andrade\n"
          ]
        },
        {
          "output_type": "error",
          "ename": "KeyError",
          "evalue": "'Ewerton Lima de Andrade'",
          "traceback": [
            "\u001b[0;31m---------------------------------------------------------------------------\u001b[0m",
            "\u001b[0;31mKeyError\u001b[0m                                  Traceback (most recent call last)",
            "\u001b[0;32m<ipython-input-10-38066ee92d9e>\u001b[0m in \u001b[0;36m<cell line: 35>\u001b[0;34m()\u001b[0m\n\u001b[1;32m     46\u001b[0m     \u001b[0;32melif\u001b[0m \u001b[0mescolha\u001b[0m \u001b[0;34m==\u001b[0m \u001b[0;34m\"2\"\u001b[0m\u001b[0;34m:\u001b[0m\u001b[0;34m\u001b[0m\u001b[0;34m\u001b[0m\u001b[0m\n\u001b[1;32m     47\u001b[0m         \u001b[0mnome\u001b[0m \u001b[0;34m=\u001b[0m \u001b[0minput\u001b[0m\u001b[0;34m(\u001b[0m\u001b[0;34m\"Nome do funcionário: \"\u001b[0m\u001b[0;34m)\u001b[0m\u001b[0;34m\u001b[0m\u001b[0;34m\u001b[0m\u001b[0m\n\u001b[0;32m---> 48\u001b[0;31m         \u001b[0mfuncionario\u001b[0m \u001b[0;34m=\u001b[0m \u001b[0mconsultar_funcionario\u001b[0m\u001b[0;34m(\u001b[0m\u001b[0mnome\u001b[0m\u001b[0;34m,\u001b[0m \u001b[0mfuncionarios\u001b[0m\u001b[0;34m)\u001b[0m\u001b[0;34m\u001b[0m\u001b[0;34m\u001b[0m\u001b[0m\n\u001b[0m\u001b[1;32m     49\u001b[0m         \u001b[0;32mif\u001b[0m \u001b[0mfuncionario\u001b[0m \u001b[0;32mis\u001b[0m \u001b[0;32mnot\u001b[0m \u001b[0;32mNone\u001b[0m\u001b[0;34m:\u001b[0m\u001b[0;34m\u001b[0m\u001b[0;34m\u001b[0m\u001b[0m\n\u001b[1;32m     50\u001b[0m             \u001b[0mprint\u001b[0m\u001b[0;34m(\u001b[0m\u001b[0mfuncionario\u001b[0m\u001b[0;34m)\u001b[0m\u001b[0;34m\u001b[0m\u001b[0;34m\u001b[0m\u001b[0m\n",
            "\u001b[0;32m<ipython-input-10-38066ee92d9e>\u001b[0m in \u001b[0;36mconsultar_funcionario\u001b[0;34m(nome, dados_funcionarios)\u001b[0m\n\u001b[1;32m     19\u001b[0m \u001b[0;32mdef\u001b[0m \u001b[0mconsultar_funcionario\u001b[0m\u001b[0;34m(\u001b[0m\u001b[0mnome\u001b[0m\u001b[0;34m,\u001b[0m \u001b[0mdados_funcionarios\u001b[0m\u001b[0;34m:\u001b[0m \u001b[0mdict\u001b[0m\u001b[0;34m)\u001b[0m\u001b[0;34m:\u001b[0m\u001b[0;34m\u001b[0m\u001b[0;34m\u001b[0m\u001b[0m\n\u001b[1;32m     20\u001b[0m     \u001b[0;32mif\u001b[0m \u001b[0mnome\u001b[0m \u001b[0;32mis\u001b[0m \u001b[0;32mnot\u001b[0m \u001b[0;32mNone\u001b[0m\u001b[0;34m:\u001b[0m\u001b[0;34m\u001b[0m\u001b[0;34m\u001b[0m\u001b[0m\n\u001b[0;32m---> 21\u001b[0;31m         \u001b[0;32mreturn\u001b[0m \u001b[0;34m{\u001b[0m \u001b[0mnome\u001b[0m\u001b[0;34m:\u001b[0m \u001b[0mdados_funcionarios\u001b[0m\u001b[0;34m[\u001b[0m\u001b[0mnome\u001b[0m\u001b[0;34m]\u001b[0m \u001b[0;34m}\u001b[0m\u001b[0;34m\u001b[0m\u001b[0;34m\u001b[0m\u001b[0m\n\u001b[0m\u001b[1;32m     22\u001b[0m     \u001b[0;32mreturn\u001b[0m \u001b[0;32mNone\u001b[0m\u001b[0;34m\u001b[0m\u001b[0;34m\u001b[0m\u001b[0m\n\u001b[1;32m     23\u001b[0m \u001b[0;34m\u001b[0m\u001b[0m\n",
            "\u001b[0;31mKeyError\u001b[0m: 'Ewerton Lima de Andrade'"
          ]
        }
      ]
    },
    {
      "cell_type": "markdown",
      "source": [
        "# O erro acima é um erro comum quando o programa não consegue encontrar o valor da chave dentro de um dicionário.\n",
        "\n",
        "# Dessa forma a conclusão foi que não é possível procurar um usuário caso haja uma diferença de letra maiúscula ou minúscula em qualquer caractere presente em seu nome. O nome do usuário gravado é \"Ewerton Lima De Andrade\" (Apenas as primeiras letras de cada palavra estão em maiúsculo), e ao pesquisar \"Ewerton Lima de Andrade\" (A letra \"d\" em \"de\" está em minúsculo) não foi possível achar o nome do funcionário.\n",
        "\n",
        "# Isso significa que para evitar isso será necessário tratar o nome do usuário inserido no campo de nome para consulta. Será necessário também aplicar os métodos de String title e strip.\n",
        "\n",
        "# No caso do Teste B, o resultado também será um erro de chave, por essa razão não vou testar essa hipótese. Porém vou fazer um tratamento de erro baseado no 'KeyError' de forma que o usuário consiga ver uma mensagem na tela informando que o nome do usuário não foi encontrado.\n",
        "\n",
        "#No caso do teste A ao realizar o tratamento descrito acima com os métodos de string a consulta sempre retornará o dado do funcionário requisitado ainda que haja alguma diferença de 'case' em algum caractere do nome."
      ],
      "metadata": {
        "id": "X4Kl8Unfq1p5"
      }
    },
    {
      "cell_type": "markdown",
      "source": [
        "# Fazendo a modificação da função de consultar funcionário eu rodo o código e insiro como input de nome o mesmo valor utilizado no Teste A (\"Ewerton Lima de Andrade\"). É esperado que após essa modificação os dados do funcionário sejam retornados pelo programa. Vamos testar:"
      ],
      "metadata": {
        "id": "-WP9MO_crt2W"
      }
    },
    {
      "cell_type": "code",
      "source": [
        "def incluir_funcionario(dados_funcionarios: dict):\n",
        "    nome = input(\"Digite seu Nome: \").title().strip()\n",
        "    cargo = input(\"Digite seu Cargo: \").title().strip()\n",
        "    salario = float(input(\"Digite deu Salário: \"))\n",
        "    cidade = input(\"Digite sua Cidade: \").title().strip()\n",
        "    estado = input(\"Digite seu Estado: \").title().strip()\n",
        "    idade = int(input(\"Digite sua Idade: \"))\n",
        "    e_mail = input(\"Digite seu E-mail: \").strip()\n",
        "\n",
        "    dados_funcionarios[nome] = {\n",
        "        \"cargo\": cargo,\n",
        "        \"salario\": salario,\n",
        "        \"cidade\": cidade,\n",
        "        \"estado\": estado,\n",
        "        \"idade\": idade,\n",
        "        \"e_mail\": e_mail,\n",
        "    }\n",
        "\n",
        "def consultar_funcionario(nome, dados_funcionarios: dict):\n",
        "    nome = nome.title().strip()\n",
        "    if nome is not None:\n",
        "      try:\n",
        "        return { nome: dados_funcionarios[nome] }\n",
        "      except KeyError:\n",
        "        print(\"O funcionário não foi encontrado.\")\n",
        "    return None\n",
        "\n",
        "def listar_funcionarios(dados_funcionarios: dict):\n",
        "    for nome, dados in dados_funcionarios.items():\n",
        "        print(f\"{nome}: {dados}\")\n",
        "\n",
        "def deletar_funcionario(nome, dados_funcionarios: dict):\n",
        "    if nome is not None:\n",
        "        return dados_funcionarios.pop(nome)\n",
        "    return None\n",
        "\n",
        "print('****** EMPRESA PROJETO PYTHON   ******\\n')\n",
        "\n",
        "while True:\n",
        "    print(\"1. Incluir funcionário\")\n",
        "    print(\"2. Consultar funcionário\")\n",
        "    print(\"3. Listar funcionários\")\n",
        "    print(\"4. Deletar funcionário\")\n",
        "    print(\"0. Sair\")\n",
        "\n",
        "    escolha = input(\"Escolha uma opção: \")\n",
        "\n",
        "    if escolha == \"1\":\n",
        "        incluir_funcionario(funcionarios)\n",
        "    elif escolha == \"2\":\n",
        "        nome = input(\"Nome do funcionário: \")\n",
        "        funcionario = consultar_funcionario(nome, funcionarios)\n",
        "        if funcionario is not None:\n",
        "            print(funcionario)\n",
        "        else:\n",
        "            print(\"Funcionário não encontrado.\")\n",
        "    elif escolha == \"3\":\n",
        "        listar_funcionarios(funcionarios)\n",
        "    elif escolha == \"4\":\n",
        "        nome = input(\"Nome do funcionário: \")\n",
        "        deletar_funcionario(nome, funcionarios)\n",
        "        print(\"Funcionário removido com sucesso.\")\n",
        "    elif escolha == \"0\":\n",
        "        break\n",
        "    else:\n",
        "      break"
      ],
      "metadata": {
        "colab": {
          "base_uri": "https://localhost:8080/"
        },
        "id": "rxbqnh93rwWA",
        "outputId": "23b81d0c-52a7-4ad8-ad2b-feddaeb24d2f"
      },
      "execution_count": null,
      "outputs": [
        {
          "name": "stdout",
          "output_type": "stream",
          "text": [
            "****** EMPRESA PROJETO PYTHON   ******\n",
            "\n",
            "1. Incluir funcionário\n",
            "2. Consultar funcionário\n",
            "3. Listar funcionários\n",
            "4. Deletar funcionário\n",
            "0. Sair\n",
            "Escolha uma opção: 2\n",
            "Nome do funcionário: Ewerton Lima de Andrade\n",
            "{'Ewerton Lima De Andrade': {'cargo': 'Analista De Dados', 'salario': 5000.45, 'cidade': 'São Caetano Do Sul', 'estado': 'São Paulo', 'idade': 36, 'e_mail': 'etonandrade@gmail.com'}}\n",
            "1. Incluir funcionário\n",
            "2. Consultar funcionário\n",
            "3. Listar funcionários\n",
            "4. Deletar funcionário\n",
            "0. Sair\n",
            "Escolha uma opção: 0\n"
          ]
        }
      ]
    },
    {
      "cell_type": "markdown",
      "source": [
        "# A modificação produziu o efeito esperado tendo o dado do funcionário retornado apesar da diferença de 'case' do input do nome."
      ],
      "metadata": {
        "id": "eqWljCr9u081"
      }
    },
    {
      "cell_type": "markdown",
      "source": [
        "# Agora vou testar se a mensagem de 'Funcionário não encontrado' é exibida na tela ao consultar o nome de um funcionário inexistente na base de dados, o valor do nome do funcionário que será usado no teste é \"Elbio Da Silva Sauro\".\n"
      ],
      "metadata": {
        "id": "yAjP0NRiwQT8"
      }
    },
    {
      "cell_type": "code",
      "source": [
        "def incluir_funcionario(dados_funcionarios: dict):\n",
        "    nome = input(\"Digite seu Nome: \").title().strip()\n",
        "    cargo = input(\"Digite seu Cargo: \").title().strip()\n",
        "    salario = float(input(\"Digite deu Salário: \"))\n",
        "    cidade = input(\"Digite sua Cidade: \").title().strip()\n",
        "    estado = input(\"Digite seu Estado: \").title().strip()\n",
        "    idade = int(input(\"Digite sua Idade: \"))\n",
        "    e_mail = input(\"Digite seu E-mail: \").strip()\n",
        "\n",
        "    dados_funcionarios[nome] = {\n",
        "        \"cargo\": cargo,\n",
        "        \"salario\": salario,\n",
        "        \"cidade\": cidade,\n",
        "        \"estado\": estado,\n",
        "        \"idade\": idade,\n",
        "        \"e_mail\": e_mail,\n",
        "    }\n",
        "\n",
        "def consultar_funcionario(nome, dados_funcionarios: dict):\n",
        "    nome = nome.title().strip()\n",
        "    if nome is not None:\n",
        "      try:\n",
        "        return { nome: dados_funcionarios[nome] }\n",
        "      except KeyError:\n",
        "        print(\"O funcionário não foi encontrado.\")\n",
        "    return None\n",
        "\n",
        "def listar_funcionarios(dados_funcionarios: dict):\n",
        "    for nome, dados in dados_funcionarios.items():\n",
        "        print(f\"{nome}: {dados}\")\n",
        "\n",
        "def deletar_funcionario(nome, dados_funcionarios: dict):\n",
        "    if nome is not None:\n",
        "        return dados_funcionarios.pop(nome)\n",
        "    return None\n",
        "\n",
        "print('****** EMPRESA PROJETO PYTHON   ******\\n')\n",
        "\n",
        "while True:\n",
        "    print(\"1. Incluir funcionário\")\n",
        "    print(\"2. Consultar funcionário\")\n",
        "    print(\"3. Listar funcionários\")\n",
        "    print(\"4. Deletar funcionário\")\n",
        "    print(\"0. Sair\")\n",
        "\n",
        "    escolha = input(\"Escolha uma opção: \")\n",
        "\n",
        "    if escolha == \"1\":\n",
        "        incluir_funcionario(funcionarios)\n",
        "    elif escolha == \"2\":\n",
        "        nome = input(\"Nome do funcionário: \")\n",
        "        funcionario = consultar_funcionario(nome, funcionarios)\n",
        "        if funcionario is not None:\n",
        "            print(funcionario)\n",
        "        else:\n",
        "            print(\"Funcionário não encontrado.\")\n",
        "    elif escolha == \"3\":\n",
        "        listar_funcionarios(funcionarios)\n",
        "    elif escolha == \"4\":\n",
        "        nome = input(\"Nome do funcionário: \")\n",
        "        deletar_funcionario(nome, funcionarios)\n",
        "        print(\"Funcionário removido com sucesso.\")\n",
        "    elif escolha == \"0\":\n",
        "        break\n",
        "    else:\n",
        "      break"
      ],
      "metadata": {
        "colab": {
          "base_uri": "https://localhost:8080/"
        },
        "id": "sVF65FWvwzQH",
        "outputId": "626439df-abd9-46a1-e131-ebcf4baeb01e"
      },
      "execution_count": null,
      "outputs": [
        {
          "name": "stdout",
          "output_type": "stream",
          "text": [
            "****** EMPRESA PROJETO PYTHON   ******\n",
            "\n",
            "1. Incluir funcionário\n",
            "2. Consultar funcionário\n",
            "3. Listar funcionários\n",
            "4. Deletar funcionário\n",
            "0. Sair\n",
            "Escolha uma opção: 2\n",
            "Nome do funcionário: Elbio Da Silva Sauro\n",
            "O funcionário não foi encontrado.\n",
            "Funcionário não encontrado.\n",
            "1. Incluir funcionário\n",
            "2. Consultar funcionário\n",
            "3. Listar funcionários\n",
            "4. Deletar funcionário\n",
            "0. Sair\n",
            "Escolha uma opção: 0\n"
          ]
        }
      ]
    },
    {
      "cell_type": "markdown",
      "source": [
        "# A mensagem de alerta 'O funcionário não foi encontrado'foi mostrada na tela com sucesso conforme se observa acima."
      ],
      "metadata": {
        "id": "E6gxUdR8w6RQ"
      }
    },
    {
      "cell_type": "markdown",
      "source": [
        "# **Análise da função de LISTAR funcionários**"
      ],
      "metadata": {
        "id": "ZOrcsB-hxI7f"
      }
    },
    {
      "cell_type": "code",
      "source": [
        "def incluir_funcionario(dados_funcionarios: dict):\n",
        "    nome = input(\"Digite seu Nome: \").title().strip()\n",
        "    cargo = input(\"Digite seu Cargo: \").title().strip()\n",
        "    salario = float(input(\"Digite deu Salário: \"))\n",
        "    cidade = input(\"Digite sua Cidade: \").title().strip()\n",
        "    estado = input(\"Digite seu Estado: \").title().strip()\n",
        "    idade = int(input(\"Digite sua Idade: \"))\n",
        "    e_mail = input(\"Digite seu E-mail: \").strip()\n",
        "\n",
        "    dados_funcionarios[nome] = {\n",
        "        \"cargo\": cargo,\n",
        "        \"salario\": salario,\n",
        "        \"cidade\": cidade,\n",
        "        \"estado\": estado,\n",
        "        \"idade\": idade,\n",
        "        \"e_mail\": e_mail,\n",
        "    }\n",
        "\n",
        "def consultar_funcionario(nome, dados_funcionarios: dict):\n",
        "    nome = nome.title().strip()\n",
        "    if nome is not None:\n",
        "      try:\n",
        "        return { nome: dados_funcionarios[nome] }\n",
        "      except KeyError:\n",
        "        print(\"O funcionário não foi encontrado.\")\n",
        "    return None\n",
        "\n",
        "def listar_funcionarios(dados_funcionarios: dict):\n",
        "    for nome, dados in dados_funcionarios.items():\n",
        "        print(f\"{nome}: {dados}\")\n",
        "\n",
        "def deletar_funcionario(nome, dados_funcionarios: dict):\n",
        "    if nome is not None:\n",
        "        return dados_funcionarios.pop(nome)\n",
        "    return None\n",
        "\n",
        "print('****** EMPRESA PROJETO PYTHON   ******\\n')\n",
        "\n",
        "while True:\n",
        "    print(\"1. Incluir funcionário\")\n",
        "    print(\"2. Consultar funcionário\")\n",
        "    print(\"3. Listar funcionários\")\n",
        "    print(\"4. Deletar funcionário\")\n",
        "    print(\"0. Sair\")\n",
        "\n",
        "    escolha = input(\"Escolha uma opção: \")\n",
        "\n",
        "    if escolha == \"1\":\n",
        "        incluir_funcionario(funcionarios)\n",
        "    elif escolha == \"2\":\n",
        "        nome = input(\"Nome do funcionário: \")\n",
        "        funcionario = consultar_funcionario(nome, funcionarios)\n",
        "        if funcionario is not None:\n",
        "            print(funcionario)\n",
        "        else:\n",
        "            print(\"Funcionário não encontrado.\")\n",
        "    elif escolha == \"3\":\n",
        "        listar_funcionarios(funcionarios)\n",
        "    elif escolha == \"4\":\n",
        "        nome = input(\"Nome do funcionário: \")\n",
        "        deletar_funcionario(nome, funcionarios)\n",
        "        print(\"Funcionário removido com sucesso.\")\n",
        "    elif escolha == \"0\":\n",
        "        break\n",
        "    else:\n",
        "      break"
      ],
      "metadata": {
        "colab": {
          "base_uri": "https://localhost:8080/"
        },
        "id": "bxQrbF_lxY4b",
        "outputId": "f4bd7b32-ce31-4be5-d141-093ee7cf7fbd"
      },
      "execution_count": null,
      "outputs": [
        {
          "name": "stdout",
          "output_type": "stream",
          "text": [
            "****** EMPRESA PROJETO PYTHON   ******\n",
            "\n",
            "1. Incluir funcionário\n",
            "2. Consultar funcionário\n",
            "3. Listar funcionários\n",
            "4. Deletar funcionário\n",
            "0. Sair\n",
            "Escolha uma opção: 3\n",
            "Ewerton Lima De Andrade: {'cargo': 'Analista De Dados', 'salario': 5000.45, 'cidade': 'São Caetano Do Sul', 'estado': 'São Paulo', 'idade': 36, 'e_mail': 'etonandrade@gmail.com'}\n",
            "Gleska De Andrade: {'cargo': 'Desenvolvedor De Software Junior', 'salario': 4007.89, 'cidade': 'São Caetano Do Sul', 'estado': 'São Paulo', 'idade': 43, 'e_mail': 'gleska@gmail.com'}\n",
            "Diego Dieb Diebold: {'cargo': 'Desenvolvedor De Software Pleno', 'salario': 7007.89, 'cidade': 'São Paulo', 'estado': 'São Paulo', 'idade': 40, 'e_mail': 'diego@gmail.com'}\n",
            "1. Incluir funcionário\n",
            "2. Consultar funcionário\n",
            "3. Listar funcionários\n",
            "4. Deletar funcionário\n",
            "0. Sair\n",
            "Escolha uma opção: 0\n"
          ]
        }
      ]
    },
    {
      "cell_type": "markdown",
      "source": [
        "# Conforme observado acima, os dados de usuário foram listados com sucesso não possuindo nenhum tipo de problema. Acredito que possa ser realizado uma formatação do print de tela dessas informações para que usuário do sistema consiga observar melhor os dados dos funcionários. Vou realizar formatação como a última prática desse desafio.\n",
        "\n",
        "# Passo no momento para a análise da função de apagar os dados de um funcionário."
      ],
      "metadata": {
        "id": "laolSauvxm7-"
      }
    },
    {
      "cell_type": "markdown",
      "source": [
        "# **Análise da função de APAGAR dados de funcionário**"
      ],
      "metadata": {
        "id": "xdXvUiqlyHxO"
      }
    },
    {
      "cell_type": "markdown",
      "source": [
        "# Eu vou testar essa função apagando o usuário do nome \"Ewerton Lima De Andrade\" e checando depois se apenas esse usuário foi deletado do sistema utilizando a função de listar funcionários."
      ],
      "metadata": {
        "id": "Tr8JVLDgyhVK"
      }
    },
    {
      "cell_type": "code",
      "source": [
        "def incluir_funcionario(dados_funcionarios: dict):\n",
        "    nome = input(\"Digite seu Nome: \").title().strip()\n",
        "    cargo = input(\"Digite seu Cargo: \").title().strip()\n",
        "    salario = float(input(\"Digite deu Salário: \"))\n",
        "    cidade = input(\"Digite sua Cidade: \").title().strip()\n",
        "    estado = input(\"Digite seu Estado: \").title().strip()\n",
        "    idade = int(input(\"Digite sua Idade: \"))\n",
        "    e_mail = input(\"Digite seu E-mail: \").strip()\n",
        "\n",
        "    dados_funcionarios[nome] = {\n",
        "        \"cargo\": cargo,\n",
        "        \"salario\": salario,\n",
        "        \"cidade\": cidade,\n",
        "        \"estado\": estado,\n",
        "        \"idade\": idade,\n",
        "        \"e_mail\": e_mail,\n",
        "    }\n",
        "\n",
        "def consultar_funcionario(nome, dados_funcionarios: dict):\n",
        "    nome = nome.title().strip()\n",
        "    if nome is not None:\n",
        "      try:\n",
        "        return { nome: dados_funcionarios[nome] }\n",
        "      except KeyError:\n",
        "        print(\"O funcionário não foi encontrado.\")\n",
        "    return None\n",
        "\n",
        "def listar_funcionarios(dados_funcionarios: dict):\n",
        "    for nome, dados in dados_funcionarios.items():\n",
        "        print(f\"{nome}: {dados}\")\n",
        "\n",
        "def deletar_funcionario(nome, dados_funcionarios: dict):\n",
        "    if nome is not None:\n",
        "        return dados_funcionarios.pop(nome)\n",
        "    return None\n",
        "\n",
        "print('****** EMPRESA PROJETO PYTHON   ******\\n')\n",
        "\n",
        "while True:\n",
        "    print(\"1. Incluir funcionário\")\n",
        "    print(\"2. Consultar funcionário\")\n",
        "    print(\"3. Listar funcionários\")\n",
        "    print(\"4. Deletar funcionário\")\n",
        "    print(\"0. Sair\")\n",
        "\n",
        "    escolha = input(\"Escolha uma opção: \")\n",
        "\n",
        "    if escolha == \"1\":\n",
        "        incluir_funcionario(funcionarios)\n",
        "    elif escolha == \"2\":\n",
        "        nome = input(\"Nome do funcionário: \")\n",
        "        funcionario = consultar_funcionario(nome, funcionarios)\n",
        "        if funcionario is not None:\n",
        "            print(funcionario)\n",
        "        else:\n",
        "            print(\"Funcionário não encontrado.\")\n",
        "    elif escolha == \"3\":\n",
        "        listar_funcionarios(funcionarios)\n",
        "    elif escolha == \"4\":\n",
        "        nome = input(\"Nome do funcionário: \")\n",
        "        deletar_funcionario(nome, funcionarios)\n",
        "        print(\"Funcionário removido com sucesso.\")\n",
        "    elif escolha == \"0\":\n",
        "        break\n",
        "    else:\n",
        "      break"
      ],
      "metadata": {
        "colab": {
          "base_uri": "https://localhost:8080/"
        },
        "id": "MHdaFErEyPyw",
        "outputId": "2bcfa592-29e2-4d6d-92e4-52cae5a9f71e"
      },
      "execution_count": null,
      "outputs": [
        {
          "name": "stdout",
          "output_type": "stream",
          "text": [
            "****** EMPRESA PROJETO PYTHON   ******\n",
            "\n",
            "1. Incluir funcionário\n",
            "2. Consultar funcionário\n",
            "3. Listar funcionários\n",
            "4. Deletar funcionário\n",
            "0. Sair\n",
            "Escolha uma opção: 4\n",
            "Nome do funcionário: Ewerton Lima De Andrade\n",
            "Funcionário removido com sucesso.\n",
            "1. Incluir funcionário\n",
            "2. Consultar funcionário\n",
            "3. Listar funcionários\n",
            "4. Deletar funcionário\n",
            "0. Sair\n",
            "Escolha uma opção: 3\n",
            "Gleska De Andrade: {'cargo': 'Desenvolvedor De Software Junior', 'salario': 4007.89, 'cidade': 'São Caetano Do Sul', 'estado': 'São Paulo', 'idade': 43, 'e_mail': 'gleska@gmail.com'}\n",
            "Diego Dieb Diebold: {'cargo': 'Desenvolvedor De Software Pleno', 'salario': 7007.89, 'cidade': 'São Paulo', 'estado': 'São Paulo', 'idade': 40, 'e_mail': 'diego@gmail.com'}\n",
            "1. Incluir funcionário\n",
            "2. Consultar funcionário\n",
            "3. Listar funcionários\n",
            "4. Deletar funcionário\n",
            "0. Sair\n",
            "Escolha uma opção: 0\n"
          ]
        }
      ]
    },
    {
      "cell_type": "markdown",
      "source": [
        "# Acima é possível ver após o delete do funcionário \"Ewerton Lima De Andrade\" apenas dois usuários. A função de deletar os dados de um usuário está funcionando. Porém, assim como a função de consulta de um usuário será necessário implementar os métodos de String title e strip e o tratamento de erro para a exceção 'KeyError' e o alerta ao usuário de que o nome do funcionário não foi encontrado. Após as correções acima descritas eu testo o código para verificar o funcionamento correto."
      ],
      "metadata": {
        "id": "whWBzmwjy_hJ"
      }
    },
    {
      "cell_type": "code",
      "source": [
        "def incluir_funcionario(dados_funcionarios: dict):\n",
        "    nome = input(\"Digite seu Nome: \").title().strip()\n",
        "    cargo = input(\"Digite seu Cargo: \").title().strip()\n",
        "    salario = float(input(\"Digite deu Salário: \"))\n",
        "    cidade = input(\"Digite sua Cidade: \").title().strip()\n",
        "    estado = input(\"Digite seu Estado: \").title().strip()\n",
        "    idade = int(input(\"Digite sua Idade: \"))\n",
        "    e_mail = input(\"Digite seu E-mail: \").strip()\n",
        "\n",
        "    dados_funcionarios[nome] = {\n",
        "        \"cargo\": cargo,\n",
        "        \"salario\": salario,\n",
        "        \"cidade\": cidade,\n",
        "        \"estado\": estado,\n",
        "        \"idade\": idade,\n",
        "        \"e_mail\": e_mail,\n",
        "    }\n",
        "\n",
        "def consultar_funcionario(nome, dados_funcionarios: dict):\n",
        "    nome = nome.title().strip()\n",
        "    if nome is not None:\n",
        "      try:\n",
        "        return { nome: dados_funcionarios[nome] }\n",
        "      except KeyError:\n",
        "        print(\"O funcionário não foi encontrado.\")\n",
        "    return None\n",
        "\n",
        "def listar_funcionarios(dados_funcionarios: dict):\n",
        "    for nome, dados in dados_funcionarios.items():\n",
        "        print(f\"{nome}: {dados}\")\n",
        "\n",
        "def deletar_funcionario(nome, dados_funcionarios: dict):\n",
        "    nome = nome.title().strip()\n",
        "    if nome is not None:\n",
        "      try:\n",
        "        return dados_funcionarios.pop(nome)\n",
        "      except KeyError:\n",
        "        print(\"O funcionário não foi encontrado.\")\n",
        "    return None\n",
        "\n",
        "print('****** EMPRESA PROJETO PYTHON   ******\\n')\n",
        "\n",
        "while True:\n",
        "    print(\"1. Incluir funcionário\")\n",
        "    print(\"2. Consultar funcionário\")\n",
        "    print(\"3. Listar funcionários\")\n",
        "    print(\"4. Deletar funcionário\")\n",
        "    print(\"0. Sair\")\n",
        "\n",
        "    escolha = input(\"Escolha uma opção: \")\n",
        "\n",
        "    if escolha == \"1\":\n",
        "        incluir_funcionario(funcionarios)\n",
        "    elif escolha == \"2\":\n",
        "        nome = input(\"Nome do funcionário: \")\n",
        "        funcionario = consultar_funcionario(nome, funcionarios)\n",
        "        if funcionario is not None:\n",
        "            print(funcionario)\n",
        "        else:\n",
        "            print(\"Funcionário não encontrado.\")\n",
        "    elif escolha == \"3\":\n",
        "        listar_funcionarios(funcionarios)\n",
        "    elif escolha == \"4\":\n",
        "        nome = input(\"Nome do funcionário: \")\n",
        "        deletar_funcionario(nome, funcionarios)\n",
        "        print(\"Funcionário removido com sucesso.\")\n",
        "    elif escolha == \"0\":\n",
        "        break\n",
        "    else:\n",
        "      break"
      ],
      "metadata": {
        "colab": {
          "base_uri": "https://localhost:8080/"
        },
        "id": "mYTE1tpIzy4s",
        "outputId": "15a3f9e0-a64c-4c75-d1a0-2e07349cb4e5"
      },
      "execution_count": null,
      "outputs": [
        {
          "name": "stdout",
          "output_type": "stream",
          "text": [
            "****** EMPRESA PROJETO PYTHON   ******\n",
            "\n",
            "1. Incluir funcionário\n",
            "2. Consultar funcionário\n",
            "3. Listar funcionários\n",
            "4. Deletar funcionário\n",
            "0. Sair\n",
            "Escolha uma opção: 4\n",
            "Nome do funcionário: gleska de andrade\n",
            "Funcionário removido com sucesso.\n",
            "1. Incluir funcionário\n",
            "2. Consultar funcionário\n",
            "3. Listar funcionários\n",
            "4. Deletar funcionário\n",
            "0. Sair\n",
            "Escolha uma opção: 4\n",
            "Nome do funcionário: Gergelim Peixoto Silva\n",
            "O funcionário não foi encontrado.\n",
            "Funcionário removido com sucesso.\n",
            "1. Incluir funcionário\n",
            "2. Consultar funcionário\n",
            "3. Listar funcionários\n",
            "4. Deletar funcionário\n",
            "0. Sair\n",
            "Escolha uma opção: 0\n"
          ]
        }
      ]
    },
    {
      "cell_type": "markdown",
      "source": [
        "# Ao digitar o nome do funcionário como \"gleska de andrade\" foi possível apagar o registro graças a implementação dos métodos de string mencionados.\n",
        "\n",
        "# Ao tentar deletar um usuário inexistente na base (Gergelim Peixoto Silva) uma mensagem de alerta é exibida ao usuário informando que não foi possível encontrar o funcionário.\n",
        "\n",
        "#Eu vou retirar o print 'Funcionário removido com sucesso'da 66. Da forma como está ainda que o funcioário não seja encontrado o usuário será informado que o registro foi apagado com sucesso. Vou acrescentar esse print dentro da função de delete."
      ],
      "metadata": {
        "id": "GusFJGsf0ssZ"
      }
    },
    {
      "cell_type": "markdown",
      "source": [
        "# Nesse ponto do debug as correções encontradas foram realizadas. A partir de agora eu vou implementar a formatação nos dados que são mostrados na tela de forma a ficarem mais claros. Formatações a serem realizadas:\n",
        "\n",
        "# - Quebra de linha (de forma que algumas informações sejam exibidas com o espaço de uma linha entre linhas na vertical);\n",
        "\n",
        "# - Formatação dos dados de usuários listados;\n",
        "\n",
        "# - Inclusão de alguns símbolos para a melhor interação com o usuário;"
      ],
      "metadata": {
        "id": "KiOJkajS1LeK"
      }
    },
    {
      "cell_type": "code",
      "source": [
        "funcionarios = {\n",
        "    \"Ewerton Lima De Andrade\": {\n",
        "        \"cargo\": \"Analista De Dados\",\n",
        "        \"salario\": 5000.45,\n",
        "        \"cidade\": \"São Caetano Do Sul\",\n",
        "        \"estado\": \"São Paulo\",\n",
        "        \"idade\": 36,\n",
        "        \"e_mail\": \"etonandrade@gmail.com\",\n",
        "    },\n",
        "    \"Gleska De Andrade\": {\n",
        "        \"cargo\": \"Desenvolvedor De Software Junior\",\n",
        "        \"salario\": 4007.89,\n",
        "        \"cidade\": \"São Caetano Do Sul\",\n",
        "        \"estado\": \"São Paulo\",\n",
        "        \"idade\": 43,\n",
        "        \"e_mail\": \"gleska@gmail.com\",\n",
        "    },\n",
        "    \"Diego Dieb Diebold\": {\n",
        "        \"cargo\": \"Desenvolvedor De Software Pleno\",\n",
        "        \"salario\": 7007.89,\n",
        "        \"cidade\": \"São Paulo\",\n",
        "        \"estado\": \"São Paulo\",\n",
        "        \"idade\": 40,\n",
        "        \"e_mail\": \"diego@gmail.com\",\n",
        "    },\n",
        "\n",
        "}\n",
        "\n",
        "\n",
        "def incluir_funcionario(dados_funcionarios: dict):\n",
        "  nome = input(\"Digite seu Nome: \").title().strip()\n",
        "  cargo = input(\"Digite seu Cargo: \").title().strip()\n",
        "  salario = float(input(\"Digite deu Salário: \"))\n",
        "  cidade = input(\"Digite sua Cidade: \").title().strip()\n",
        "  estado = input(\"Digite seu Estado: \").title().strip()\n",
        "  idade = int(input(\"Digite sua Idade: \"))\n",
        "  e_mail = input(\"Digite seu E-mail: \").strip()\n",
        "\n",
        "  dados_funcionarios[nome] = {\n",
        "      \"cargo\": cargo,\n",
        "      \"salario\": salario,\n",
        "      \"cidade\": cidade,\n",
        "      \"estado\": estado,\n",
        "      \"idade\": idade,\n",
        "      \"e_mail\": e_mail,\n",
        "  }\n",
        "\n",
        "def consultar_funcionario(nome, dados_funcionarios: dict):\n",
        "  nome = nome.title().strip()\n",
        "  if nome is not None:\n",
        "    try:\n",
        "      return { nome: dados_funcionarios[nome] }\n",
        "    except KeyError:\n",
        "      print(\"O funcionário não foi encontrado.\")\n",
        "  return None\n",
        "\n",
        "def listar_funcionarios(dados_funcionarios: dict):\n",
        "  count = 0\n",
        "  for nome, dados in dados_funcionarios.items():\n",
        "    count += 1\n",
        "    print(f\"\"\"0\n",
        "{count}- {nome}\n",
        "Cargo: {dados[\"cargo\"]}\n",
        "Salário: R$ {dados[\"salario\"]}\n",
        "Cidade: {dados[\"cidade\"]}\n",
        "Estado: {dados[\"estado\"]}\n",
        "Idade: {dados[\"idade\"]}\n",
        "E-mail: {dados[\"e_mail\"]}\n",
        "          \"\"\")\n",
        "\n",
        "def deletar_funcionario(nome, dados_funcionarios: dict):\n",
        "  nome = nome.title().strip()\n",
        "  if nome is not None:\n",
        "    try:\n",
        "      dados_funcionarios.pop(nome)\n",
        "      print(\"Funcionário removido com sucesso.\")\n",
        "    except KeyError:\n",
        "      print(\"O funcionário não foi encontrado.\")\n",
        "  return None\n",
        "\n",
        "print('****** EMPRESA PROJETO PYTHON   ******\\n')\n",
        "\n",
        "while True:\n",
        "  print(\"\\n\")\n",
        "  print(200*\"-\")\n",
        "  print(\"Escolha uma opção do MENU...\\n\")\n",
        "  print(\"MENU\".center(20))\n",
        "  print(\"1. Incluir funcionário\")\n",
        "  print(\"2. Consultar funcionário\")\n",
        "  print(\"3. Listar funcionários\")\n",
        "  print(\"4. Deletar funcionário\")\n",
        "  print(\"0. Sair\")\n",
        "\n",
        "  escolha = input(\"Digite o número da opção escolhida: \")\n",
        "\n",
        "  print(\"\\n\")\n",
        "\n",
        "  if escolha == \"1\":\n",
        "      print(f\"===>>> Opção escolhida: Incluir funcionário\\n\")\n",
        "      print(\"Insira a seguir os dados do funcionário\")\n",
        "      incluir_funcionario(funcionarios)\n",
        "  elif escolha == \"2\":\n",
        "    print(f\"===>>> Opção escolhida: Consultar funcionário\\n\")\n",
        "    nome = input(\"Nome do funcionário: \")\n",
        "    funcionario = consultar_funcionario(nome, funcionarios)\n",
        "    if funcionario is not None:\n",
        "      print(funcionario)\n",
        "    else:\n",
        "      print(\"Funcionário não encontrado.\")\n",
        "  elif escolha == \"3\":\n",
        "    print(f\"===>>> Opção escolhida: Listar funcionários\\n\")\n",
        "    listar_funcionarios(funcionarios)\n",
        "  elif escolha == \"4\":\n",
        "    print(f\"===>>> Opção escolhida: Deletar funcionário\\n\")\n",
        "    nome = input(\"Nome do funcionário: \")\n",
        "    deletar_funcionario(nome, funcionarios)\n",
        "  elif escolha == \"0\":\n",
        "    print(\"Programa encerrado...\")\n",
        "    break\n",
        "  else:\n",
        "    print(\"Digite uma opção válida!\")\n",
        "    print(\"Reinicie o programa.\")\n",
        "    break"
      ],
      "metadata": {
        "colab": {
          "base_uri": "https://localhost:8080/"
        },
        "id": "7bbJKmhf2S-N",
        "outputId": "3af36409-3af0-4bc7-b997-42a3a888a859"
      },
      "execution_count": null,
      "outputs": [
        {
          "output_type": "stream",
          "name": "stdout",
          "text": [
            "****** EMPRESA PROJETO PYTHON   ******\n",
            "\n",
            "\n",
            "\n",
            "--------------------------------------------------------------------------------------------------------------------------------------------------------------------------------------------------------\n",
            "Escolha uma opção do MENU...\n",
            "\n",
            "        MENU        \n",
            "1. Incluir funcionário\n",
            "2. Consultar funcionário\n",
            "3. Listar funcionários\n",
            "4. Deletar funcionário\n",
            "0. Sair\n",
            "Digite o número da opção escolhida: 3\n",
            "\n",
            "\n",
            "===>>> Opção escolhida: Listar funcionários\n",
            "\n",
            "\n",
            "1- Ewerton Lima De Andrade\n",
            "Cargo: Analista De Dados\n",
            "Salário: R$ 5000.45\n",
            "Cidade: São Caetano Do Sul\n",
            "Estado: São Paulo\n",
            "Idade: 36\n",
            "E-mail: etonandrade@gmail.com\n",
            "          \n",
            "\n",
            "2- Gleska De Andrade\n",
            "Cargo: Desenvolvedor De Software Junior\n",
            "Salário: R$ 4007.89\n",
            "Cidade: São Caetano Do Sul\n",
            "Estado: São Paulo\n",
            "Idade: 43\n",
            "E-mail: gleska@gmail.com\n",
            "          \n",
            "\n",
            "3- Diego Dieb Diebold\n",
            "Cargo: Desenvolvedor De Software Pleno\n",
            "Salário: R$ 7007.89\n",
            "Cidade: São Paulo\n",
            "Estado: São Paulo\n",
            "Idade: 40\n",
            "E-mail: diego@gmail.com\n",
            "          \n",
            "\n",
            "\n",
            "--------------------------------------------------------------------------------------------------------------------------------------------------------------------------------------------------------\n",
            "Escolha uma opção do MENU...\n",
            "\n",
            "        MENU        \n",
            "1. Incluir funcionário\n",
            "2. Consultar funcionário\n",
            "3. Listar funcionários\n",
            "4. Deletar funcionário\n",
            "0. Sair\n",
            "Digite o número da opção escolhida: 0\n",
            "\n",
            "\n",
            "Programa encerrado...\n"
          ]
        }
      ]
    },
    {
      "cell_type": "markdown",
      "source": [
        "# Finalizo aqui a atividade proposta número 1 do Debug de código nessa atividade. Obrigado."
      ],
      "metadata": {
        "id": "fnbyBqaFETn4"
      }
    }
  ]
}