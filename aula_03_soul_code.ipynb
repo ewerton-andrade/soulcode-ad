{
  "nbformat": 4,
  "nbformat_minor": 0,
  "metadata": {
    "colab": {
      "provenance": [],
      "include_colab_link": true
    },
    "kernelspec": {
      "name": "python3",
      "display_name": "Python 3"
    },
    "language_info": {
      "name": "python"
    }
  },
  "cells": [
    {
      "cell_type": "markdown",
      "metadata": {
        "id": "view-in-github",
        "colab_type": "text"
      },
      "source": [
        "<a href=\"https://colab.research.google.com/github/ewerton-andrade/soulcode-ad/blob/main/aula_03_soul_code.ipynb\" target=\"_parent\"><img src=\"https://colab.research.google.com/assets/colab-badge.svg\" alt=\"Open In Colab\"/></a>"
      ]
    },
    {
      "cell_type": "markdown",
      "source": [
        "# **Introdução ao Python**"
      ],
      "metadata": {
        "id": "uc-fkUZRI7jq"
      }
    },
    {
      "cell_type": "markdown",
      "source": [
        "Escola: SoulCode Academy\n",
        "\n",
        "Curso: Analista de Dados e Dashboards\n",
        "\n",
        "Período: Noturno\n",
        "\n",
        "Assunto: Python\n",
        "\n",
        "Professor: Franciane Rodrigues\n",
        "\n",
        "Aluna: Ewerton Lima de Andrade"
      ],
      "metadata": {
        "id": "FEPWx5SVgdbS"
      }
    },
    {
      "cell_type": "markdown",
      "source": [
        "## **Operadores Matemáticos**"
      ],
      "metadata": {
        "id": "YjPs_vDG7sz_"
      }
    },
    {
      "cell_type": "code",
      "execution_count": null,
      "metadata": {
        "id": "m2z3zc0C58hW"
      },
      "outputs": [],
      "source": [
        "# Operador de adição\n",
        "n1 = 5.887\n",
        "n2 = 7.15\n",
        "soma = n1 + n2"
      ]
    },
    {
      "cell_type": "code",
      "source": [
        "# Modos de apresentação de resultados: adição\n",
        "print(soma)\n",
        "print('A soma é: ', soma)\n",
        "print(f'A soma dos números é: {soma:.2f}')\n",
        "print(n1 + n2)\n",
        "n1 + n2"
      ],
      "metadata": {
        "colab": {
          "base_uri": "https://localhost:8080/"
        },
        "id": "FzQn70ng8F1y",
        "outputId": "f03c9fcd-5c74-4b9e-d470-d8bee89d30eb"
      },
      "execution_count": null,
      "outputs": [
        {
          "output_type": "stream",
          "name": "stdout",
          "text": [
            "13.036999999999999\n",
            "A soma é:  13.036999999999999\n",
            "A soma dos números é: 13.04\n",
            "13.036999999999999\n"
          ]
        },
        {
          "output_type": "execute_result",
          "data": {
            "text/plain": [
              "13.036999999999999"
            ]
          },
          "metadata": {},
          "execution_count": 76
        }
      ]
    },
    {
      "cell_type": "code",
      "source": [
        "# Operador de subtração\n",
        "a1 = 154.587\n",
        "a2 = 10.548\n",
        "sub = a1 - a2"
      ],
      "metadata": {
        "id": "uk1ZO85U-8m6"
      },
      "execution_count": null,
      "outputs": []
    },
    {
      "cell_type": "code",
      "source": [
        "# Modos de apresentação de resultados: subtração\n",
        "print(sub)\n",
        "print('A subtração é: ', sub)\n",
        "print(f'A subtração dos números é: {sub:.2f}')\n",
        "print(a1 - a2)\n",
        "a1 - a2"
      ],
      "metadata": {
        "colab": {
          "base_uri": "https://localhost:8080/"
        },
        "id": "C_c6ME-i_Nys",
        "outputId": "6f26edd7-092a-47c9-d299-313e894e9005"
      },
      "execution_count": null,
      "outputs": [
        {
          "output_type": "stream",
          "name": "stdout",
          "text": [
            "144.039\n",
            "A subtração é:  144.039\n",
            "A subtração dos números é: 144.04\n",
            "144.039\n"
          ]
        },
        {
          "output_type": "execute_result",
          "data": {
            "text/plain": [
              "144.039"
            ]
          },
          "metadata": {},
          "execution_count": 78
        }
      ]
    },
    {
      "cell_type": "code",
      "source": [
        "# Operador de multiplicação\n",
        "b1 = 3.57\n",
        "multi = b1 * 3\n",
        "print('A multiplicação é: ', round(multi,2))"
      ],
      "metadata": {
        "colab": {
          "base_uri": "https://localhost:8080/"
        },
        "id": "NMDhuao8_0U4",
        "outputId": "71bfabad-a8a5-4cbd-dc8e-b45bbe8054cf"
      },
      "execution_count": null,
      "outputs": [
        {
          "output_type": "stream",
          "name": "stdout",
          "text": [
            "A multiplicação é:  10.71\n"
          ]
        }
      ]
    },
    {
      "cell_type": "code",
      "source": [
        "# Respondendo a perguntinha: Sim\n",
        "print((2 + 2)*(2 + 2))"
      ],
      "metadata": {
        "colab": {
          "base_uri": "https://localhost:8080/"
        },
        "id": "1i0w-NvRA2QY",
        "outputId": "a59e3dc5-9076-4882-fe3d-bd54e18cec49"
      },
      "execution_count": null,
      "outputs": [
        {
          "output_type": "stream",
          "name": "stdout",
          "text": [
            "16\n"
          ]
        }
      ]
    },
    {
      "cell_type": "code",
      "source": [
        "# Operador de divisão\n",
        "x1 = 3\n",
        "x2 = 2\n",
        "div = x1/x2\n",
        "\n",
        "# Imprimindo na tela\n",
        "print(div)\n",
        "print(f'A divisão dos números é: {div:.2f}')"
      ],
      "metadata": {
        "colab": {
          "base_uri": "https://localhost:8080/"
        },
        "id": "6suCLb0eDaOT",
        "outputId": "b2531a85-1d62-4a96-9eaa-a3c9525d880a"
      },
      "execution_count": null,
      "outputs": [
        {
          "output_type": "stream",
          "name": "stdout",
          "text": [
            "1.5\n",
            "A divisão dos números é: 1.50\n"
          ]
        }
      ]
    },
    {
      "cell_type": "code",
      "source": [
        "# Resto da Divisão\n",
        "rdiv = 10 % 3\n",
        "print(rdiv)"
      ],
      "metadata": {
        "colab": {
          "base_uri": "https://localhost:8080/"
        },
        "id": "Nakd64H-FEpp",
        "outputId": "339737e7-ce7e-4238-b168-03d0a002a1ac"
      },
      "execution_count": null,
      "outputs": [
        {
          "output_type": "stream",
          "name": "stdout",
          "text": [
            "1\n"
          ]
        }
      ]
    },
    {
      "cell_type": "code",
      "source": [
        "# Parte inteira da divisão\n",
        "idiv = 10 // 3\n",
        "print(f'A parte inteira da divisão 10 por 3 é : {idiv}')"
      ],
      "metadata": {
        "colab": {
          "base_uri": "https://localhost:8080/"
        },
        "id": "RN0qTgekFlgE",
        "outputId": "6a3809b5-df6f-4e5a-dc32-19a7c02c9646"
      },
      "execution_count": null,
      "outputs": [
        {
          "output_type": "stream",
          "name": "stdout",
          "text": [
            "A parte inteira da divisão 10 por 3 é : 3\n"
          ]
        }
      ]
    },
    {
      "cell_type": "code",
      "source": [
        "# Operador de potenciação\n",
        "pot = 3 ** 2 # três ao quadrado\n",
        "print(pot)"
      ],
      "metadata": {
        "colab": {
          "base_uri": "https://localhost:8080/"
        },
        "id": "78cBZVhTGWCo",
        "outputId": "d11c9690-84dd-43b6-fad1-b67010e7d6bf"
      },
      "execution_count": null,
      "outputs": [
        {
          "output_type": "stream",
          "name": "stdout",
          "text": [
            "9\n"
          ]
        }
      ]
    },
    {
      "cell_type": "code",
      "source": [
        "# Outro exemplo\n",
        "pow(3,2)"
      ],
      "metadata": {
        "colab": {
          "base_uri": "https://localhost:8080/"
        },
        "id": "oCG_Hv5HG1nw",
        "outputId": "c9489a38-e664-4a5c-f820-7f26e2765da4"
      },
      "execution_count": null,
      "outputs": [
        {
          "output_type": "execute_result",
          "data": {
            "text/plain": [
              "9"
            ]
          },
          "metadata": {},
          "execution_count": 85
        }
      ]
    },
    {
      "cell_type": "code",
      "source": [
        "# Radiciação\n",
        "import math"
      ],
      "metadata": {
        "id": "NkFExByAHQtb"
      },
      "execution_count": null,
      "outputs": []
    },
    {
      "cell_type": "code",
      "source": [
        "# Calculando raiz quadrada de 144\n",
        "math.sqrt(144)"
      ],
      "metadata": {
        "colab": {
          "base_uri": "https://localhost:8080/"
        },
        "id": "HOyuYUH0HgdR",
        "outputId": "7d616e16-2eaf-4e20-e156-6a408a7ad229"
      },
      "execution_count": null,
      "outputs": [
        {
          "output_type": "execute_result",
          "data": {
            "text/plain": [
              "12.0"
            ]
          },
          "metadata": {},
          "execution_count": 87
        }
      ]
    },
    {
      "cell_type": "code",
      "source": [
        "# sugestão\n",
        "d = math.sqrt(144)\n",
        "d = int(d)\n",
        "d"
      ],
      "metadata": {
        "colab": {
          "base_uri": "https://localhost:8080/"
        },
        "id": "mWq90yINID18",
        "outputId": "39ad1f62-22b9-4e33-b2f4-fc12a09af1ce"
      },
      "execution_count": null,
      "outputs": [
        {
          "output_type": "execute_result",
          "data": {
            "text/plain": [
              "12"
            ]
          },
          "metadata": {},
          "execution_count": 88
        }
      ]
    },
    {
      "cell_type": "markdown",
      "source": [
        "## **Operadores de Comparação (Booleanos)**"
      ],
      "metadata": {
        "id": "How4ipCNIoLP"
      }
    },
    {
      "cell_type": "code",
      "source": [
        "# (==) verifica se dois valores são iguais (retornar como resposta True ou False)\n",
        "a = 3\n",
        "b = 3.0\n",
        "teste1 = a == b\n",
        "print(teste1)"
      ],
      "metadata": {
        "colab": {
          "base_uri": "https://localhost:8080/"
        },
        "id": "xPdC7RrPIyV3",
        "outputId": "d6f5e07b-6567-4dc3-c4a4-2e1942e302d8"
      },
      "execution_count": null,
      "outputs": [
        {
          "output_type": "stream",
          "name": "stdout",
          "text": [
            "True\n"
          ]
        }
      ]
    },
    {
      "cell_type": "code",
      "source": [
        "# As comparações podem ser feitas com variáveis do tipo String\n",
        "teste2 = 'fran' == 'Fran'\n",
        "print(teste2)"
      ],
      "metadata": {
        "colab": {
          "base_uri": "https://localhost:8080/"
        },
        "id": "MvtCCa7JJ0I7",
        "outputId": "c49beb83-32f7-4542-80f9-6c4dc21c0866"
      },
      "execution_count": null,
      "outputs": [
        {
          "output_type": "stream",
          "name": "stdout",
          "text": [
            "False\n"
          ]
        }
      ]
    },
    {
      "cell_type": "code",
      "source": [
        "# (!=) verifica se dois valores são diferentes (retornar True ou False)\n",
        "a = 3\n",
        "b = 3.0\n",
        "teste3 = a != b\n",
        "print(teste3)"
      ],
      "metadata": {
        "colab": {
          "base_uri": "https://localhost:8080/"
        },
        "id": "MCkpUM1ZKliU",
        "outputId": "0c921bbb-e4cf-4f7e-c0f2-b91817942431"
      },
      "execution_count": null,
      "outputs": [
        {
          "output_type": "stream",
          "name": "stdout",
          "text": [
            "False\n"
          ]
        }
      ]
    },
    {
      "cell_type": "code",
      "source": [
        "# (>) verifica se um valor é maior que o outro\n",
        "teste4 = 3 > 2\n",
        "print(teste4)"
      ],
      "metadata": {
        "colab": {
          "base_uri": "https://localhost:8080/"
        },
        "id": "uFn9SrUVLVA9",
        "outputId": "a189a917-31e1-4ce3-a4df-519dd0652d2a"
      },
      "execution_count": null,
      "outputs": [
        {
          "output_type": "stream",
          "name": "stdout",
          "text": [
            "True\n"
          ]
        }
      ]
    },
    {
      "cell_type": "code",
      "source": [
        "# (>=) verifica se um valor é maior ou igual ao outro\n",
        "teste5 = 3 >= 3\n",
        "print(teste5)"
      ],
      "metadata": {
        "colab": {
          "base_uri": "https://localhost:8080/"
        },
        "id": "sZnkEIytMNgJ",
        "outputId": "8d4e273f-e1ea-4c6c-90e6-615f630a36fb"
      },
      "execution_count": null,
      "outputs": [
        {
          "output_type": "stream",
          "name": "stdout",
          "text": [
            "True\n"
          ]
        }
      ]
    },
    {
      "cell_type": "code",
      "source": [
        "# (<) verifica se um valor é menor que o outro\n",
        "teste6 = 2 < 2\n",
        "print(teste6)"
      ],
      "metadata": {
        "colab": {
          "base_uri": "https://localhost:8080/"
        },
        "id": "22vow-YlMydm",
        "outputId": "37ed4223-2f0d-43b2-9be1-b34acd0d2f43"
      },
      "execution_count": null,
      "outputs": [
        {
          "output_type": "stream",
          "name": "stdout",
          "text": [
            "False\n"
          ]
        }
      ]
    },
    {
      "cell_type": "code",
      "source": [
        "# (<=) verifica se um valor é menor ou igual ao outro\n",
        "teste7 = 2 <= 2\n",
        "print(teste7)"
      ],
      "metadata": {
        "colab": {
          "base_uri": "https://localhost:8080/"
        },
        "id": "d9jxGDE6M_jM",
        "outputId": "1e9bdc0a-636e-4d9c-a427-f9744b28d21b"
      },
      "execution_count": null,
      "outputs": [
        {
          "output_type": "stream",
          "name": "stdout",
          "text": [
            "True\n"
          ]
        }
      ]
    },
    {
      "cell_type": "markdown",
      "source": [
        "## **Operadores de Atribuição**"
      ],
      "metadata": {
        "id": "tVY10axmRVMF"
      }
    },
    {
      "cell_type": "code",
      "source": [
        "# (=) atribuição direta: atribui ao lado esquerdo do sinal um valor a variável\n",
        "nome = 'fran'\n",
        "peso = 51\n",
        "altura = 1.65"
      ],
      "metadata": {
        "id": "BvH_iTyDRjdg"
      },
      "execution_count": null,
      "outputs": []
    },
    {
      "cell_type": "code",
      "source": [
        "# (+=) atribuição de soma: equivale a x = x + y\n",
        "# Exemplo: crie uma variável t que receba o numero inteiro 3 e depois\n",
        "# some 1 para essa variável\n",
        "\n",
        "t = 3       # crie uma variável t\n",
        "t = t + 1   # depois some 1 para essa variável:\n",
        "print('O resultado de t + 1 é: ', t)"
      ],
      "metadata": {
        "colab": {
          "base_uri": "https://localhost:8080/"
        },
        "id": "KLQ8sf0PSN2F",
        "outputId": "cfe13355-5377-4452-c5e4-0ca0ad0d012a"
      },
      "execution_count": null,
      "outputs": [
        {
          "output_type": "stream",
          "name": "stdout",
          "text": [
            "O resultado de t + 1 é:  4\n"
          ]
        }
      ]
    },
    {
      "cell_type": "code",
      "source": [
        "# Outra forma que também resolve problema\n",
        "t = 3\n",
        "t = 3 + 1\n",
        "print(t)"
      ],
      "metadata": {
        "colab": {
          "base_uri": "https://localhost:8080/"
        },
        "id": "k5ETxwSaTWo5",
        "outputId": "40b76255-2bd9-48e4-dc80-dec1ab055638"
      },
      "execution_count": null,
      "outputs": [
        {
          "output_type": "stream",
          "name": "stdout",
          "text": [
            "4\n"
          ]
        }
      ]
    },
    {
      "cell_type": "code",
      "source": [
        "# modo usando operador de atribuição soma\n",
        "t = 3\n",
        "t += 1\n",
        "print(t)"
      ],
      "metadata": {
        "colab": {
          "base_uri": "https://localhost:8080/"
        },
        "id": "UPR5cEqlUDtY",
        "outputId": "3f5d162e-88b6-44ee-faaf-e4fa8ea8fe2e"
      },
      "execution_count": null,
      "outputs": [
        {
          "output_type": "stream",
          "name": "stdout",
          "text": [
            "4\n"
          ]
        }
      ]
    },
    {
      "cell_type": "code",
      "source": [
        "# (-=) atribuição de subtração\n",
        "# Exemplo: crie uma variável z que receba o numero inteiro 5 e\n",
        "# depois diminua 2 para essa variável\n",
        "\n",
        "z = 5\n",
        "z = z - 2\n",
        "print(z)"
      ],
      "metadata": {
        "colab": {
          "base_uri": "https://localhost:8080/"
        },
        "id": "-1q-29udUsC_",
        "outputId": "fad6a66e-b5fc-418e-bed8-8ca2164b6c81"
      },
      "execution_count": null,
      "outputs": [
        {
          "output_type": "stream",
          "name": "stdout",
          "text": [
            "3\n"
          ]
        }
      ]
    },
    {
      "cell_type": "code",
      "source": [
        "# Outro modo que resolve o problema\n",
        "z = 5\n",
        "z = 5 - 2\n",
        "print(z)"
      ],
      "metadata": {
        "colab": {
          "base_uri": "https://localhost:8080/"
        },
        "id": "s-wluvvuVJjY",
        "outputId": "50c55a4b-6fba-4733-e15b-b675b7ebc562"
      },
      "execution_count": null,
      "outputs": [
        {
          "output_type": "stream",
          "name": "stdout",
          "text": [
            "3\n"
          ]
        }
      ]
    },
    {
      "cell_type": "code",
      "source": [
        "# modo usando operador de atribuição de subtração\n",
        "z = 5\n",
        "z -= 2\n",
        "print(z)"
      ],
      "metadata": {
        "colab": {
          "base_uri": "https://localhost:8080/"
        },
        "id": "79dsvMurVXtg",
        "outputId": "0cbb5d86-7c67-4211-f7c3-8391c8cdaf40"
      },
      "execution_count": null,
      "outputs": [
        {
          "output_type": "stream",
          "name": "stdout",
          "text": [
            "3\n"
          ]
        }
      ]
    },
    {
      "cell_type": "code",
      "source": [
        "# (*=) atribuição de multiplicação\n",
        "# Crie uma variável j que receba o numero 5\n",
        "# e depois multiplique este numero por 2\n",
        "\n",
        "j = 5\n",
        "j = j * 2\n",
        "print(j)"
      ],
      "metadata": {
        "colab": {
          "base_uri": "https://localhost:8080/"
        },
        "id": "iaBBiSfcWUny",
        "outputId": "4319000e-01eb-41ee-8dae-a69985c8944b"
      },
      "execution_count": null,
      "outputs": [
        {
          "output_type": "stream",
          "name": "stdout",
          "text": [
            "10\n"
          ]
        }
      ]
    },
    {
      "cell_type": "code",
      "source": [
        "# modo sugerido\n",
        "j = 5\n",
        "j = 5 * 2\n",
        "print(j)"
      ],
      "metadata": {
        "colab": {
          "base_uri": "https://localhost:8080/"
        },
        "id": "BiJ3fos-XHXk",
        "outputId": "76b3d51b-0e53-4cbe-b81f-030798a7df7b"
      },
      "execution_count": null,
      "outputs": [
        {
          "output_type": "stream",
          "name": "stdout",
          "text": [
            "10\n"
          ]
        }
      ]
    },
    {
      "cell_type": "code",
      "source": [
        "# modo usando operador de atribuição de multiplicação\n",
        "j = 5\n",
        "j *= 2\n",
        "print(j)"
      ],
      "metadata": {
        "colab": {
          "base_uri": "https://localhost:8080/"
        },
        "id": "cQC2K2cgXhsA",
        "outputId": "6d9ef6ac-19e2-4746-9061-29b01a07781e"
      },
      "execution_count": null,
      "outputs": [
        {
          "output_type": "stream",
          "name": "stdout",
          "text": [
            "10\n"
          ]
        }
      ]
    },
    {
      "cell_type": "code",
      "source": [
        "# (%=) atribuição de resto da divisão\n",
        "# Exemplo: crie uma variável b que receba o numero 7 e depois\n",
        "# receba o resto da divisão dela por 2.\n",
        "\n",
        "b = 7\n",
        "b = b % 2\n",
        "print(b)"
      ],
      "metadata": {
        "colab": {
          "base_uri": "https://localhost:8080/"
        },
        "id": "NTj6Ao3SYTmp",
        "outputId": "af88dcf8-1968-4f85-ad02-b13264d472cf"
      },
      "execution_count": null,
      "outputs": [
        {
          "output_type": "stream",
          "name": "stdout",
          "text": [
            "1\n"
          ]
        }
      ]
    },
    {
      "cell_type": "code",
      "source": [
        "# usando modo de atribuição de resto da divisão\n",
        "b = 7\n",
        "b %= 2\n",
        "print(b)"
      ],
      "metadata": {
        "colab": {
          "base_uri": "https://localhost:8080/"
        },
        "id": "FvTD7K9oZElh",
        "outputId": "001ae841-bfcf-41f4-8bb9-d9fa921f7592"
      },
      "execution_count": null,
      "outputs": [
        {
          "output_type": "stream",
          "name": "stdout",
          "text": [
            "1\n"
          ]
        }
      ]
    },
    {
      "cell_type": "markdown",
      "source": [
        "## **Operadores Lógicos**"
      ],
      "metadata": {
        "id": "hvMuDVQJZ6qu"
      }
    },
    {
      "cell_type": "code",
      "source": [
        "# (and) retorna verdadeiro somente se TODAS as condições de uma\n",
        "# comparação forem satisfeitas\n",
        "\n",
        "teste8 = 3 >= 2 and 3 !=2 and 3 < 4 # V and V and V\n",
        "print(teste8)"
      ],
      "metadata": {
        "colab": {
          "base_uri": "https://localhost:8080/"
        },
        "id": "Cqy1eRmeaBzN",
        "outputId": "de3a9e84-bcc7-41d2-a373-d4a949aa35d4"
      },
      "execution_count": null,
      "outputs": [
        {
          "output_type": "stream",
          "name": "stdout",
          "text": [
            "True\n"
          ]
        }
      ]
    },
    {
      "cell_type": "code",
      "source": [
        "# (&) é o mesmo que 'and'. Retorna retorna verdadeiro somente se\n",
        "# TODAS as condições de uma comparação forem satisfeitas\n",
        "\n",
        "teste9 = (3 >= 2) & (3 != 2) & (3 < 4)\n",
        "print(teste9)"
      ],
      "metadata": {
        "colab": {
          "base_uri": "https://localhost:8080/"
        },
        "id": "FpQwwVM_gnVt",
        "outputId": "8cdf1e42-5cbf-4999-8280-d7e0ecd05c36"
      },
      "execution_count": null,
      "outputs": [
        {
          "output_type": "stream",
          "name": "stdout",
          "text": [
            "True\n"
          ]
        }
      ]
    },
    {
      "cell_type": "code",
      "source": [
        "# (or) Retorna verdadeiro se PELO MENOS UM dos elementos das condições\n",
        "# for verdadeiro\n",
        "\n",
        "teste10 = 3 >= 2 or 3 == 2 or 3 > 4 # v or f or f\n",
        "print(teste10)"
      ],
      "metadata": {
        "colab": {
          "base_uri": "https://localhost:8080/"
        },
        "id": "Tx9OdqXGh1b8",
        "outputId": "be8c12b3-3c9c-4623-f228-d4b9c68ed0a6"
      },
      "execution_count": null,
      "outputs": [
        {
          "output_type": "stream",
          "name": "stdout",
          "text": [
            "True\n"
          ]
        }
      ]
    },
    {
      "cell_type": "code",
      "source": [
        "teste11 = 1 >= 2 or 3 == 2 or 3 > 4 # f or f or f\n",
        "print(teste11)"
      ],
      "metadata": {
        "colab": {
          "base_uri": "https://localhost:8080/"
        },
        "id": "WDyIlxhEibcg",
        "outputId": "19f47303-dda3-4ed0-f1e0-1c8021dcfa73"
      },
      "execution_count": null,
      "outputs": [
        {
          "output_type": "stream",
          "name": "stdout",
          "text": [
            "False\n"
          ]
        }
      ]
    },
    {
      "cell_type": "code",
      "source": [
        "# (|) é a mesma coisa que o OR. Retorna verdadeiro se PELO MENOS UM dos elementos\n",
        "# das condições for verdadeiro\n",
        "\n",
        "teste12 = (3 >= 2) | (3 == 2) | (3 > 4) # v or f or f\n",
        "print(teste12)"
      ],
      "metadata": {
        "colab": {
          "base_uri": "https://localhost:8080/"
        },
        "id": "0sowBq5fi1NI",
        "outputId": "72a9df9a-2a3f-4d11-cb13-110c605a1bfa"
      },
      "execution_count": null,
      "outputs": [
        {
          "output_type": "stream",
          "name": "stdout",
          "text": [
            "True\n"
          ]
        }
      ]
    },
    {
      "cell_type": "markdown",
      "source": [
        "## **Conversão de variáveis**"
      ],
      "metadata": {
        "id": "4YnW_kqJjzTZ"
      }
    },
    {
      "cell_type": "code",
      "source": [
        "# Conversão de int para float\n",
        "num_int = 10\n",
        "num_float = float(num_int)"
      ],
      "metadata": {
        "id": "Q3eSngWoj2w6"
      },
      "execution_count": null,
      "outputs": []
    },
    {
      "cell_type": "code",
      "source": [
        "# Checando a conversão\n",
        "print(type(num_int))\n",
        "print(type(num_float))"
      ],
      "metadata": {
        "colab": {
          "base_uri": "https://localhost:8080/"
        },
        "id": "y2RJtz6AlYI7",
        "outputId": "ffef5cb7-3e45-40f8-b854-19ffa327182e"
      },
      "execution_count": null,
      "outputs": [
        {
          "output_type": "stream",
          "name": "stdout",
          "text": [
            "<class 'int'>\n",
            "<class 'float'>\n"
          ]
        }
      ]
    },
    {
      "cell_type": "code",
      "source": [
        "# Checando se transformamos de 10 para 10.0\n",
        "print(num_float)"
      ],
      "metadata": {
        "colab": {
          "base_uri": "https://localhost:8080/"
        },
        "id": "G6nkVkggllZ7",
        "outputId": "8dd48fdd-f076-4ccd-8d3a-640972e933b7"
      },
      "execution_count": null,
      "outputs": [
        {
          "output_type": "stream",
          "name": "stdout",
          "text": [
            "10.0\n"
          ]
        }
      ]
    },
    {
      "cell_type": "code",
      "source": [
        "# Conversão de int para string\n",
        "num_int = 10\n",
        "num_str = str(num_int)"
      ],
      "metadata": {
        "id": "uJqaHefNmYkX"
      },
      "execution_count": null,
      "outputs": []
    },
    {
      "cell_type": "code",
      "source": [
        "# Checando a conversão\n",
        "print(type(num_int))\n",
        "print(type(num_str))"
      ],
      "metadata": {
        "colab": {
          "base_uri": "https://localhost:8080/"
        },
        "id": "KAa-g59NmtvZ",
        "outputId": "541dd182-35a3-4542-8d3f-823599974395"
      },
      "execution_count": null,
      "outputs": [
        {
          "output_type": "stream",
          "name": "stdout",
          "text": [
            "<class 'int'>\n",
            "<class 'str'>\n"
          ]
        }
      ]
    },
    {
      "cell_type": "code",
      "source": [
        "# Checando se transformamos de 10 para '10'\n",
        "print(num_str)"
      ],
      "metadata": {
        "colab": {
          "base_uri": "https://localhost:8080/"
        },
        "id": "xqZYqb1_m4D3",
        "outputId": "cf3741f7-30b0-4771-f4c9-0f6efec66d18"
      },
      "execution_count": null,
      "outputs": [
        {
          "output_type": "stream",
          "name": "stdout",
          "text": [
            "10\n"
          ]
        }
      ]
    },
    {
      "cell_type": "code",
      "source": [
        "# Conversão de float para int\n",
        "num_float = 10.5\n",
        "num_int = int(num_float)"
      ],
      "metadata": {
        "id": "6RjgaNuZnlyZ"
      },
      "execution_count": null,
      "outputs": []
    },
    {
      "cell_type": "code",
      "source": [
        "# Checando a conversão\n",
        "print(type(num_float))\n",
        "print(type(num_int))"
      ],
      "metadata": {
        "colab": {
          "base_uri": "https://localhost:8080/"
        },
        "id": "R-kSWHw1n5gd",
        "outputId": "00c1cd49-8a85-4ece-b5d1-4a49d12ad2ae"
      },
      "execution_count": null,
      "outputs": [
        {
          "output_type": "stream",
          "name": "stdout",
          "text": [
            "<class 'float'>\n",
            "<class 'int'>\n"
          ]
        }
      ]
    },
    {
      "cell_type": "code",
      "source": [
        "# Checando se transformamos\n",
        "print(num_int)"
      ],
      "metadata": {
        "id": "RHaQW8sIoDVu",
        "outputId": "66e40a2a-2b09-499b-8132-4cfc7532de7a",
        "colab": {
          "base_uri": "https://localhost:8080/"
        }
      },
      "execution_count": null,
      "outputs": [
        {
          "output_type": "stream",
          "name": "stdout",
          "text": [
            "10\n"
          ]
        }
      ]
    }
  ]
}