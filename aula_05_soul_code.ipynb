{
  "nbformat": 4,
  "nbformat_minor": 0,
  "metadata": {
    "colab": {
      "provenance": [],
      "include_colab_link": true
    },
    "kernelspec": {
      "name": "python3",
      "display_name": "Python 3"
    },
    "language_info": {
      "name": "python"
    }
  },
  "cells": [
    {
      "cell_type": "markdown",
      "metadata": {
        "id": "view-in-github",
        "colab_type": "text"
      },
      "source": [
        "<a href=\"https://colab.research.google.com/github/ewerton-andrade/soulcode-ad/blob/main/aula_05_soul_code.ipynb\" target=\"_parent\"><img src=\"https://colab.research.google.com/assets/colab-badge.svg\" alt=\"Open In Colab\"/></a>"
      ]
    },
    {
      "cell_type": "markdown",
      "source": [
        "# **MÓDULO 1: PYTHON PARA PROGRAMADORES**"
      ],
      "metadata": {
        "id": "rNrJ5Do2BNdL"
      }
    },
    {
      "cell_type": "markdown",
      "source": [
        "# **Introdução ao Python**"
      ],
      "metadata": {
        "id": "uc-fkUZRI7jq"
      }
    },
    {
      "cell_type": "markdown",
      "source": [
        "Escola: SoulCode Academy\n",
        "\n",
        "Curso: Analista de Dados e Dashboards\n",
        "\n",
        "Período: Noturno\n",
        "\n",
        "Assunto: Python\n",
        "\n",
        "Professor: Franciane Rodrigues\n",
        "\n",
        "Aluna: Ewerton Lima de Andrade"
      ],
      "metadata": {
        "id": "FEPWx5SVgdbS"
      }
    },
    {
      "cell_type": "markdown",
      "source": [
        "## **Estrutura de Condição: IF, ELSE, ELIF**"
      ],
      "metadata": {
        "id": "xvU4rYmvpe_b"
      }
    },
    {
      "cell_type": "markdown",
      "source": [
        "Instrução IF\n",
        "\n",
        "* A instrução \"if\" é usada para executar um bloco de código se uma determiada condição for verdadeira. A seguinte sintaxe geral é a seguinte:\n"
      ],
      "metadata": {
        "id": "bGW3vcy7psAu"
      }
    },
    {
      "cell_type": "code",
      "source": [
        "'''\n",
        "if condição:\n",
        "    # bloco de código a ser executado\n",
        "'''"
      ],
      "metadata": {
        "id": "g1cyR5SZpn_Y"
      },
      "execution_count": null,
      "outputs": []
    },
    {
      "cell_type": "code",
      "source": [
        "# Informar a variável\n",
        "idade = 19\n",
        "\n",
        "# Realizar a condição\n",
        "if idade >= 18:\n",
        "    print('Você é maior de idade')"
      ],
      "metadata": {
        "colab": {
          "base_uri": "https://localhost:8080/"
        },
        "id": "TMhCEg6qrFU9",
        "outputId": "7caa75c1-10c1-4d58-9882-b670d40b664e"
      },
      "execution_count": null,
      "outputs": [
        {
          "output_type": "stream",
          "name": "stdout",
          "text": [
            "Você é maior de idade\n"
          ]
        }
      ]
    },
    {
      "cell_type": "code",
      "source": [
        "# Informar a variável\n",
        "idade = 18\n",
        "\n",
        "# Realizar a condição\n",
        "if idade >= 18:\n",
        "    print('Você é maior de idade')"
      ],
      "metadata": {
        "colab": {
          "base_uri": "https://localhost:8080/"
        },
        "id": "N08TnIELskRP",
        "outputId": "1db107ab-8e5c-4cee-fc1d-95e1c95f8753"
      },
      "execution_count": null,
      "outputs": [
        {
          "output_type": "stream",
          "name": "stdout",
          "text": [
            "Você é maior de idade\n"
          ]
        }
      ]
    },
    {
      "cell_type": "code",
      "source": [
        "# Informar a variável\n",
        "idade = 17\n",
        "\n",
        "# Realizar a condição\n",
        "if idade >= 18:\n",
        "    print('Você é maior de idade')"
      ],
      "metadata": {
        "id": "WIuaJMWYs6SR"
      },
      "execution_count": null,
      "outputs": []
    },
    {
      "cell_type": "code",
      "source": [
        "# Informar a variável\n",
        "clima = 'ensolarado'\n",
        "\n",
        "# Vamos verificar se o clima é igual a ensolarado\n",
        "if clima == 'ensolarado': # para facilitar leia os dois pontos como \"então\".\n",
        "    print('É um bom dia para ir na pracinha')"
      ],
      "metadata": {
        "colab": {
          "base_uri": "https://localhost:8080/"
        },
        "id": "9Rg_aBxItT2N",
        "outputId": "7ba7a945-f6dd-4bbc-f5f0-9e98a231bd34"
      },
      "execution_count": null,
      "outputs": [
        {
          "output_type": "stream",
          "name": "stdout",
          "text": [
            "É um bom dia para ir na pracinha\n"
          ]
        }
      ]
    },
    {
      "cell_type": "code",
      "source": [
        "# Informar a variável\n",
        "clima = input('Digite o clima atual: ')\n",
        "\n",
        "# Vamos verificar se o clima é igual a ensolarado\n",
        "if clima == 'ensolarado': # para facilitar leia os dois pontos como \"então\".\n",
        "    print('É um bom dia para ir na pracinha')"
      ],
      "metadata": {
        "colab": {
          "base_uri": "https://localhost:8080/"
        },
        "id": "FmkWFD32ufcn",
        "outputId": "d4af6258-e022-430d-f45a-a7dda5b2693a"
      },
      "execution_count": null,
      "outputs": [
        {
          "name": "stdout",
          "output_type": "stream",
          "text": [
            "Digite o clima atual: ENSOLARADO\n"
          ]
        }
      ]
    },
    {
      "cell_type": "code",
      "source": [
        "# Informar a variável\n",
        "clima = input('Digite o clima atual: ')\n",
        "\n",
        "# Vamos verificar se o clima é igual a ensolarado\n",
        "if clima.lower() == 'ensolarado': # para facilitar leia os dois pontos como \"então\".\n",
        "    print('É um bom dia para ir na pracinha')"
      ],
      "metadata": {
        "colab": {
          "base_uri": "https://localhost:8080/"
        },
        "id": "6uBfye0_vXsD",
        "outputId": "6cdda908-f970-4290-ce71-21465b573926"
      },
      "execution_count": null,
      "outputs": [
        {
          "output_type": "stream",
          "name": "stdout",
          "text": [
            "Digite o clima atual: Ensolarado\n",
            "É um bom dia para ir na pracinha\n"
          ]
        }
      ]
    },
    {
      "cell_type": "markdown",
      "source": [
        "Instrução \"else\"\n",
        "\n",
        "* A instrução \"else\" é usada em conjunto com a instrução \"if\"  e especifica um bloco de código a ser executado se a condição do \"if\" for falsa. A sintaxe geral é a seguinte:"
      ],
      "metadata": {
        "id": "pdXzJal30avk"
      }
    },
    {
      "cell_type": "code",
      "source": [
        "'''\n",
        "if condição:\n",
        "    # bloco de código a ser executado se a condição for verdadeira;\n",
        "else:\n",
        "    # bloco de código a ser executado se a condição for falsa;\n",
        "'''"
      ],
      "metadata": {
        "id": "RikQEo9607Le"
      },
      "execution_count": null,
      "outputs": []
    },
    {
      "cell_type": "code",
      "source": [
        "# Entrada de dados\n",
        "idade = int(input('Digite sua idade: '))\n",
        "\n",
        "# Decisão\n",
        "if idade >= 18:\n",
        "    print('Você é maior de idade!')\n",
        "\n",
        "else: # leia \"else\" como \"se não\"\n",
        "    print('Você é menor de idade!')"
      ],
      "metadata": {
        "colab": {
          "base_uri": "https://localhost:8080/"
        },
        "id": "rpLSG8JW1abV",
        "outputId": "67487fe9-1084-4ee0-bf08-d137b8972b70"
      },
      "execution_count": null,
      "outputs": [
        {
          "output_type": "stream",
          "name": "stdout",
          "text": [
            "Digite sua idade: 34\n",
            "Você é maior de idade!\n"
          ]
        }
      ]
    },
    {
      "cell_type": "code",
      "source": [
        "# Exemplo: Escreva um pequeno código que decida se um numero\n",
        "# é positivo ou negativo\n",
        "\n",
        "numero = float(input('Escreva um número: '))\n",
        "\n",
        "# Verificar se o numero informado é positivo ou negativo\n",
        "\n",
        "if numero > 0:\n",
        "    print('O número informado é positivo')\n",
        "else:\n",
        "    print('O número informado é negativo')"
      ],
      "metadata": {
        "colab": {
          "base_uri": "https://localhost:8080/"
        },
        "id": "cp5RnOc12Na-",
        "outputId": "1f7fe738-1612-4bd1-84be-660f6be6d205"
      },
      "execution_count": null,
      "outputs": [
        {
          "output_type": "stream",
          "name": "stdout",
          "text": [
            "Escreva um número: 0\n",
            "O número informado é negativo\n"
          ]
        }
      ]
    },
    {
      "cell_type": "markdown",
      "source": [
        "Instrução \"elif\" (meio termo)\n",
        "\n",
        "* A instrução \"elif\" é um abreviação de \"else if\" (senão se) e permite testar multiplas condições em sequencia. Ela é usada quando há mais de duas possibilidades a serem consideradas. A sintaxe geral é a seguinte:"
      ],
      "metadata": {
        "id": "dWhyfg237tBA"
      }
    },
    {
      "cell_type": "code",
      "source": [
        "'''\n",
        "if condição1:\n",
        "    # bloco de código a ser executado se a condição1 for verdadeira\n",
        "elif condição2:\n",
        "    # bloco de código a ser executado se a condição2 for verdadeira\n",
        "else:\n",
        "    # bloco de código a ser executado se nenhuma das condições\n",
        "    # anteriores forem verdadeiras\n",
        "'''"
      ],
      "metadata": {
        "id": "Bge4tiWJ8fj4"
      },
      "execution_count": null,
      "outputs": []
    },
    {
      "cell_type": "markdown",
      "source": [
        "Exemplo: Faça um algoritmo que avalie a nota do aluno:\n",
        "\n",
        "* se ele tirou igual ou acima de 90, seu conceito é A;\n",
        "* se ele tirou igual ou acima de 80, seu conceito é B;\n",
        "* se ele tirou igual ou acima de 70, seu conceito é C;\n",
        "* se ele tirou abaixo de 70, seu conceito é D;"
      ],
      "metadata": {
        "id": "yytXJ0XrBj5S"
      }
    },
    {
      "cell_type": "code",
      "source": [
        "# Entrada de dados\n",
        "nota = float(input('Digitar a nota do aluno: '))\n",
        "\n",
        "# Avaliação e decisão\n",
        "if nota >= 90 and nota <= 100:\n",
        "    print('Sua nota é A!')\n",
        "\n",
        "elif nota >= 80 and nota < 90:\n",
        "    print('Sua nota é B!')\n",
        "\n",
        "elif nota >= 70 and nota < 80:\n",
        "    print('Sua nota é C!')\n",
        "\n",
        "else:\n",
        "    print('Sua nota é D!')\n",
        "\n",
        "# Desafio: conserte o código!"
      ],
      "metadata": {
        "colab": {
          "base_uri": "https://localhost:8080/"
        },
        "id": "Lw9EYLRY9fEu",
        "outputId": "71561a0a-b191-438f-c6bd-bacde5e7eda9"
      },
      "execution_count": null,
      "outputs": [
        {
          "output_type": "stream",
          "name": "stdout",
          "text": [
            "Digitar a nota do aluno: 120\n",
            "Sua nota é D!\n"
          ]
        }
      ]
    },
    {
      "cell_type": "code",
      "source": [
        "# Sugestão de solução do desafio - Everton.\n",
        "# Entrada de dados\n",
        "nota = float(input('Digitar a nota do aluno: '))\n",
        "\n",
        "# Avaliação e decisão\n",
        "if nota >= 90 and nota <= 100:\n",
        "    print('Seu conceito é A!')\n",
        "elif nota >= 80 and nota < 90:\n",
        "    print('Seu conceito é B!')\n",
        "elif nota >= 70 and nota < 80:\n",
        "    print('Seu conceito é C!')\n",
        "elif nota >= 0 and nota < 70:\n",
        "    print('Seu conceito é D!')\n",
        "else:\n",
        "    print('Favor inserir uma nota valida!')"
      ],
      "metadata": {
        "id": "rxL8CQUfKCQ3"
      },
      "execution_count": null,
      "outputs": []
    },
    {
      "cell_type": "code",
      "source": [
        "# Problemas de IMC\n",
        "\n",
        "# Entradas de dados\n",
        "nome = input('Digite seu nome: ')\n",
        "peso = int(input('Informe seu peso: '))\n",
        "altura = float(input('Informe sua altura: '))\n",
        "\n",
        "# calculando o IMC  - KPI da área de nutrição\n",
        "imc = peso / altura ** 2\n",
        "\n",
        "# Imprimindo na tela\n",
        "print(f'{nome}, seu IMC é: {imc:.2f}')\n",
        "\n",
        "# Verificando a classificação do IMC do paciente\n",
        "\n",
        "if imc <= 0:\n",
        "    print('Você morreu!')\n",
        "\n",
        "elif imc > 0 and imc < 18.5:\n",
        "     print('Você está abaixo do peso.')\n",
        "\n",
        "elif imc >= 18.5 and imc < 25:\n",
        "    print('Seu peso está normal.')\n",
        "\n",
        "elif imc >=25 and imc < 40:\n",
        "    print('Você está com sobrepeso.')\n",
        "\n",
        "else:\n",
        "    print('Você esta obeso')"
      ],
      "metadata": {
        "colab": {
          "base_uri": "https://localhost:8080/"
        },
        "id": "ETP8foaoF2fK",
        "outputId": "8d95da70-eaa3-4fe7-f14c-560b5960ffb9"
      },
      "execution_count": null,
      "outputs": [
        {
          "output_type": "stream",
          "name": "stdout",
          "text": [
            "Digite seu nome: Franciane\n",
            "Informe seu peso: 0\n",
            "Informe sua altura: 1.65\n",
            "Franciane, seu IMC é: 0.00\n",
            "Você morreu!\n"
          ]
        }
      ]
    },
    {
      "cell_type": "markdown",
      "source": [
        "## **IF, ELSE, ELIF aninhado**"
      ],
      "metadata": {
        "id": "BYgEEv5hPXg_"
      }
    },
    {
      "cell_type": "markdown",
      "source": [
        "Condição aninhada: Este programa em Python solicita a nota e a frequência do aluno em uma disciplina e determina se ele foi aprovado ou reprovado. Se a frequência for igual ou superior a 75% e a nota for igual ou superior a 60, o aluno é aprovado. Caso contrário, ele é reprovado, seja por nota ou por frequência."
      ],
      "metadata": {
        "id": "RhI0iaqEPiCw"
      }
    },
    {
      "cell_type": "code",
      "source": [
        "# Entrada de dados\n",
        "frequencia = int(input('Digite a frequencia do aluno: '))\n",
        "nota = float(input('Digite a nota do aluno: '))\n",
        "\n",
        "# Comparação e decisão\n",
        "\n",
        "if frequencia >=75 and frequencia <= 100:\n",
        "    if nota >= 60 and nota <= 100:\n",
        "        print('Aprovado')\n",
        "    else:\n",
        "        print('Reprovado por nota')\n",
        "else:\n",
        "    print('Reprovado por frequencia')"
      ],
      "metadata": {
        "colab": {
          "base_uri": "https://localhost:8080/"
        },
        "id": "csOwKsRTPdgi",
        "outputId": "1ef82312-bd43-48bd-8fca-dc905350cfb4"
      },
      "execution_count": null,
      "outputs": [
        {
          "output_type": "stream",
          "name": "stdout",
          "text": [
            "Digite a frequencia do aluno: 60\n",
            "Digite a nota do aluno: 30\n",
            "Reprovado por frequencia\n"
          ]
        }
      ]
    },
    {
      "cell_type": "code",
      "source": [
        "# Crie um algoritmo que leia a nota de um aluno e verifique se ele passou com média 7\n",
        "while True:\n",
        "  nota: float = float(input(\"Digite a nota do aluno: \"))\n",
        "  if nota >= 7 and nota <= 10:\n",
        "    print(\"O aluno foi APROVADO!\")\n",
        "  elif nota >= 0 and nota < 7:\n",
        "    print(\"O aluno foi REPROVADO.\")\n",
        "  else:\n",
        "    print(\"Digite uma nota entre 0 e 10!\")\n",
        "  continua: str = input(\"Deseja verificar outras notas? Digite S OU N   \")\n",
        "  if continua in \"Nn\":\n",
        "    print(\"Programa encerrado.\")\n",
        "    break\n",
        "  else:\n",
        "    print(\"Seguindo o programa...\")"
      ],
      "metadata": {
        "id": "6vLduY5wzUYS"
      },
      "execution_count": null,
      "outputs": []
    },
    {
      "cell_type": "code",
      "source": [
        "# Crie um algoritmo que leia 5 notas de um aluno e verifique se ele passou com média 7\n",
        "from statistics import mean\n",
        "\n",
        "count = 0\n",
        "notas = []\n",
        "while True:\n",
        "  if count == 0:\n",
        "    print(50*\"-\")\n",
        "    print(\"NOTA MÉDIA ALUNO\\n\")\n",
        "  nota_parcial: float = float(input(f\"Digite a {count + 1} do aluno: \"))\n",
        "  if nota_parcial >= 0 and nota_parcial <=10:\n",
        "    notas.append(nota_parcial)\n",
        "    count += 1\n",
        "    if count == 5:\n",
        "      media_aluno = mean(notas)\n",
        "      print(\"\\n\")\n",
        "      if media_aluno >= 7 and media_aluno <= 10:\n",
        "        print(\"As notas parciais do aluno são: \", end='')\n",
        "        for num, nota in enumerate(notas):\n",
        "          print(nota, end=', ')\n",
        "        print(f\"A sua média final foi {media_aluno}\")\n",
        "        print(f\"O aluno foi APROVADO!\\n\")\n",
        "      elif media_aluno >= 0 and media_aluno < 7:\n",
        "        print(\"As notas parciais do aluno são: \")\n",
        "        for num, nota in enumerate(notas):\n",
        "          print(nota, end=', ')\n",
        "        print(\"\\n\")\n",
        "        print(f\"A média final foi {media_aluno}\")\n",
        "        print(f\"===>>> O aluno foi REPROVADO!\\n\")\n",
        "\n",
        "      continua: str = input(\"Deseja verificar notas? S ou N \")\n",
        "      if continua in \"Nn\":\n",
        "        print(\"O programa foi encerrado.\")\n",
        "        break\n",
        "      else:\n",
        "        print(\"Prosseguindo o programa...\")\n",
        "        notas = []\n",
        "        count = 0\n",
        "  else:\n",
        "    print(\"Digite uma nota entre 0 e 10!\")"
      ],
      "metadata": {
        "id": "aTSaycMjzUgH"
      },
      "execution_count": null,
      "outputs": []
    },
    {
      "cell_type": "code",
      "source": [
        "# Crie um algoritmo que leia 5 notas de 3 alunos e verifique se eles passaram com média 7"
      ],
      "metadata": {
        "id": "h7PhXGdnzUnJ"
      },
      "execution_count": null,
      "outputs": []
    },
    {
      "cell_type": "code",
      "source": [
        "# Crie um algoritmo que leia 5 notas de uma escola com 580 alunos e verifique se eles\n",
        "# passaram com média 7"
      ],
      "metadata": {
        "id": "PbRYoyoJzUt8"
      },
      "execution_count": null,
      "outputs": []
    },
    {
      "cell_type": "code",
      "source": [
        "# Crie um algoritmo que leia 5 notas de uma universidade que possui 10 mil alunos"
      ],
      "metadata": {
        "id": "iBRxl5HEzU0B"
      },
      "execution_count": null,
      "outputs": []
    },
    {
      "cell_type": "markdown",
      "source": [
        "Limitações: As estruturas condicionais toma apenas uma decisão, a primeira que é verdadeira. Elas funcionam bem para coisas simples e se você não organizar o código direito, pode causar problemas."
      ],
      "metadata": {
        "id": "ySDChyMNW0nI"
      }
    }
  ]
}