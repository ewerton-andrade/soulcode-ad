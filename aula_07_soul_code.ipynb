{
  "nbformat": 4,
  "nbformat_minor": 0,
  "metadata": {
    "colab": {
      "provenance": [],
      "include_colab_link": true
    },
    "kernelspec": {
      "name": "python3",
      "display_name": "Python 3"
    },
    "language_info": {
      "name": "python"
    }
  },
  "cells": [
    {
      "cell_type": "markdown",
      "metadata": {
        "id": "view-in-github",
        "colab_type": "text"
      },
      "source": [
        "<a href=\"https://colab.research.google.com/github/ewerton-andrade/soulcode-ad/blob/main/aula_07_soul_code.ipynb\" target=\"_parent\"><img src=\"https://colab.research.google.com/assets/colab-badge.svg\" alt=\"Open In Colab\"/></a>"
      ]
    },
    {
      "cell_type": "markdown",
      "source": [
        "# **MÓDULO 1: PYTHON PARA PROGRAMADORES**"
      ],
      "metadata": {
        "id": "x5zAgc0LMWI0"
      }
    },
    {
      "cell_type": "markdown",
      "source": [
        "##**Introdução ao Python**"
      ],
      "metadata": {
        "id": "XiqULBAXMiy5"
      }
    },
    {
      "cell_type": "markdown",
      "source": [
        "Escola: SoulCode Academy\n",
        "\n",
        "Curso: Analista de Dados e Dashboards\n",
        "\n",
        "Período: Noturno\n",
        "\n",
        "Assunto: Python\n",
        "\n",
        "Professor: Franciane Rodrigues\n",
        "\n",
        "Aluna: Ewerton Lima de Andrade"
      ],
      "metadata": {
        "id": "KIEef5rNMXy1"
      }
    },
    {
      "cell_type": "markdown",
      "source": [
        "## **Operadores de Associação**"
      ],
      "metadata": {
        "id": "J4CHdvRF9nbz"
      }
    },
    {
      "cell_type": "markdown",
      "source": [
        "* (in) Retorna verdadeiro se um caracter  ou sequencia de caracteres for encontrado dentro de uma string."
      ],
      "metadata": {
        "id": "XteMQAwP91ha"
      }
    },
    {
      "cell_type": "code",
      "execution_count": null,
      "metadata": {
        "colab": {
          "base_uri": "https://localhost:8080/"
        },
        "id": "lhiKK-H88NvC",
        "outputId": "610c12db-ac7e-4858-97bd-4f1916eac951"
      },
      "outputs": [
        {
          "output_type": "execute_result",
          "data": {
            "text/plain": [
              "True"
            ]
          },
          "metadata": {},
          "execution_count": 1
        }
      ],
      "source": [
        "# Exemplo 1\n",
        "nome = 'Franciane'\n",
        "'ane' in nome"
      ]
    },
    {
      "cell_type": "code",
      "source": [
        "# Exemplo 2\n",
        "nome = 'Franciane'\n",
        "'Ane' in nome"
      ],
      "metadata": {
        "colab": {
          "base_uri": "https://localhost:8080/"
        },
        "id": "cwgPWeTF-eg4",
        "outputId": "06a4bb3b-201f-4bdf-bbcc-fb99718caa9d"
      },
      "execution_count": null,
      "outputs": [
        {
          "output_type": "execute_result",
          "data": {
            "text/plain": [
              "False"
            ]
          },
          "metadata": {},
          "execution_count": 2
        }
      ]
    },
    {
      "cell_type": "code",
      "source": [
        "# Exemplo 3\n",
        "nome1 = 'Victor Gabriel'\n",
        "'vic' in nome1"
      ],
      "metadata": {
        "colab": {
          "base_uri": "https://localhost:8080/"
        },
        "id": "ZDKGgx3E-zBT",
        "outputId": "37038bef-9fa4-44a1-9033-e22906364fc7"
      },
      "execution_count": null,
      "outputs": [
        {
          "output_type": "execute_result",
          "data": {
            "text/plain": [
              "False"
            ]
          },
          "metadata": {},
          "execution_count": 6
        }
      ]
    },
    {
      "cell_type": "code",
      "source": [
        "# Exemplo 4\n",
        "nome = 'Marcos'\n",
        "'mar' in nome.lower()"
      ],
      "metadata": {
        "colab": {
          "base_uri": "https://localhost:8080/"
        },
        "id": "tccEQ5hC_VJV",
        "outputId": "8451c2ae-d866-4327-ebe6-781c1b74c837"
      },
      "execution_count": null,
      "outputs": [
        {
          "output_type": "execute_result",
          "data": {
            "text/plain": [
              "True"
            ]
          },
          "metadata": {},
          "execution_count": 10
        }
      ]
    },
    {
      "cell_type": "code",
      "source": [
        "# Exemplo 5\n",
        "nome = input('Digite seu nome: ')\n",
        "'mar' in nome.lower()"
      ],
      "metadata": {
        "colab": {
          "base_uri": "https://localhost:8080/"
        },
        "id": "sQS4QkZEBpwd",
        "outputId": "49a94075-d765-40f8-fac6-88bc348daae0"
      },
      "execution_count": null,
      "outputs": [
        {
          "name": "stdout",
          "output_type": "stream",
          "text": [
            "Digite seu nome: MARCOS\n"
          ]
        },
        {
          "output_type": "execute_result",
          "data": {
            "text/plain": [
              "True"
            ]
          },
          "metadata": {},
          "execution_count": 12
        }
      ]
    },
    {
      "cell_type": "markdown",
      "source": [
        "* (not in) Retorna verdadeiro se um caracter ou sequencia de caracteres **NÃO** for encontrado dentro de uma string"
      ],
      "metadata": {
        "id": "rSW1PaNT_1NY"
      }
    },
    {
      "cell_type": "code",
      "source": [
        "nome = 'daniela'\n",
        "teste1 = 'Dani' not in nome\n",
        "print('Dani não está contido em daniela? ', teste1)"
      ],
      "metadata": {
        "colab": {
          "base_uri": "https://localhost:8080/"
        },
        "id": "ZaUV9k1nAQHy",
        "outputId": "13185049-1792-4c94-8198-3d40488d7542"
      },
      "execution_count": null,
      "outputs": [
        {
          "output_type": "stream",
          "name": "stdout",
          "text": [
            "Dani não está contido em daniela?  True\n"
          ]
        }
      ]
    },
    {
      "cell_type": "markdown",
      "source": [
        "## **Operador identidade**"
      ],
      "metadata": {
        "id": "TDHP-CJUCmd-"
      }
    },
    {
      "cell_type": "markdown",
      "source": [
        "* (is) compara se um objeto é igual ao outro em relação ao valor e tipo."
      ],
      "metadata": {
        "id": "Q52YStVQHGzO"
      }
    },
    {
      "cell_type": "code",
      "source": [
        "# Entrada de dados\n",
        "h = 3\n",
        "p = 3\n",
        "\n",
        "# Primeira comparação\n",
        "teste2 = p == h\n",
        "\n",
        "# Outra forma de impressão na tela\n",
        "teste2"
      ],
      "metadata": {
        "colab": {
          "base_uri": "https://localhost:8080/"
        },
        "id": "7Ywv_YHGCxT9",
        "outputId": "72f6d477-946d-4d19-cf65-f9f1e81f53d3"
      },
      "execution_count": null,
      "outputs": [
        {
          "output_type": "execute_result",
          "data": {
            "text/plain": [
              "True"
            ]
          },
          "metadata": {},
          "execution_count": 13
        }
      ]
    },
    {
      "cell_type": "code",
      "source": [
        "# Entrada de dados\n",
        "h = 3\n",
        "p = 3\n",
        "\n",
        "# Segunda comparação\n",
        "teste3 = p is h # Lê \"is\" como \"é\"\n",
        "\n",
        "# Outra forma de impressão na tela\n",
        "teste3"
      ],
      "metadata": {
        "colab": {
          "base_uri": "https://localhost:8080/"
        },
        "id": "3QqdVZDKJh8e",
        "outputId": "a801fa6a-1a2f-4c9d-c728-da70c78f0fe1"
      },
      "execution_count": null,
      "outputs": [
        {
          "output_type": "execute_result",
          "data": {
            "text/plain": [
              "True"
            ]
          },
          "metadata": {},
          "execution_count": 14
        }
      ]
    },
    {
      "cell_type": "code",
      "source": [
        "# Entrada de dados\n",
        "h = 3\n",
        "p = 3.0\n",
        "\n",
        "# Segunda comparação\n",
        "teste4 = p == h\n",
        "\n",
        "# Outra forma de impressão na tela\n",
        "teste4"
      ],
      "metadata": {
        "colab": {
          "base_uri": "https://localhost:8080/"
        },
        "id": "1qT__DWNKQ6Z",
        "outputId": "b1ebfb30-65ac-4a05-f87e-c0dcc07775de"
      },
      "execution_count": null,
      "outputs": [
        {
          "output_type": "execute_result",
          "data": {
            "text/plain": [
              "True"
            ]
          },
          "metadata": {},
          "execution_count": 15
        }
      ]
    },
    {
      "cell_type": "code",
      "source": [
        "# Entrada de dados\n",
        "h = 3\n",
        "p = 3.0\n",
        "\n",
        "# Segunda comparação\n",
        "teste5 = p is h\n",
        "\n",
        "# Outra forma de impressão na tela\n",
        "print(teste5)\n",
        "\n",
        "print(type(h))\n",
        "print(type(p))"
      ],
      "metadata": {
        "colab": {
          "base_uri": "https://localhost:8080/"
        },
        "id": "Cc02091IKqtl",
        "outputId": "1e3d5ace-8558-48c0-fd47-0acf68e7d895"
      },
      "execution_count": null,
      "outputs": [
        {
          "output_type": "stream",
          "name": "stdout",
          "text": [
            "False\n",
            "<class 'int'>\n",
            "<class 'float'>\n"
          ]
        }
      ]
    },
    {
      "cell_type": "code",
      "source": [
        "# Entrada de dados\n",
        "h = 'MARIA'\n",
        "p = 'maria'\n",
        "\n",
        "# Segunda comparação\n",
        "teste6 = p is h # lembrando que o python é case sensitive\n",
        "\n",
        "# Outra forma de impressão na tela\n",
        "print(teste6)\n",
        "\n",
        "print(type(h))\n",
        "print(type(p))"
      ],
      "metadata": {
        "colab": {
          "base_uri": "https://localhost:8080/"
        },
        "id": "MwgDllE7Lzrq",
        "outputId": "64b9ffdc-18f3-4e69-a6e8-fd4b77162c16"
      },
      "execution_count": null,
      "outputs": [
        {
          "output_type": "stream",
          "name": "stdout",
          "text": [
            "False\n",
            "<class 'str'>\n",
            "<class 'str'>\n"
          ]
        }
      ]
    },
    {
      "cell_type": "code",
      "source": [
        "# Entrada de dados\n",
        "h = 3.0\n",
        "p = 3.0\n",
        "\n",
        "# Segunda comparação\n",
        "teste7 = p is h\n",
        "\n",
        "# Outra forma de impressão na tela\n",
        "print(teste7)\n",
        "\n",
        "print(type(h))\n",
        "print(type(p))"
      ],
      "metadata": {
        "colab": {
          "base_uri": "https://localhost:8080/"
        },
        "id": "28tnp5OpMoKc",
        "outputId": "f4d47a96-0f42-40d8-89a0-8e1ebe06807f"
      },
      "execution_count": null,
      "outputs": [
        {
          "output_type": "stream",
          "name": "stdout",
          "text": [
            "False\n",
            "<class 'float'>\n",
            "<class 'float'>\n"
          ]
        }
      ]
    },
    {
      "cell_type": "code",
      "source": [
        "# Ideias do Filipe - trazer informações sobre essa situação.\n",
        "a = 10.1\n",
        "b = 10.2\n",
        "soma = a + b\n",
        "print(soma)\n",
        "print(round(soma,1))"
      ],
      "metadata": {
        "colab": {
          "base_uri": "https://localhost:8080/"
        },
        "id": "B6q-BUjUN4Tl",
        "outputId": "6f313d46-cd3e-4c7a-a319-ada4aa930524"
      },
      "execution_count": null,
      "outputs": [
        {
          "output_type": "stream",
          "name": "stdout",
          "text": [
            "20.299999999999997\n",
            "20.3\n"
          ]
        }
      ]
    },
    {
      "cell_type": "markdown",
      "source": [
        "* (is not) compara se um objeto é diferente do outro em relação ao valor e tipo."
      ],
      "metadata": {
        "id": "OZNzBddAOzqg"
      }
    },
    {
      "cell_type": "code",
      "source": [
        "# Entrada de dados\n",
        "h = 3\n",
        "p = 4\n",
        "\n",
        "# Segunda comparação\n",
        "teste8 = h != p\n",
        "\n",
        "# Outra forma de impressão na tela\n",
        "teste8"
      ],
      "metadata": {
        "colab": {
          "base_uri": "https://localhost:8080/"
        },
        "id": "DB_Q8Q46PFmN",
        "outputId": "901d2355-7569-4a86-a8e6-89f8d08cf81f"
      },
      "execution_count": null,
      "outputs": [
        {
          "output_type": "execute_result",
          "data": {
            "text/plain": [
              "True"
            ]
          },
          "metadata": {},
          "execution_count": 35
        }
      ]
    },
    {
      "cell_type": "code",
      "source": [
        "# Entrada de dados\n",
        "h = 3\n",
        "p = 4\n",
        "\n",
        "# Segunda comparação\n",
        "teste9 = h is not p # is not lê-se \"não é\"\n",
        "\n",
        "# Outra forma de impressão na tela\n",
        "teste9"
      ],
      "metadata": {
        "colab": {
          "base_uri": "https://localhost:8080/"
        },
        "id": "rsUs5rkFPdr4",
        "outputId": "9ff901f1-9740-4c18-9c36-9b35221018fd"
      },
      "execution_count": null,
      "outputs": [
        {
          "output_type": "execute_result",
          "data": {
            "text/plain": [
              "True"
            ]
          },
          "metadata": {},
          "execution_count": 36
        }
      ]
    },
    {
      "cell_type": "markdown",
      "source": [
        "## **Estrutura de Dados**"
      ],
      "metadata": {
        "id": "cIRL28tzP_XK"
      }
    },
    {
      "cell_type": "code",
      "source": [
        "# Uma lista é um objeto que pode ser vazio ou ter varios elementos.\n",
        "# Podemos localizar elementos dentro da lista através de índices\n",
        "# como fizemos nas strings,\n",
        "# inclusive podemos fazer fatiamento se necessário\n",
        "\n",
        "lista = ['dado1', 'dado2', 'dado3', 'dado4', 'dado5']\n",
        "\n",
        "# indices     0         1        2        3        4\n",
        "# reverso    -5        -4       -3       -2       -1\n",
        "\n",
        "# Qual é o quinto elemento da minha lista de forma direta e inversa?\n",
        "print(lista[4])\n",
        "print(lista[-1])"
      ],
      "metadata": {
        "colab": {
          "base_uri": "https://localhost:8080/"
        },
        "id": "vECnMEc7ZORQ",
        "outputId": "64a7e0d7-0b51-4b30-8dbc-9fb395902efc"
      },
      "execution_count": null,
      "outputs": [
        {
          "output_type": "stream",
          "name": "stdout",
          "text": [
            "dado5\n",
            "dado5\n"
          ]
        }
      ]
    },
    {
      "cell_type": "code",
      "source": [
        "# Vamos criar uma lista real\n",
        "lista = ['banana', 2.0, True, -2, 34, 'Bel']\n",
        "lista"
      ],
      "metadata": {
        "colab": {
          "base_uri": "https://localhost:8080/"
        },
        "id": "gjqcnK31bUZd",
        "outputId": "2401d2db-076e-4fa7-e276-0a7fa5c348a6"
      },
      "execution_count": null,
      "outputs": [
        {
          "output_type": "execute_result",
          "data": {
            "text/plain": [
              "['banana', 2.0, True, -2, 34, 'Bel']"
            ]
          },
          "metadata": {},
          "execution_count": 40
        }
      ]
    },
    {
      "cell_type": "code",
      "source": [
        "# len(): retorna o tamanho da lista\n",
        "len(lista)"
      ],
      "metadata": {
        "colab": {
          "base_uri": "https://localhost:8080/"
        },
        "id": "gX6AmR4XcDAb",
        "outputId": "2da0eeaa-3ed3-4bc0-a7b9-65ee1e209ad6"
      },
      "execution_count": null,
      "outputs": [
        {
          "output_type": "execute_result",
          "data": {
            "text/plain": [
              "6"
            ]
          },
          "metadata": {},
          "execution_count": 41
        }
      ]
    },
    {
      "cell_type": "code",
      "source": [
        "# Consigo imprimir o tipo dos dados igual fizemos nos exemplos de antes?\n",
        "print(type(lista))\n",
        "print(type(lista[0]))"
      ],
      "metadata": {
        "colab": {
          "base_uri": "https://localhost:8080/"
        },
        "id": "LRgusxmVcWbM",
        "outputId": "4c2b461f-f3a4-41f4-fc74-6873c701f42e"
      },
      "execution_count": null,
      "outputs": [
        {
          "output_type": "stream",
          "name": "stdout",
          "text": [
            "<class 'list'>\n",
            "<class 'str'>\n"
          ]
        }
      ]
    },
    {
      "cell_type": "code",
      "source": [
        "# Vamos criar uma lista com input - estamos criando um pequeno banco de dados\n",
        "alunos = input('Informe os nomes separados por espaços que você deseja cadastrar: ')\n",
        "nomes = alunos.split()\n",
        "print(nomes)"
      ],
      "metadata": {
        "colab": {
          "base_uri": "https://localhost:8080/"
        },
        "id": "8e1bAU7hcjla",
        "outputId": "a6af7d04-7feb-4866-990e-dbabc475a0c2"
      },
      "execution_count": null,
      "outputs": [
        {
          "output_type": "stream",
          "name": "stdout",
          "text": [
            "Informe os nomes separados por espaços que você deseja cadastrar: Bruno Arthur Carina Felipe Juliana Kleisson Luane Lucas Marcos Vanessa Vinicius\n",
            "['Bruno', 'Arthur', 'Carina', 'Felipe', 'Juliana', 'Kleisson', 'Luane', 'Lucas', 'Marcos', 'Vanessa', 'Vinicius']\n"
          ]
        }
      ]
    },
    {
      "cell_type": "code",
      "source": [
        "# len(): retorna o tamanho da lista\n",
        "len(nomes)"
      ],
      "metadata": {
        "colab": {
          "base_uri": "https://localhost:8080/"
        },
        "id": "GlledqiPjCie",
        "outputId": "91e53158-66ae-47d2-d236-1bf939bb4e95"
      },
      "execution_count": null,
      "outputs": [
        {
          "output_type": "execute_result",
          "data": {
            "text/plain": [
              "11"
            ]
          },
          "metadata": {},
          "execution_count": 13
        }
      ]
    },
    {
      "cell_type": "code",
      "source": [
        "# O 4° nome dessa lista.\n",
        "print(nomes[3])\n",
        "\n",
        "# Os nomes do 2º ao 5° nome dessa lista.\n",
        "print(nomes[1:5])\n",
        "\n",
        "# O 8° nome da lista\n",
        "print(nomes[7])\n",
        "\n",
        "# Os nomes do 7º ao 10° nome dessa lista.\n",
        "print(nomes[6:10])"
      ],
      "metadata": {
        "colab": {
          "base_uri": "https://localhost:8080/"
        },
        "id": "dwVXVmOcjOGC",
        "outputId": "2e4eb3c7-8109-4ecd-ea32-6f8d81500a94"
      },
      "execution_count": null,
      "outputs": [
        {
          "output_type": "stream",
          "name": "stdout",
          "text": [
            "Felipe\n",
            "['Arthur', 'Carina', 'Felipe', 'Juliana']\n",
            "Lucas\n",
            "['Luane', 'Lucas', 'Marcos', 'Vanessa']\n"
          ]
        }
      ]
    },
    {
      "cell_type": "code",
      "source": [
        "# Inserindo valores em uma lista pelo método append\n",
        "# por padrão o método append vai inserir o elemento sempre na última posição\n",
        "# mantendo os demais que eventualmente já existam\n",
        "\n",
        "descarte = []\n",
        "print(descarte)\n",
        "\n",
        "descarte.append('bateria')\n",
        "print(descarte)\n",
        "\n",
        "descarte.append('mouse')\n",
        "print(descarte)\n",
        "\n",
        "descarte.append('cabo para Iphone')\n",
        "print(descarte)\n",
        "\n",
        "descarte.append('teclado')\n",
        "print(descarte)"
      ],
      "metadata": {
        "colab": {
          "base_uri": "https://localhost:8080/"
        },
        "id": "IXXd6sx7lYNK",
        "outputId": "afcaef97-17bc-4b0d-b5dd-89d0c6a3c8a1"
      },
      "execution_count": null,
      "outputs": [
        {
          "output_type": "stream",
          "name": "stdout",
          "text": [
            "[]\n",
            "['bateria']\n",
            "['bateria', 'mouse']\n",
            "['bateria', 'mouse', 'cabo para Iphone']\n",
            "['bateria', 'mouse', 'cabo para Iphone', 'teclado']\n"
          ]
        }
      ]
    },
    {
      "cell_type": "code",
      "source": [
        "# Método insert() insere um valor em qualquer lugar da lista\n",
        "descarte.insert(3, 'iphone')\n",
        "print(descarte)"
      ],
      "metadata": {
        "colab": {
          "base_uri": "https://localhost:8080/"
        },
        "id": "bIKObiS4nBzx",
        "outputId": "b9ef0a66-31f2-4b70-d57a-53025caa5f54"
      },
      "execution_count": null,
      "outputs": [
        {
          "output_type": "stream",
          "name": "stdout",
          "text": [
            "['bateria', 'mouse', 'cabo para Iphone', 'iphone', 'teclado']\n"
          ]
        }
      ]
    },
    {
      "cell_type": "code",
      "source": [
        "# Método remove() - remove o elemento que está dentro do parênteses\n",
        "descarte.remove('iphone')\n",
        "print(descarte)"
      ],
      "metadata": {
        "colab": {
          "base_uri": "https://localhost:8080/"
        },
        "id": "DXIsFzcNnesL",
        "outputId": "1c3dc932-1f64-42a1-cd92-ecbab2f7c798"
      },
      "execution_count": null,
      "outputs": [
        {
          "output_type": "stream",
          "name": "stdout",
          "text": [
            "['bateria', 'mouse', 'cabo para Iphone', 'teclado']\n"
          ]
        }
      ]
    },
    {
      "cell_type": "code",
      "source": [
        "# Método pop() remove o elemento pelo índice\n",
        "descarte.pop(0)\n",
        "print(descarte)"
      ],
      "metadata": {
        "colab": {
          "base_uri": "https://localhost:8080/"
        },
        "id": "aJF-fwovoPKR",
        "outputId": "a3926509-56b5-4e3c-b45d-9a8419c89685"
      },
      "execution_count": null,
      "outputs": [
        {
          "output_type": "stream",
          "name": "stdout",
          "text": [
            "['mouse', 'cabo para Iphone', 'teclado']\n"
          ]
        }
      ]
    },
    {
      "cell_type": "code",
      "source": [
        "print(descarte)"
      ],
      "metadata": {
        "colab": {
          "base_uri": "https://localhost:8080/"
        },
        "id": "U1piMlHVoDu4",
        "outputId": "9030bd44-26c4-4580-fda5-a35b63ebc96d"
      },
      "execution_count": null,
      "outputs": [
        {
          "output_type": "stream",
          "name": "stdout",
          "text": [
            "['mouse', 'cabo para Iphone', 'teclado']\n"
          ]
        }
      ]
    },
    {
      "cell_type": "code",
      "source": [
        "# Método reverse() inverte a ordem da lista\n",
        "descarte.reverse()\n",
        "print(descarte)"
      ],
      "metadata": {
        "colab": {
          "base_uri": "https://localhost:8080/"
        },
        "id": "mC3ku3qiosSp",
        "outputId": "a440b54d-08a9-45e1-cab2-09530cc46817"
      },
      "execution_count": null,
      "outputs": [
        {
          "output_type": "stream",
          "name": "stdout",
          "text": [
            "['teclado', 'cabo para Iphone', 'mouse']\n"
          ]
        }
      ]
    },
    {
      "cell_type": "code",
      "source": [
        "# Método copy() retorna uma cópia da lista\n",
        "descarte_bkp = descarte.copy()\n",
        "descarte_bkp"
      ],
      "metadata": {
        "colab": {
          "base_uri": "https://localhost:8080/"
        },
        "id": "78fVlb-BpNAn",
        "outputId": "bb43300a-71f8-4e06-c67c-a5f75ae8cef5"
      },
      "execution_count": null,
      "outputs": [
        {
          "output_type": "execute_result",
          "data": {
            "text/plain": [
              "['teclado', 'cabo para Iphone', 'mouse']"
            ]
          },
          "metadata": {},
          "execution_count": 8
        }
      ]
    },
    {
      "cell_type": "code",
      "source": [
        "# Concatenação de listas\n",
        "\n",
        "lista1 = [0, 1, 2, 3, 4]\n",
        "lista2 = [10, 11, 12, 13, 14]\n",
        "\n",
        "lista_oficial = lista1 + lista2\n",
        "lista_oficial"
      ],
      "metadata": {
        "colab": {
          "base_uri": "https://localhost:8080/"
        },
        "id": "Q71OZze1qchr",
        "outputId": "8a87676d-de23-4d34-dce1-a323b6a9799f"
      },
      "execution_count": null,
      "outputs": [
        {
          "output_type": "execute_result",
          "data": {
            "text/plain": [
              "[0, 1, 2, 3, 4, 10, 11, 12, 13, 14]"
            ]
          },
          "metadata": {},
          "execution_count": 10
        }
      ]
    }
  ]
}