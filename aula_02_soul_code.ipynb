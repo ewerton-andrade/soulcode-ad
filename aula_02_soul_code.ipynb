{
  "nbformat": 4,
  "nbformat_minor": 0,
  "metadata": {
    "colab": {
      "provenance": [],
      "include_colab_link": true
    },
    "kernelspec": {
      "name": "python3",
      "display_name": "Python 3"
    },
    "language_info": {
      "name": "python"
    }
  },
  "cells": [
    {
      "cell_type": "markdown",
      "metadata": {
        "id": "view-in-github",
        "colab_type": "text"
      },
      "source": [
        "<a href=\"https://colab.research.google.com/github/ewerton-andrade/soulcode-ad/blob/main/aula_02_soul_code.ipynb\" target=\"_parent\"><img src=\"https://colab.research.google.com/assets/colab-badge.svg\" alt=\"Open In Colab\"/></a>"
      ]
    },
    {
      "cell_type": "markdown",
      "source": [
        "# **Introdução ao Python**"
      ],
      "metadata": {
        "id": "uc-fkUZRI7jq"
      }
    },
    {
      "cell_type": "markdown",
      "source": [
        "Escola: SoulCode Academy\n",
        "\n",
        "Curso: Analista de Dados e Dashboards\n",
        "\n",
        "Período: Noturno\n",
        "\n",
        "Assunto: Python\n",
        "\n",
        "Professor: Franciane Rodrigues\n",
        "\n",
        "Aluno: Ewerton Lima de Andrade"
      ],
      "metadata": {
        "id": "FEPWx5SVgdbS"
      }
    },
    {
      "cell_type": "markdown",
      "source": [
        "## **Comentários e tipos básicos de dados**"
      ],
      "metadata": {
        "id": "OQtrDHyqJoUb"
      }
    },
    {
      "cell_type": "code",
      "source": [
        "print('Olá, mundo') # Usando aspas simples\n",
        "print(\"Olá, mundo\") # Usando aspas duplas"
      ],
      "metadata": {
        "colab": {
          "base_uri": "https://localhost:8080/"
        },
        "id": "257rQRm7Kq9A",
        "outputId": "8052c19d-699c-4583-c7d8-65f1a4a1b2d3"
      },
      "execution_count": null,
      "outputs": [
        {
          "output_type": "stream",
          "name": "stdout",
          "text": [
            "Olá, mundo\n",
            "Olá, mundo\n"
          ]
        }
      ]
    },
    {
      "cell_type": "code",
      "source": [
        "# Isso aqui é um comentário"
      ],
      "metadata": {
        "id": "io1ZV4IWOMy1"
      },
      "execution_count": null,
      "outputs": []
    },
    {
      "cell_type": "code",
      "source": [
        "'''\n",
        "Isso\n",
        "é um comentário\n",
        "longo ou grande\n",
        "'''"
      ],
      "metadata": {
        "colab": {
          "base_uri": "https://localhost:8080/",
          "height": 35
        },
        "id": "bwyxY4cXOZ7C",
        "outputId": "34e44f56-68be-4b0a-ce1e-9f50fb87cdfe"
      },
      "execution_count": null,
      "outputs": [
        {
          "output_type": "execute_result",
          "data": {
            "text/plain": [
              "'\\nIsso\\né um comentário\\nlongo ou grande\\n'"
            ],
            "application/vnd.google.colaboratory.intrinsic+json": {
              "type": "string"
            }
          },
          "metadata": {},
          "execution_count": 7
        }
      ]
    },
    {
      "cell_type": "code",
      "source": [
        "\"\"\"Isso aqui é um comentário\"\"\""
      ],
      "metadata": {
        "colab": {
          "base_uri": "https://localhost:8080/",
          "height": 35
        },
        "id": "B7VW2fG2O0Hx",
        "outputId": "536a2015-88d4-4240-975b-01d92add0041"
      },
      "execution_count": null,
      "outputs": [
        {
          "output_type": "execute_result",
          "data": {
            "text/plain": [
              "'Isso aqui é um comentário'"
            ],
            "application/vnd.google.colaboratory.intrinsic+json": {
              "type": "string"
            }
          },
          "metadata": {},
          "execution_count": 9
        }
      ]
    },
    {
      "cell_type": "code",
      "source": [
        "# Isso é\n",
        "# um\n",
        "# comentário"
      ],
      "metadata": {
        "id": "UDMk2cnzPWpR"
      },
      "execution_count": null,
      "outputs": []
    },
    {
      "cell_type": "code",
      "source": [
        "# Vamos escrever nossos dados pessoais e imprimir na tela\n",
        "print(34)           # int - numerica/quantitativa\n",
        "print(1.65)         # float - numérica / quantitativa\n",
        "print('Franciane')  # str (string) - valor que envolve escrita/caracteres - qualitativas/categóricas\n",
        "print(\"Rodrigues\")  # str (string) - valor que envolve escrita/caracteres - qualitativo/categóricas\n",
        "print(False)        # bool - boleanas - qualitativas/categóricas."
      ],
      "metadata": {
        "colab": {
          "base_uri": "https://localhost:8080/"
        },
        "id": "4jTZ4CeJPi2s",
        "outputId": "9ad6caea-6d4c-4fd8-d082-34e48518f92b"
      },
      "execution_count": null,
      "outputs": [
        {
          "output_type": "stream",
          "name": "stdout",
          "text": [
            "34\n",
            "1.65\n",
            "Franciane\n",
            "Rodrigues\n",
            "False\n"
          ]
        }
      ]
    },
    {
      "cell_type": "markdown",
      "source": [
        "## **Variáveis**"
      ],
      "metadata": {
        "id": "bPepMIQYWJLM"
      }
    },
    {
      "cell_type": "code",
      "source": [
        "# Declarando variáveis\n",
        "idade = 34\n",
        "altura = 1.65\n",
        "nome = 'Franciane'\n",
        "sobrenome = \"Rodrigues\"\n",
        "filhos = False"
      ],
      "metadata": {
        "id": "pJolenmzWNor"
      },
      "execution_count": null,
      "outputs": []
    },
    {
      "cell_type": "code",
      "source": [
        "# Imprimindo na tela\n",
        "print(idade)\n",
        "print(altura)\n",
        "print(nome)\n",
        "print(sobrenome)\n",
        "print(filhos)"
      ],
      "metadata": {
        "colab": {
          "base_uri": "https://localhost:8080/"
        },
        "id": "eT0w63uaYJax",
        "outputId": "e45e5836-9674-404b-c539-9db2b44eee8f"
      },
      "execution_count": null,
      "outputs": [
        {
          "output_type": "stream",
          "name": "stdout",
          "text": [
            "34\n",
            "1.65\n",
            "Franciane\n",
            "Rodrigues\n",
            "False\n"
          ]
        }
      ]
    },
    {
      "cell_type": "code",
      "source": [
        "# Imprimindo na tela: modo 2\n",
        "print(idade, altura, nome, sobrenome, filhos, sep=', ')"
      ],
      "metadata": {
        "colab": {
          "base_uri": "https://localhost:8080/"
        },
        "id": "pWbIqLdgZm9h",
        "outputId": "4e0a089f-1d44-4089-c7af-83370e37a551"
      },
      "execution_count": null,
      "outputs": [
        {
          "output_type": "stream",
          "name": "stdout",
          "text": [
            "34, 1.65, Franciane, Rodrigues, False\n"
          ]
        }
      ]
    },
    {
      "cell_type": "code",
      "source": [
        "# Checando o tipo de dado\n",
        "type(idade)"
      ],
      "metadata": {
        "colab": {
          "base_uri": "https://localhost:8080/"
        },
        "id": "B7vcRoKxaw1l",
        "outputId": "4912b986-dbd8-48c2-e55e-ad48ac7ec2a2"
      },
      "execution_count": null,
      "outputs": [
        {
          "output_type": "execute_result",
          "data": {
            "text/plain": [
              "int"
            ]
          },
          "metadata": {},
          "execution_count": 38
        }
      ]
    },
    {
      "cell_type": "code",
      "source": [
        "# Checando o tipo de dado guardado em cada variável\n",
        "print(type(idade))\n",
        "print(type(altura))\n",
        "print(type(nome))\n",
        "print(type(sobrenome))\n",
        "print(type(filhos))"
      ],
      "metadata": {
        "colab": {
          "base_uri": "https://localhost:8080/"
        },
        "id": "7h9q5UaJbXyM",
        "outputId": "543c6d4a-0df0-49e9-9d8e-4f306dca58ce"
      },
      "execution_count": null,
      "outputs": [
        {
          "output_type": "stream",
          "name": "stdout",
          "text": [
            "<class 'int'>\n",
            "<class 'float'>\n",
            "<class 'str'>\n",
            "<class 'str'>\n",
            "<class 'bool'>\n"
          ]
        }
      ]
    },
    {
      "cell_type": "code",
      "source": [
        "# Armazenando string e números\n",
        "nome_completo = 'Franciane Rodrigues'\n",
        "numero_fav = '34'"
      ],
      "metadata": {
        "id": "clk6APPwcF1C"
      },
      "execution_count": null,
      "outputs": []
    },
    {
      "cell_type": "code",
      "source": [
        "#Checando o tipo de variável\n",
        "print(type(nome_completo))\n",
        "print(type(numero_fav))"
      ],
      "metadata": {
        "colab": {
          "base_uri": "https://localhost:8080/"
        },
        "id": "rkjFhr4YcanE",
        "outputId": "71e75935-3e57-4e50-d33f-af52e9a09c47"
      },
      "execution_count": null,
      "outputs": [
        {
          "output_type": "stream",
          "name": "stdout",
          "text": [
            "<class 'str'>\n",
            "<class 'str'>\n"
          ]
        }
      ]
    },
    {
      "cell_type": "code",
      "source": [
        "# Atenção: o python é sensivel as letras maiusculas e minusculas\n",
        "nome = 'Franciane'\n",
        "print(nome)"
      ],
      "metadata": {
        "colab": {
          "base_uri": "https://localhost:8080/"
        },
        "id": "7IaIldeJdE0S",
        "outputId": "52eaab9b-dfc1-41d0-851b-5a131fcd4b7d"
      },
      "execution_count": null,
      "outputs": [
        {
          "output_type": "stream",
          "name": "stdout",
          "text": [
            "Franciane\n"
          ]
        }
      ]
    },
    {
      "cell_type": "code",
      "source": [
        "# Chamando variável com letra minuscula\n",
        "print(Nome)"
      ],
      "metadata": {
        "id": "mJ-haTr7dnRU",
        "colab": {
          "base_uri": "https://localhost:8080/",
          "height": 162
        },
        "outputId": "4345f368-4aaf-4a20-8256-5981b7fe8da9"
      },
      "execution_count": null,
      "outputs": [
        {
          "output_type": "error",
          "ename": "NameError",
          "evalue": "name 'Nome' is not defined",
          "traceback": [
            "\u001b[0;31m---------------------------------------------------------------------------\u001b[0m",
            "\u001b[0;31mNameError\u001b[0m                                 Traceback (most recent call last)",
            "\u001b[0;32m<ipython-input-2-8767a8f99451>\u001b[0m in \u001b[0;36m<cell line: 2>\u001b[0;34m()\u001b[0m\n\u001b[1;32m      1\u001b[0m \u001b[0;31m# Chamando variável com letra minuscula\u001b[0m\u001b[0;34m\u001b[0m\u001b[0;34m\u001b[0m\u001b[0m\n\u001b[0;32m----> 2\u001b[0;31m \u001b[0mprint\u001b[0m\u001b[0;34m(\u001b[0m\u001b[0mNome\u001b[0m\u001b[0;34m)\u001b[0m\u001b[0;34m\u001b[0m\u001b[0;34m\u001b[0m\u001b[0m\n\u001b[0m",
            "\u001b[0;31mNameError\u001b[0m: name 'Nome' is not defined"
          ]
        }
      ]
    }
  ]
}